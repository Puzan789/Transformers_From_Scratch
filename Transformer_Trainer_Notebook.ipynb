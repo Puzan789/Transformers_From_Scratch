{
  "cells": [
    {
      "cell_type": "code",
      "execution_count": 175,
      "metadata": {
        "id": "FOwRggVcwtzP"
      },
      "outputs": [],
      "source": [
        "from BuildingaTransformer.transformer import Transformer # this is the transformer.py file\n",
        "import torch\n",
        "import numpy as np"
      ]
    },
    {
      "cell_type": "code",
      "execution_count": 176,
      "metadata": {},
      "outputs": [],
      "source": [
        "english_file = 'nepalidataset/english.txt' \n",
        "kannada_file = 'nepalidataset/nepali.txt' "
      ]
    },
    {
      "cell_type": "code",
      "execution_count": 177,
      "metadata": {},
      "outputs": [],
      "source": [
        "with open(kannada_file, 'r', encoding='utf-8') as file:\n",
        "    kannada_sentences = file.readlines()\n",
        "\n",
        "with open(english_file, 'r', encoding='utf-8') as file:\n",
        "    english_sentences = file.readlines()"
      ]
    },
    {
      "cell_type": "code",
      "execution_count": 178,
      "metadata": {},
      "outputs": [
        {
          "name": "stdout",
          "output_type": "stream",
          "text": [
            "31498\n"
          ]
        }
      ],
      "source": [
        "print(len(english_sentences))"
      ]
    },
    {
      "cell_type": "code",
      "execution_count": 179,
      "metadata": {},
      "outputs": [
        {
          "name": "stdout",
          "output_type": "stream",
          "text": [
            "['Chapter 1', 'God created the sky and the earth.', \"At first, the earth was completely empty. There was nothing on the earth. Darkness covered the ocean, and God's Spirit moved over the water.\", 'Then God said, \"Let there be light!\" And light began to shine.', 'He saw the light, and he knew that it was good. Then he separated the light from the darkness.', 'God named the light \"day,\" and he named the darkness \"night.\" There was evening, and then there was morning. This was the first day.', 'Then God said, \"Let there be a space to separate the water into two parts!\"', 'So God made the space and separated the water. Some of the water was above it, and some of the water was below it.', 'God named that space \"sky.\" There was evening, and then there was morning. This was the second day.', 'Then God said, \"Let the water under the sky be gathered together so that the dry land will appear.\" And it happened.']\n",
            "['अध्याय १', 'आरम्भमा परमेश्वरले आकाश र पृथ्वी सृष्टि गर्नु भयो।', 'पृथ्वी शून्य थियो, पृथ्वीमा केही पनि थिएन। समुद्रलाई अँध्यारोले ढाकेको थियो अनि परमेश्वरको आत्मा पानीमाथि परिभ्रमण गरिरहन्थ्यो।', 'तब परमेश्वरले भन्नुभयो, \"उज्यालो होस्!\" अनि उज्यालो चम्कन थाल्यो।', 'परमेश्वरले उज्यालो देख्नु भयो अनि त्यसलाई असल मान्नु भयो। तब परमेश्वरले उज्यालो र अँध्यारोलाई छुट्याउनु भयो।', 'परमेश्वरले उज्यालोलाई \"दिन\" र अँध्यारोलाई \"रात\" नाउँ दिनु भयो। साँझ पर्यो अनि बिहान भयो। यो पहिलो दिन थियो।', 'तब परमेश्वरले भन्नुभयो, \"पानीलाई दुइ भाग पार्न त्यहाँ बतास होस्!\"', 'यसर्थ परमेश्वरले त्यहाँ बतास सृष्टि गर्नुभयो अनि पानी छुट्टियो। केही पानी बतासमाथि रहयो अनि केही पानी बतास मुनि।', 'परमेश्वरले त्यस बतासलाई \"आकाश\" नाउँ दिनु भयो। साँझ पर्यो अनि बिहान भयो। यो दोस्रो दिन थियो।', 'तब परमेश्वरले भन्नुभयो, \"आकाश मुनिको पानी एकै ठाउँमा जम्मा होस्, र त्यहाँ सुख्खा भूमि देखियोस्।\" अनि त्यस्तै भयो।']\n"
          ]
        }
      ],
      "source": [
        "\n",
        "kannada_sentences = [sentence.replace('\\ufeff', '').strip() for sentence in kannada_sentences]\n",
        "english_sentences = [sentence.replace('\\ufeff', '').strip() for sentence in english_sentences]\n",
        "\n",
        "# Example: print the first 10 sentences to verify\n",
        "print(english_sentences[:10])\n",
        "print(kannada_sentences[:10])\n"
      ]
    },
    {
      "cell_type": "code",
      "execution_count": 180,
      "metadata": {
        "id": "6TApzOj5xCwR"
      },
      "outputs": [
        {
          "name": "stdout",
          "output_type": "stream",
          "text": [
            "Unique English tokens: ' ', '!', '\"', ''', '(', ')', ',', '-', '.', '/', '0', '1', '2', '3', '4', '5', '6', '7', '8', '9', ':', ';', '?', 'A', 'B', 'C', 'D', 'E', 'F', 'G', 'H', 'I', 'J', 'K', 'L', 'M', 'N', 'O', 'P', 'Q', 'R', 'S', 'T', 'U', 'V', 'W', 'X', 'Y', 'Z', 'a', 'b', 'c', 'd', 'e', 'f', 'g', 'h', 'i', 'j', 'k', 'l', 'm', 'n', 'o', 'p', 'q', 'r', 's', 't', 'u', 'v', 'w', 'x', 'y', 'z', 'é', '—', '…'\n",
            "Number of unique English tokens: 81\n",
            "Unique Kannada tokens: ' ', '!', '\"', '#', ''', '(', ')', ',', '-', '.', '/', ':', ';', '?', 'a', 'e', 'i', 'v', 'x', 'ँ', 'ं', 'ः', 'अ', 'आ', 'इ', 'ई', 'उ', 'ऊ', 'ऋ', 'ए', 'ऐ', 'ओ', 'औ', 'क', 'ख', 'ग', 'घ', 'ङ', 'च', 'छ', 'ज', 'झ', 'ञ', 'ट', 'ठ', 'ड', 'ढ', 'ण', 'त', 'थ', 'द', 'ध', 'न', 'प', 'फ', 'ब', 'भ', 'म', 'य', 'र', 'ल', 'व', 'श', 'ष', 'स', 'ह', '़', 'ा', 'ि', 'ी', 'ु', 'ू', 'ृ', 'े', 'ै', 'ो', 'ौ', '्', '।', '०', '१', '२', '३', '४', '५', '६', '७', '८', '९', '‌', '—', '…'\n",
            "Number of unique Kannada tokens: 95\n"
          ]
        }
      ],
      "source": [
        "START_TOKEN = '<START>'\n",
        "PADDING_TOKEN = '<PADDING>'\n",
        "END_TOKEN = '<END>'\n",
        "\n",
        "    # Create sets to store unique characters for each language\n",
        "unique_english_tokens = set()\n",
        "unique_kannada_tokens = set()\n",
        "\n",
        "# Iterate over each English sentence and add characters to the set\n",
        "for sentence in english_sentences:\n",
        "    unique_english_tokens.update(sentence)\n",
        "\n",
        "# Iterate over each Kannada sentence and add characters to the set\n",
        "for sentence in kannada_sentences:\n",
        "    unique_kannada_tokens.update(sentence)\n",
        "\n",
        "# Convert the sets to sorted lists (optional, for easier inspection)\n",
        "unique_english_tokens = sorted(unique_english_tokens)\n",
        "unique_kannada_tokens = sorted(unique_kannada_tokens)\n",
        "\n",
        "# Convert the lists to strings with characters enclosed in single quotes and separated by commas\n",
        "unique_english_tokens_str = ', '.join(f\"'{token}'\" for token in unique_english_tokens)\n",
        "unique_kannada_tokens_str = ', '.join(f\"'{token}'\" for token in unique_kannada_tokens)\n",
        "\n",
        "\n",
        "\n",
        "\n",
        "unique_english_tokens.insert(0, START_TOKEN)\n",
        "unique_kannada_tokens.insert(0, START_TOKEN)\n",
        "\n",
        "unique_english_tokens.append(PADDING_TOKEN)\n",
        "unique_kannada_tokens.append(PADDING_TOKEN)\n",
        "\n",
        "unique_english_tokens.append(END_TOKEN)\n",
        "unique_kannada_tokens.append(END_TOKEN)\n",
        "\n",
        "print(f\"Unique English tokens: {unique_english_tokens_str}\")\n",
        "print(f\"Number of unique English tokens: {len(unique_english_tokens)}\")\n",
        "\n",
        "print(f\"Unique Kannada tokens: {unique_kannada_tokens_str}\")\n",
        "print(f\"Number of unique Kannada tokens: {len(unique_kannada_tokens)}\")\n"
      ]
    },
    {
      "cell_type": "code",
      "execution_count": 181,
      "metadata": {},
      "outputs": [],
      "source": [
        "english_vocabulary =unique_english_tokens\n",
        "kannada_vocabulary=unique_kannada_tokens"
      ]
    },
    {
      "cell_type": "code",
      "execution_count": 182,
      "metadata": {},
      "outputs": [
        {
          "data": {
            "text/plain": [
              "['<START>',\n",
              " ' ',\n",
              " '!',\n",
              " '\"',\n",
              " \"'\",\n",
              " '(',\n",
              " ')',\n",
              " ',',\n",
              " '-',\n",
              " '.',\n",
              " '/',\n",
              " '0',\n",
              " '1',\n",
              " '2',\n",
              " '3',\n",
              " '4',\n",
              " '5',\n",
              " '6',\n",
              " '7',\n",
              " '8',\n",
              " '9',\n",
              " ':',\n",
              " ';',\n",
              " '?',\n",
              " 'A',\n",
              " 'B',\n",
              " 'C',\n",
              " 'D',\n",
              " 'E',\n",
              " 'F',\n",
              " 'G',\n",
              " 'H',\n",
              " 'I',\n",
              " 'J',\n",
              " 'K',\n",
              " 'L',\n",
              " 'M',\n",
              " 'N',\n",
              " 'O',\n",
              " 'P',\n",
              " 'Q',\n",
              " 'R',\n",
              " 'S',\n",
              " 'T',\n",
              " 'U',\n",
              " 'V',\n",
              " 'W',\n",
              " 'X',\n",
              " 'Y',\n",
              " 'Z',\n",
              " 'a',\n",
              " 'b',\n",
              " 'c',\n",
              " 'd',\n",
              " 'e',\n",
              " 'f',\n",
              " 'g',\n",
              " 'h',\n",
              " 'i',\n",
              " 'j',\n",
              " 'k',\n",
              " 'l',\n",
              " 'm',\n",
              " 'n',\n",
              " 'o',\n",
              " 'p',\n",
              " 'q',\n",
              " 'r',\n",
              " 's',\n",
              " 't',\n",
              " 'u',\n",
              " 'v',\n",
              " 'w',\n",
              " 'x',\n",
              " 'y',\n",
              " 'z',\n",
              " 'é',\n",
              " '—',\n",
              " '…',\n",
              " '<PADDING>',\n",
              " '<END>']"
            ]
          },
          "execution_count": 182,
          "metadata": {},
          "output_type": "execute_result"
        }
      ],
      "source": [
        "english_vocabulary"
      ]
    },
    {
      "cell_type": "code",
      "execution_count": 183,
      "metadata": {
        "id": "gA8ESmCrNoc7"
      },
      "outputs": [],
      "source": [
        "index_to_kannada = {k:v for k,v in enumerate(kannada_vocabulary)}\n",
        "kannada_to_index = {v:k for k,v in enumerate(kannada_vocabulary)}\n",
        "index_to_english = {k:v for k,v in enumerate(english_vocabulary)}\n",
        "english_to_index = {v:k for k,v in enumerate(english_vocabulary)}"
      ]
    },
    {
      "cell_type": "code",
      "execution_count": null,
      "metadata": {
        "id": "9SYGjRdoxRg-"
      },
      "outputs": [],
      "source": []
    },
    {
      "cell_type": "code",
      "execution_count": 184,
      "metadata": {
        "colab": {
          "base_uri": "https://localhost:8080/"
        },
        "id": "CUB-BkgFxXfM",
        "outputId": "bcf7e19c-d1df-4b69-bdfa-eb74ac1a4338"
      },
      "outputs": [
        {
          "data": {
            "text/plain": [
              "['Chapter 1',\n",
              " 'God created the sky and the earth.',\n",
              " \"At first, the earth was completely empty. There was nothing on the earth. Darkness covered the ocean, and God's Spirit moved over the water.\",\n",
              " 'Then God said, \"Let there be light!\" And light began to shine.',\n",
              " 'He saw the light, and he knew that it was good. Then he separated the light from the darkness.',\n",
              " 'God named the light \"day,\" and he named the darkness \"night.\" There was evening, and then there was morning. This was the first day.',\n",
              " 'Then God said, \"Let there be a space to separate the water into two parts!\"',\n",
              " 'So God made the space and separated the water. Some of the water was above it, and some of the water was below it.',\n",
              " 'God named that space \"sky.\" There was evening, and then there was morning. This was the second day.',\n",
              " 'Then God said, \"Let the water under the sky be gathered together so that the dry land will appear.\" And it happened.']"
            ]
          },
          "execution_count": 184,
          "metadata": {},
          "output_type": "execute_result"
        }
      ],
      "source": [
        "english_sentences[:10]"
      ]
    },
    {
      "cell_type": "code",
      "execution_count": 185,
      "metadata": {
        "colab": {
          "base_uri": "https://localhost:8080/"
        },
        "id": "8OT-aznAxc5U",
        "outputId": "716c4145-fdc2-4bb0-e883-c3dcad30c2da"
      },
      "outputs": [
        {
          "name": "stdout",
          "output_type": "stream",
          "text": [
            "[9, 34, 140, 62]\n"
          ]
        }
      ],
      "source": [
        "print([len(x) for x in english_sentences[0:4]])"
      ]
    },
    {
      "cell_type": "code",
      "execution_count": 186,
      "metadata": {
        "colab": {
          "base_uri": "https://localhost:8080/"
        },
        "id": "HG9ezqvaxl4b",
        "outputId": "d13be774-ca07-4333-856e-76186f71caae"
      },
      "outputs": [
        {
          "name": "stdout",
          "output_type": "stream",
          "text": [
            "97th percentile length Kannada: 295.0\n",
            "97th percentile length English: 289.0\n",
            "Number of sentences: 31498\n",
            "Number of valid sentences: 28413\n",
            "Number of invalid sentences due to length: 3085\n",
            "Number of invalid sentences due to tokens: 0\n"
          ]
        }
      ],
      "source": [
        "import numpy as np\n",
        "\n",
        "PERCENTILE = 97\n",
        "print(f\"{PERCENTILE}th percentile length Kannada: {np.percentile([len(x) for x in kannada_sentences], PERCENTILE)}\")\n",
        "print(f\"{PERCENTILE}th percentile length English: {np.percentile([len(x) for x in english_sentences], PERCENTILE)}\")\n",
        "\n",
        "max_sequence_length = 250\n",
        "\n",
        "def is_valid_tokens(sentence, vocab):\n",
        "    for token in list(set(sentence)):\n",
        "        if token not in vocab:\n",
        "            return False\n",
        "    return True\n",
        "\n",
        "def is_valid_length(sentence, max_sequence_length):\n",
        "    return len(list(sentence)) < (max_sequence_length - 1) # need to re-add the end token so leaving 1 space\n",
        "\n",
        "valid_sentence_indices = []\n",
        "invalid_length_count = 0\n",
        "invalid_tokens_count = 0\n",
        "\n",
        "for index in range(len(kannada_sentences)):\n",
        "    kannada_sentence, english_sentence = kannada_sentences[index], english_sentences[index]\n",
        "    if is_valid_length(kannada_sentence, max_sequence_length) \\\n",
        "       and is_valid_length(english_sentence, max_sequence_length) \\\n",
        "       and is_valid_tokens(kannada_sentence, kannada_vocabulary):\n",
        "        valid_sentence_indices.append(index)\n",
        "    else:\n",
        "        if not is_valid_length(kannada_sentence, max_sequence_length) or not is_valid_length(english_sentence, max_sequence_length):\n",
        "            invalid_length_count += 1\n",
        "        if not is_valid_tokens(kannada_sentence, kannada_vocabulary):\n",
        "            invalid_tokens_count += 1\n",
        "\n",
        "print(f\"Number of sentences: {len(kannada_sentences)}\")\n",
        "print(f\"Number of valid sentences: {len(valid_sentence_indices)}\")\n",
        "print(f\"Number of invalid sentences due to length: {invalid_length_count}\")\n",
        "print(f\"Number of invalid sentences due to tokens: {invalid_tokens_count}\")\n"
      ]
    },
    {
      "cell_type": "code",
      "execution_count": 187,
      "metadata": {},
      "outputs": [
        {
          "name": "stdout",
          "output_type": "stream",
          "text": [
            "28413\n"
          ]
        }
      ],
      "source": [
        "print(len(valid_sentence_indices))"
      ]
    },
    {
      "cell_type": "code",
      "execution_count": 188,
      "metadata": {},
      "outputs": [],
      "source": [
        "kannada_sentences=[kannada_sentences[i] for i in valid_sentence_indices]\n",
        "english_sentences=[english_sentences[i] for i in valid_sentence_indices]\n"
      ]
    },
    {
      "cell_type": "code",
      "execution_count": 189,
      "metadata": {},
      "outputs": [
        {
          "name": "stdout",
          "output_type": "stream",
          "text": [
            "28413\n"
          ]
        }
      ],
      "source": [
        "print(len(kannada_sentences))"
      ]
    },
    {
      "cell_type": "code",
      "execution_count": 190,
      "metadata": {},
      "outputs": [
        {
          "name": "stdout",
          "output_type": "stream",
          "text": [
            "28413\n"
          ]
        }
      ],
      "source": [
        "print(len(english_sentences))"
      ]
    },
    {
      "cell_type": "code",
      "execution_count": 191,
      "metadata": {
        "colab": {
          "base_uri": "https://localhost:8080/"
        },
        "id": "35xhLztQiLIQ",
        "outputId": "aa70ad04-2e45-4c78-c852-61e92c51a96a"
      },
      "outputs": [
        {
          "name": "stdout",
          "output_type": "stream",
          "text": [
            "28413\n"
          ]
        }
      ],
      "source": [
        "print(len(valid_sentence_indices))"
      ]
    },
    {
      "cell_type": "code",
      "execution_count": 192,
      "metadata": {
        "id": "xqOFnclmyxAE"
      },
      "outputs": [],
      "source": [
        "import torch\n",
        "\n",
        "d_model = 512\n",
        "batch_size = 64\n",
        "ffn_hidden = 2048\n",
        "num_heads = 8\n",
        "drop_prob = 0.1\n",
        "num_layers = 5\n",
        "max_sequence_length = 250\n",
        "kn_vocab_size = len(kannada_vocabulary)\n",
        "\n",
        "transformer = Transformer(d_model, \n",
        "                          ffn_hidden,\n",
        "                          num_heads, \n",
        "                          drop_prob, \n",
        "                          num_layers, \n",
        "                          max_sequence_length,\n",
        "                          kn_vocab_size,\n",
        "                          english_to_index,\n",
        "                          kannada_to_index,\n",
        "                          START_TOKEN, \n",
        "                          END_TOKEN, \n",
        "                          PADDING_TOKEN)"
      ]
    },
    {
      "cell_type": "code",
      "execution_count": 193,
      "metadata": {
        "colab": {
          "base_uri": "https://localhost:8080/"
        },
        "id": "Zc2hYQk9yxX0",
        "outputId": "c060f588-6a2e-4179-9475-5acafd641f1f"
      },
      "outputs": [
        {
          "data": {
            "text/plain": [
              "Transformer(\n",
              "  (encoder): Encoder(\n",
              "    (sentence_embedding): SentenceEmbedding(\n",
              "      (embedding): Embedding(81, 512)\n",
              "      (position_encoder): PositionalEncoding()\n",
              "      (dropout): Dropout(p=0.1, inplace=False)\n",
              "    )\n",
              "    (layers): SequentialEncoder(\n",
              "      (0): EncoderLayer(\n",
              "        (attention): MultiHeadAttention(\n",
              "          (qkv_layer): Linear(in_features=512, out_features=1536, bias=True)\n",
              "          (linear_layer): Linear(in_features=512, out_features=512, bias=True)\n",
              "        )\n",
              "        (norm1): LayerNormalization()\n",
              "        (dropout1): Dropout(p=0.1, inplace=False)\n",
              "        (ffn): PositionwiseFeedForward(\n",
              "          (linear1): Linear(in_features=512, out_features=2048, bias=True)\n",
              "          (linear2): Linear(in_features=2048, out_features=512, bias=True)\n",
              "          (relu): ReLU()\n",
              "          (dropout): Dropout(p=0.1, inplace=False)\n",
              "        )\n",
              "        (norm2): LayerNormalization()\n",
              "        (dropout2): Dropout(p=0.1, inplace=False)\n",
              "      )\n",
              "      (1): EncoderLayer(\n",
              "        (attention): MultiHeadAttention(\n",
              "          (qkv_layer): Linear(in_features=512, out_features=1536, bias=True)\n",
              "          (linear_layer): Linear(in_features=512, out_features=512, bias=True)\n",
              "        )\n",
              "        (norm1): LayerNormalization()\n",
              "        (dropout1): Dropout(p=0.1, inplace=False)\n",
              "        (ffn): PositionwiseFeedForward(\n",
              "          (linear1): Linear(in_features=512, out_features=2048, bias=True)\n",
              "          (linear2): Linear(in_features=2048, out_features=512, bias=True)\n",
              "          (relu): ReLU()\n",
              "          (dropout): Dropout(p=0.1, inplace=False)\n",
              "        )\n",
              "        (norm2): LayerNormalization()\n",
              "        (dropout2): Dropout(p=0.1, inplace=False)\n",
              "      )\n",
              "      (2): EncoderLayer(\n",
              "        (attention): MultiHeadAttention(\n",
              "          (qkv_layer): Linear(in_features=512, out_features=1536, bias=True)\n",
              "          (linear_layer): Linear(in_features=512, out_features=512, bias=True)\n",
              "        )\n",
              "        (norm1): LayerNormalization()\n",
              "        (dropout1): Dropout(p=0.1, inplace=False)\n",
              "        (ffn): PositionwiseFeedForward(\n",
              "          (linear1): Linear(in_features=512, out_features=2048, bias=True)\n",
              "          (linear2): Linear(in_features=2048, out_features=512, bias=True)\n",
              "          (relu): ReLU()\n",
              "          (dropout): Dropout(p=0.1, inplace=False)\n",
              "        )\n",
              "        (norm2): LayerNormalization()\n",
              "        (dropout2): Dropout(p=0.1, inplace=False)\n",
              "      )\n",
              "      (3): EncoderLayer(\n",
              "        (attention): MultiHeadAttention(\n",
              "          (qkv_layer): Linear(in_features=512, out_features=1536, bias=True)\n",
              "          (linear_layer): Linear(in_features=512, out_features=512, bias=True)\n",
              "        )\n",
              "        (norm1): LayerNormalization()\n",
              "        (dropout1): Dropout(p=0.1, inplace=False)\n",
              "        (ffn): PositionwiseFeedForward(\n",
              "          (linear1): Linear(in_features=512, out_features=2048, bias=True)\n",
              "          (linear2): Linear(in_features=2048, out_features=512, bias=True)\n",
              "          (relu): ReLU()\n",
              "          (dropout): Dropout(p=0.1, inplace=False)\n",
              "        )\n",
              "        (norm2): LayerNormalization()\n",
              "        (dropout2): Dropout(p=0.1, inplace=False)\n",
              "      )\n",
              "      (4): EncoderLayer(\n",
              "        (attention): MultiHeadAttention(\n",
              "          (qkv_layer): Linear(in_features=512, out_features=1536, bias=True)\n",
              "          (linear_layer): Linear(in_features=512, out_features=512, bias=True)\n",
              "        )\n",
              "        (norm1): LayerNormalization()\n",
              "        (dropout1): Dropout(p=0.1, inplace=False)\n",
              "        (ffn): PositionwiseFeedForward(\n",
              "          (linear1): Linear(in_features=512, out_features=2048, bias=True)\n",
              "          (linear2): Linear(in_features=2048, out_features=512, bias=True)\n",
              "          (relu): ReLU()\n",
              "          (dropout): Dropout(p=0.1, inplace=False)\n",
              "        )\n",
              "        (norm2): LayerNormalization()\n",
              "        (dropout2): Dropout(p=0.1, inplace=False)\n",
              "      )\n",
              "    )\n",
              "  )\n",
              "  (decoder): Decoder(\n",
              "    (sentence_embedding): SentenceEmbedding(\n",
              "      (embedding): Embedding(95, 512)\n",
              "      (position_encoder): PositionalEncoding()\n",
              "      (dropout): Dropout(p=0.1, inplace=False)\n",
              "    )\n",
              "    (layers): SequentialDecoder(\n",
              "      (0): DecoderLayer(\n",
              "        (self_attention): MultiHeadAttention(\n",
              "          (qkv_layer): Linear(in_features=512, out_features=1536, bias=True)\n",
              "          (linear_layer): Linear(in_features=512, out_features=512, bias=True)\n",
              "        )\n",
              "        (layer_norm1): LayerNormalization()\n",
              "        (dropout1): Dropout(p=0.1, inplace=False)\n",
              "        (encoder_decoder_attention): MultiHeadCrossAttention(\n",
              "          (kv_layer): Linear(in_features=512, out_features=1024, bias=True)\n",
              "          (q_layer): Linear(in_features=512, out_features=512, bias=True)\n",
              "          (linear_layer): Linear(in_features=512, out_features=512, bias=True)\n",
              "        )\n",
              "        (layer_norm2): LayerNormalization()\n",
              "        (dropout2): Dropout(p=0.1, inplace=False)\n",
              "        (ffn): PositionwiseFeedForward(\n",
              "          (linear1): Linear(in_features=512, out_features=2048, bias=True)\n",
              "          (linear2): Linear(in_features=2048, out_features=512, bias=True)\n",
              "          (relu): ReLU()\n",
              "          (dropout): Dropout(p=0.1, inplace=False)\n",
              "        )\n",
              "        (layer_norm3): LayerNormalization()\n",
              "        (dropout3): Dropout(p=0.1, inplace=False)\n",
              "      )\n",
              "      (1): DecoderLayer(\n",
              "        (self_attention): MultiHeadAttention(\n",
              "          (qkv_layer): Linear(in_features=512, out_features=1536, bias=True)\n",
              "          (linear_layer): Linear(in_features=512, out_features=512, bias=True)\n",
              "        )\n",
              "        (layer_norm1): LayerNormalization()\n",
              "        (dropout1): Dropout(p=0.1, inplace=False)\n",
              "        (encoder_decoder_attention): MultiHeadCrossAttention(\n",
              "          (kv_layer): Linear(in_features=512, out_features=1024, bias=True)\n",
              "          (q_layer): Linear(in_features=512, out_features=512, bias=True)\n",
              "          (linear_layer): Linear(in_features=512, out_features=512, bias=True)\n",
              "        )\n",
              "        (layer_norm2): LayerNormalization()\n",
              "        (dropout2): Dropout(p=0.1, inplace=False)\n",
              "        (ffn): PositionwiseFeedForward(\n",
              "          (linear1): Linear(in_features=512, out_features=2048, bias=True)\n",
              "          (linear2): Linear(in_features=2048, out_features=512, bias=True)\n",
              "          (relu): ReLU()\n",
              "          (dropout): Dropout(p=0.1, inplace=False)\n",
              "        )\n",
              "        (layer_norm3): LayerNormalization()\n",
              "        (dropout3): Dropout(p=0.1, inplace=False)\n",
              "      )\n",
              "      (2): DecoderLayer(\n",
              "        (self_attention): MultiHeadAttention(\n",
              "          (qkv_layer): Linear(in_features=512, out_features=1536, bias=True)\n",
              "          (linear_layer): Linear(in_features=512, out_features=512, bias=True)\n",
              "        )\n",
              "        (layer_norm1): LayerNormalization()\n",
              "        (dropout1): Dropout(p=0.1, inplace=False)\n",
              "        (encoder_decoder_attention): MultiHeadCrossAttention(\n",
              "          (kv_layer): Linear(in_features=512, out_features=1024, bias=True)\n",
              "          (q_layer): Linear(in_features=512, out_features=512, bias=True)\n",
              "          (linear_layer): Linear(in_features=512, out_features=512, bias=True)\n",
              "        )\n",
              "        (layer_norm2): LayerNormalization()\n",
              "        (dropout2): Dropout(p=0.1, inplace=False)\n",
              "        (ffn): PositionwiseFeedForward(\n",
              "          (linear1): Linear(in_features=512, out_features=2048, bias=True)\n",
              "          (linear2): Linear(in_features=2048, out_features=512, bias=True)\n",
              "          (relu): ReLU()\n",
              "          (dropout): Dropout(p=0.1, inplace=False)\n",
              "        )\n",
              "        (layer_norm3): LayerNormalization()\n",
              "        (dropout3): Dropout(p=0.1, inplace=False)\n",
              "      )\n",
              "      (3): DecoderLayer(\n",
              "        (self_attention): MultiHeadAttention(\n",
              "          (qkv_layer): Linear(in_features=512, out_features=1536, bias=True)\n",
              "          (linear_layer): Linear(in_features=512, out_features=512, bias=True)\n",
              "        )\n",
              "        (layer_norm1): LayerNormalization()\n",
              "        (dropout1): Dropout(p=0.1, inplace=False)\n",
              "        (encoder_decoder_attention): MultiHeadCrossAttention(\n",
              "          (kv_layer): Linear(in_features=512, out_features=1024, bias=True)\n",
              "          (q_layer): Linear(in_features=512, out_features=512, bias=True)\n",
              "          (linear_layer): Linear(in_features=512, out_features=512, bias=True)\n",
              "        )\n",
              "        (layer_norm2): LayerNormalization()\n",
              "        (dropout2): Dropout(p=0.1, inplace=False)\n",
              "        (ffn): PositionwiseFeedForward(\n",
              "          (linear1): Linear(in_features=512, out_features=2048, bias=True)\n",
              "          (linear2): Linear(in_features=2048, out_features=512, bias=True)\n",
              "          (relu): ReLU()\n",
              "          (dropout): Dropout(p=0.1, inplace=False)\n",
              "        )\n",
              "        (layer_norm3): LayerNormalization()\n",
              "        (dropout3): Dropout(p=0.1, inplace=False)\n",
              "      )\n",
              "      (4): DecoderLayer(\n",
              "        (self_attention): MultiHeadAttention(\n",
              "          (qkv_layer): Linear(in_features=512, out_features=1536, bias=True)\n",
              "          (linear_layer): Linear(in_features=512, out_features=512, bias=True)\n",
              "        )\n",
              "        (layer_norm1): LayerNormalization()\n",
              "        (dropout1): Dropout(p=0.1, inplace=False)\n",
              "        (encoder_decoder_attention): MultiHeadCrossAttention(\n",
              "          (kv_layer): Linear(in_features=512, out_features=1024, bias=True)\n",
              "          (q_layer): Linear(in_features=512, out_features=512, bias=True)\n",
              "          (linear_layer): Linear(in_features=512, out_features=512, bias=True)\n",
              "        )\n",
              "        (layer_norm2): LayerNormalization()\n",
              "        (dropout2): Dropout(p=0.1, inplace=False)\n",
              "        (ffn): PositionwiseFeedForward(\n",
              "          (linear1): Linear(in_features=512, out_features=2048, bias=True)\n",
              "          (linear2): Linear(in_features=2048, out_features=512, bias=True)\n",
              "          (relu): ReLU()\n",
              "          (dropout): Dropout(p=0.1, inplace=False)\n",
              "        )\n",
              "        (layer_norm3): LayerNormalization()\n",
              "        (dropout3): Dropout(p=0.1, inplace=False)\n",
              "      )\n",
              "    )\n",
              "  )\n",
              "  (linear): Linear(in_features=512, out_features=95, bias=True)\n",
              ")"
            ]
          },
          "execution_count": 193,
          "metadata": {},
          "output_type": "execute_result"
        }
      ],
      "source": [
        "transformer"
      ]
    },
    {
      "cell_type": "code",
      "execution_count": 194,
      "metadata": {
        "id": "asUJX-STy7fg"
      },
      "outputs": [],
      "source": [
        "from torch.utils.data import Dataset, DataLoader\n",
        "\n",
        "class TextDataset(Dataset):\n",
        "\n",
        "    def __init__(self, english_sentences, kannada_sentences):\n",
        "        self.english_sentences = english_sentences\n",
        "        self.kannada_sentences = kannada_sentences\n",
        "\n",
        "    def __len__(self):\n",
        "        return len(self.english_sentences)\n",
        "\n",
        "    def __getitem__(self, idx):\n",
        "        return self.english_sentences[idx], self.kannada_sentences[idx]"
      ]
    },
    {
      "cell_type": "code",
      "execution_count": 195,
      "metadata": {
        "id": "-auNWjkdzDge"
      },
      "outputs": [],
      "source": [
        "dataset = TextDataset(english_sentences,kannada_sentences)"
      ]
    },
    {
      "cell_type": "code",
      "execution_count": 196,
      "metadata": {
        "colab": {
          "base_uri": "https://localhost:8080/"
        },
        "id": "roH2A4m4zF4z",
        "outputId": "f4353aa8-2f37-43b6-be0f-12aab9a35145"
      },
      "outputs": [
        {
          "data": {
            "text/plain": [
              "28413"
            ]
          },
          "execution_count": 196,
          "metadata": {},
          "output_type": "execute_result"
        }
      ],
      "source": [
        "len(dataset)"
      ]
    },
    {
      "cell_type": "code",
      "execution_count": 197,
      "metadata": {
        "colab": {
          "base_uri": "https://localhost:8080/"
        },
        "id": "HGeHNlzozIGF",
        "outputId": "ec3596fe-feee-426c-dce8-373fb07080fd"
      },
      "outputs": [
        {
          "data": {
            "text/plain": [
              "('God created the sky and the earth.',\n",
              " 'आरम्भमा परमेश्वरले आकाश र पृथ्वी सृष्टि गर्नु भयो।')"
            ]
          },
          "execution_count": 197,
          "metadata": {},
          "output_type": "execute_result"
        }
      ],
      "source": [
        "dataset[1]"
      ]
    },
    {
      "cell_type": "code",
      "execution_count": 198,
      "metadata": {
        "id": "5YDttjQ0zMrv"
      },
      "outputs": [],
      "source": [
        "train_loader = DataLoader(dataset, batch_size)\n",
        "iterator = iter(train_loader)"
      ]
    },
    {
      "cell_type": "code",
      "execution_count": 199,
      "metadata": {
        "colab": {
          "base_uri": "https://localhost:8080/"
        },
        "id": "9EnjHKB1zM8Y",
        "outputId": "1a825e56-6706-46ee-85b5-ed7f0ac657fb"
      },
      "outputs": [
        {
          "name": "stdout",
          "output_type": "stream",
          "text": [
            "[('Chapter 1', 'God created the sky and the earth.', \"At first, the earth was completely empty. There was nothing on the earth. Darkness covered the ocean, and God's Spirit moved over the water.\", 'Then God said, \"Let there be light!\" And light began to shine.', 'He saw the light, and he knew that it was good. Then he separated the light from the darkness.', 'God named the light \"day,\" and he named the darkness \"night.\" There was evening, and then there was morning. This was the first day.', 'Then God said, \"Let there be a space to separate the water into two parts!\"', 'So God made the space and separated the water. Some of the water was above it, and some of the water was below it.', 'God named that space \"sky.\" There was evening, and then there was morning. This was the second day.', 'Then God said, \"Let the water under the sky be gathered together so that the dry land will appear.\" And it happened.', 'God named the dry land \"earth,\" and he named the water that was gathered together \"seas.\" And God saw that this was good.', 'Then God said, \"Let the earth grow grass, plants that make grain, and fruit trees. The fruit trees will make fruit with seeds in it. And each plant will make its own kind of seed. Let these plants grow on the earth.\" And it happened.', 'The earth grew grass and plants that made grain. And it grew trees that made fruit with seeds in it. Every plant made its own kind of seeds. And God saw that this was good.', 'There was evening, and then there was morning. This was the third day.', 'They will be in the sky to shine light on the earth.\" And it happened.', 'So God made the two large lights. He made the larger light to rule during the day and the smaller light to rule during the night. He also made the stars.', 'God put these lights in the sky to shine on the earth.', 'He put them in the sky to rule over the day and over the night. They separated the light from the darkness. And God saw that this was good.', 'There was evening, and then there was morning. This was the fourth day.', 'Then God said, \"Let the water be filled with many living things, and let there be birds to fly in the air over the earth.\"', 'God blessed all the living things in the sea and told them to have many babies and fill the seas. And he blessed the birds on land and told them to have many more babies.', 'There was evening, and then there was morning. This was the fifth day.', 'So God made every kind of animal. He made the wild animals, the tame animals, and all the small crawling things. And God saw that this was good.', 'Then God said, \"Now let\\'s make humans who will be like us. They will rule over all the fish in the sea and the birds in the air. They will rule over all the large animals and all the little things that crawl on the earth.\"', 'So God created humans in his own image. He created them to be like himself. He created them male and female.', 'God blessed them and said to them, \"Have many children. Fill the earth and take control of it. Rule over the fish in the sea and the birds in the air. Rule over every living thing that moves on the earth.\"', 'God said, \"I am giving you all the grain bearing plants and all the fruit trees. These trees make fruit with seeds in it. This grain and fruit will be your food.', 'And I am giving all the green plants to the animals. These green plants will be their food. Every animal on earth, every bird in the air, and all the little things that crawl on the earth will eat that food.\" And all these things happened.', 'God looked at everything he had made. And he saw that everything was very good. There was evening, and then there was morning. This was the sixth day.', 'So the earth, the sky, and everything in them were finished.', 'God finished the work he was doing, so on the seventh day he rested from his work.', 'God blessed the seventh day and made it a holy day. He made it special because on that day he rested from all the work he did while creating the world.', 'This is the story about the creation of the sky and the earth. This is what happened when the Lord God made the earth and the sky.', 'This was before there were plants on the earth. Nothing was growing in the fields because the Lord God had not yet made it rain on the earth, and there was no one to care for the plants.', 'So water came up from the earth and spread over the ground.', \"Then the Lord God took dust from the ground and made a man. He breathed the breath of life into the man's nose, and the man became a living thing.\", 'Then the Lord God planted a garden in the East, in a place named Eden. He put the man he made in that garden.', 'Then the Lord God caused all the beautiful trees that were good for food to grow in the garden. In the middle of the garden, he put the tree of life and the tree that gives knowledge about good and evil.', 'A river flowed from Eden and watered the garden. The river then separated and became four smaller rivers.', 'The name of the first river was Pishon. This river flowed around the entire country of Havilah.', '(There is gold in that country, and that gold is pure. A kind of expensive perfume and onyx are also found there.)', 'The name of the second river was Gihon. This river flowed around the whole land of Cush.', 'The name of the third river was Tigris. This river flowed east of Assyria. The fourth river was the Euphrates.', 'The Lord God put the man in the Garden of Eden to work the soil and take care of the garden.', 'The Lord God gave him this command: \"You may eat from any tree in the garden.', 'But you must not eat from the tree that gives knowledge about good and evil. If you eat fruit from that tree, on that day you will certainly die!\"', 'Then the Lord God said, \"I see that it is not good for the man to be alone. I will make the companion he needs, one just right for him.\"', 'The Lord God used dust from the ground and made every animal in the fields and every bird in the air. He brought all these animals to the man, and the man gave them all a name.', 'The man gave names to all the tame animals, to all the birds in the air, and to all the wild animals. He saw many animals and birds, but he could not find a companion that was right for him.', \"So the Lord God caused the man to sleep very deeply. While he was asleep, God took one of the ribs from the man's body. Then he closed the man's skin where the rib had been.\", 'The Lord God used the rib from the man to make a woman. Then he brought the woman to the man.', 'And the man said, \"Finally! One like me, with bones from my bones and a body from my body. She was taken out of a man, so I will call her \\'woman.\\'\"', 'That is why a man leaves his father and mother and is joined to his wife. In this way two people become one.', 'The man and his wife were naked, but they were not ashamed.', 'The snake was the most clever of all the wild animals that the Lord God had made. The snake spoke to the woman and said, \"Woman, did God really tell you that you must not eat from any tree in the garden?\"', 'The woman answered the snake, \"No, we can eat fruit from the trees in the garden.', 'But there is one tree we must not eat from. God told us, \\'You must not eat fruit from the tree that is in the middle of the garden. You must not even touch that tree, or you will die.\\'\"', 'But the snake said to the woman, \"You will not die.', 'God knows that if you eat the fruit from that tree you will learn about good and evil, and then you will be like God!\"', 'Then it was as if their eyes opened, and they saw things differently. They saw that they were naked. So they got some fig leaves, sewed them together, and wore them for clothes.', 'During the cool part of the day, the Lord God was walking in the garden. The man and the woman heard him, and they hid among the trees in the garden.', 'The Lord God called to the man and said, \"Where are you?\"', 'The man said, \"I heard you walking in the garden, and I was afraid. I was naked, so I hid.\"', 'God said to the man, \"Who told you that you were naked? Did you eat fruit from that special tree? I told you not to eat from that tree!\"'), ('अध्याय १', 'आरम्भमा परमेश्वरले आकाश र पृथ्वी सृष्टि गर्नु भयो।', 'पृथ्वी शून्य थियो, पृथ्वीमा केही पनि थिएन। समुद्रलाई अँध्यारोले ढाकेको थियो अनि परमेश्वरको आत्मा पानीमाथि परिभ्रमण गरिरहन्थ्यो।', 'तब परमेश्वरले भन्नुभयो, \"उज्यालो होस्!\" अनि उज्यालो चम्कन थाल्यो।', 'परमेश्वरले उज्यालो देख्नु भयो अनि त्यसलाई असल मान्नु भयो। तब परमेश्वरले उज्यालो र अँध्यारोलाई छुट्याउनु भयो।', 'परमेश्वरले उज्यालोलाई \"दिन\" र अँध्यारोलाई \"रात\" नाउँ दिनु भयो। साँझ पर्यो अनि बिहान भयो। यो पहिलो दिन थियो।', 'तब परमेश्वरले भन्नुभयो, \"पानीलाई दुइ भाग पार्न त्यहाँ बतास होस्!\"', 'यसर्थ परमेश्वरले त्यहाँ बतास सृष्टि गर्नुभयो अनि पानी छुट्टियो। केही पानी बतासमाथि रहयो अनि केही पानी बतास मुनि।', 'परमेश्वरले त्यस बतासलाई \"आकाश\" नाउँ दिनु भयो। साँझ पर्यो अनि बिहान भयो। यो दोस्रो दिन थियो।', 'तब परमेश्वरले भन्नुभयो, \"आकाश मुनिको पानी एकै ठाउँमा जम्मा होस्, र त्यहाँ सुख्खा भूमि देखियोस्।\" अनि त्यस्तै भयो।', 'त्यो सुख्खा भूमिलाई परमेश्वरले \"पृथ्वी\" नाउँ राख्नु भयो। अनि एकै ठाउँमा जम्मा भएको पानीलाई \"समुद्र\" नाउँ राख्नु भयो। परमेश्वरलाई यस्तो भएकोमा असल लाग्यो।', 'तब परमेश्वरले भन्नुभयो, \"पृथ्वीमा घाँस, अन्न उत्पन्न गर्ने उद्भिद तथा फल हुने बोटहरु उम्रियोस्। फल-रूखहरुले बीउ भएका फल फलाउने छन्। अनि प्रत्येक रूखले आफ्नै जातिका बीउ उब्जाउनेछ। यी उद्भिदहरू पृथवीमा उम्रिउन्।\" अनि यस्तै भयो।', 'पृथ्वीमा घाँस र उद्भिदहरू उम्रे अनि अन्नहरू फले। अनि पृथ्वीमा फलभित्र बीउहरु हुने फल फल्ने रुखहरु उम्रिए। प्रत्येक उद्भिदले आफ्नै प्रकारको बीउहरु सिर्जना गरे। अनि परमेश्वरले यिनलाई देखेर असल मान्नु भयो।', 'साँझ पर्यो अनि बिहान भयो। यो तेस्रो दिन थियो।', 'यी उज्यालाहरु पृथ्वीमा ज्योति चम्काउनको निम्ति आकाशमा रहनेछन्।\" अनि यस्तै भयो।', 'यसर्थ परमेश्वरले दुईवटा ठूला-ठूला प्रकाश पुञ्जहरु निर्माण गर्नुभयो। दिनमा प्रयोग गर्नको निम्ति परमेश्वरले ठूलो प्रकाश-पुञ्ज बनाउनु भयो अनि रातको निम्ति सानो प्रकाश-पुञ्ज बनाउनु भयो। परमेश्वरले ताराहरु पनि सृष्टि गर्नु भयो।', 'पृथ्वीलाई उज्यालो पार्नको निम्ति यी प्रकाश-पुञ्जहरु परमेश्वरले आकाशमा राख्नु भयो।', 'यसकारण उहाँले तिनीहरुलाई आकाशमा दिन र रातमाथि शासन गाराउनु भयो। यी प्रकाश पुञ्जहरुले अँध्यारोबाट उज्यालो छुट्याए अनि परमेश्वरलाई यो असल लाग्यो।', 'त्यहाँ साँझ पर्यो र फेरि अर्को बिहान भयो। यो चौथो दिन थियो।', 'तब परमेश्वरले भन्नुभयो, \"पानी धेरै-धेरै प्राणीहरुले भरियोस्।\" अनि पृथ्वीमाथि आकाशको फैलावटमा चरा चुरुङ्गीहरु उड्न थाले।', 'परमेश्वरले यी सबै प्राणीहरुलाई आशीर्वाद दिएर भन्नुभयो, पानीका प्राणीहरुले धेरै बच्चाहरु जन्माएर समुद्र भरियोस् अनि भूमिमा पनि चरा-चुरुङ्गीहरुले धेरै-धेरै बच्चाहरु जन्माएर पृथ्वी भरियोस्।', 'त्यहाँ साँझ पर्यो र फेरि अर्कौ बिहान भयो। यो पाँचौ दिन थियो।', 'यसर्थ परमेश्वरले जङ्गली जनावरहरु, पाल्तू जनावर, सा-साना घस्रने जनावर विभिन्न प्रकारका प्राणीहरु सृष्टि गरेर हेर्दा उहाँलाई राम्रो लाग्यो।', 'तब परमेश्वरले भन्नुभयो, \"अब हामी मानिस सृष्टि गरौं। हामी मानिस हाम्रै स्वरुप बनाउनेछौं र मानिस हामी जस्तै हुनेछन्। तिनीहरुले जलचर, नभचर, स्थलचरमा ठूला साना अनि घस्रने सबै प्राणीहरुमाथि शासन गर्नैछन्।\"', 'यसर्थ परमेश्वरले आफ्नै प्रतिरूपमा मानिसलाई सृष्टि गर्नुभयो। परमेश्वरले आफ्नै स्वरुपमा मानिसलाई सृष्टि गर्नु भयो। उहाँले पुरुष र स्त्री सृष्टि गर्नुभयो।', 'परमेश्वरले तिनीहरुलाई आशीर्वाद दिंदै भन्नुभयो, \"धेरै सन्तानहरु उत्पति गराऊ र पृथवी भरेर तिनीहरुको हेरचाह गर। समुद्रका माछाहरु, आकाशमा उड्ने चराहरु अनि पृथ्वीमा हिँडडुल गर्ने, सबै प्राणीहरुमाथि शासन गर।\"', 'परमेश्वरले भन्नुभयो, \"म तिमीहरुलाई अन्न हुने उद्भिद र फल फल्ने रूखहरु दिन्छु। ती रुखहरुले आफैं भित्र फेरि उम्रने बीउ भएका फलहरु दिनेछन् र यी अन्न र फलहरु तिमीहरुको निम्ति खाद्य-पदार्थ हुनेछन्।', 'म फेरि पशुहरुलाई खानका निम्ति हरियो घाँस तथा उद्भिद दिनेछु र पृथ्वीमा भएका प्रत्येक सा-साना घस्रने प्राणीहरु, आकाशमा उड्ने चराहरु अनि पृथ्वीका सबै जनावरहरुले, यी चीजहरु खानेछन्।\" अनि यस्तै भयो।', 'परमेश्वरले आफूले सृष्टि गरेका प्रत्येक चीजको निरीक्षण गर्नु भयो अनि सबै असल लाग्यो। त्यहाँ साँझ पर्यो र फेरि अर्को बिहान भयो। यो छैटौं दिन थियो।', 'यसरी पृथ्वी, आकाश र तिनीहरुभित्र प्रत्येक वस्तुको सृष्टि पूरा भयो।', 'परमेश्वरले आफूले गर्दै गरेको काम पूरा गर्नुभयो। यसर्थ, सातौं दिनमा परमेश्वरले आफ्ना कामहरुबाट विश्राम लिनुभयो।', 'परमेश्वरले सातौं दिनलाई आशीर्वाद दिनुभयो र एउटा पवित्र दिन बनाउनु भयो, परमेश्वरले यस दिनलाई एक विशेष दिन मान्नुभयो कारण त्यस दिन उहाँले संसार सृष्टि गर्ने कार्यबाट विश्राम लिनु भयो।', 'आकाश र पृथ्वीको इतिहास यही हो। परमेश्वरले पृथ्वी र आकाश सृष्टि गर्दा भएका घटनाहरुको कुरा यही नै हो।', 'पृथ्वीमा उद्भिदहरुको उंम्रनु अघिका कुरा यही हुन्। भूमिहरुमा केही पनि उम्रेको थिएन, किनभने परमप्रभुले पृथ्वीमा यतिञ्जेल पानीसम्म वर्षाउँनु भएको थिएन। त्यहाँ उद्भिदहरु हेरचाह गर्नलाई कुनै व्यक्ति पनि थिएन।', 'पृथ्वीबाट पानी निस्कियो अनि मैदानमा फैलियो।', 'तब त्यसपछि परमप्रभु परमेश्वरले भूँईबाट माटो उठाउनु भयो अनि मानिस सृष्टि गर्नु भयो। परमप्रभुले मानिसको नाकबाट सास हालिदिनु भयो र यसलाई जिउँदो बनाउनु भयो।', 'परमप्रभु परमेश्वरले अदन नाउँ भएको ठाउँमा पूर्वपट्टि एउटा बगैंचा बनाउनु भयो र उहाँले सृष्टि गर्नु भएको मानिसलाई त्यहाँ राख्नु भयो।', 'परमेश्वरले भूमिबाट राम्रा-राम्रा रुखहरु अनि खान योग्य फलहरु लाग्ने रुखहरु उमार्नु भयो। उहाँले बगैंचाको बीचमा जीवनको रुख अनि असल र खराबको ज्ञान दिन योग्य रुख पनि रोप्नु भयो।', 'बगैंचा भिजाउनलाई अदनबाट एउटा नदी बग्यो र पछि त्यो नदी चारवटा शाखाहरुमा विभाजन भयो।', 'ती शाखाहरुमध्ये पहिलो शाखा नदीको नाउँ पीशोन हो। यो त्यही नदी हो जुन हवीलाको सम्पूर्ण भूमिमा बग्छ र त्यहाँ सुन पाइन्छ।', 'यस प्रदेशको सुन राम्रो दर्जाको छ। धूप गोमेद र पत्थर पनि पाइन्छन्।', 'दोस्रो नदीको नाउँ गीहोन हो र कूश देशको सम्पूर्ण भूमिमा बग्ने नदी पनि यही हो।', 'तेस्रो शाखा नदीको नाउँ हिद्\\u200cदेकेल हो र यो नदी अश्शूरको पूर्वतिर बग्छ। चौथो शाखा नदीको नाउँ यूफ्रेटिस हो।', 'तब परमप्रभु परमेश्वरले मानिसलाई लानु भयो अनि बगैंचा खन-जोत अनि हेरचाह गर्न उसलाई राख्नु भयो।', 'परमप्रभु परमेश्वरले त्यस मानिसलाई आज्ञा दिनु भयो। परमप्रभु परमेश्वरले भन्नुभयो, \"तिमीले कुनै चिन्ता बिना यस बगैंचाको कुनै पनि रुखबाट फलहरु खान सक्छौ।', 'तर तिमीले त्यस रुखको कुनै फल खानु हुँदैन जसले असल र खराबको ज्ञान दिन्छ, किनभने जुन दिन तिमी त्यस रुखको फल खान्छौ निश्चयनै त्यस दिन तिमी आफै मर्नेछौ।\"', 'तब फेरि परमप्रभु परमेश्वरले भन्नुभयो, \"मानिसको लागि एक्लो बस्नु राम्रो होइन। म उसको लागि एकजना सहयोगी बनाउनेछु जो उ जस्तै नै हुनेछे।\"', 'यसर्थ परमप्रभु परमेश्वरले जमीनका सबै पशुहरु र आकाशमा चरा-चुरूङ्गीहरु सृष्टि गरी तिनीहरुको के के नाउँ राख्दा रहेछन् भनी मानिसकहाँ पठाउनु भयो। अनि मानिसले तिनीहरुलाई जे भने तिनीहरुको त्यही नाउँ रह्यो।', 'अनि मानिसले पाल्तू गाई वस्तु, आकाशमा उड्ने चरा-चुरुङ्गीहरु र जङ्गली जनावरहरुको नाउँ राख्यो। तर मानिसको निम्ति कुनै सहयोगी साथी पाएन।', 'त्यसपछि परमप्रभु परमेश्वरले मानिसलाई गहिरो निंद्रामा सुताउनु भयो। जब त्यो मानिस गहिरो निंद्रामा पर्यो उहाँले एउटा करङ्ग निकालेको ठाउँमा मासुले पुरिदिनुभयो।', 'त्यस मानिसबाट निकालिएको करङ्गबाट उहाँले एउटी स्त्री मानिस सृष्टि गरी तिनलाई त्यस मानिस कहाँ ल्याउनु भयो।', 'तब त्यस मानिसले भने, \"आखिरमा म जस्तै अर्को एउटा व्यक्ति उसको हड्डी मेरो हड्डी बाट आयो, अनि उसको शरीर मेरो शरीरबाट आयो। किनभने तिनी एउटा मानिसबाट निकालिएकी हुनाले म तिनलाई \\'स्त्री मानिस\\' भन्नेछु।\"', 'यसकारण, एकजना मानिसले आफ्नो आमा-बाबुलाई छोडेर आफ्नी पत्नीसित सम्बन्ध राख्छ। यसरी दुइजना मानिसहरु एउटै बनिन्छन्।', 'त्यो मानिस र तिनकी पत्नी नाङ्गै भएता पनि तिनीहरु लाज मान्दैन थिए।', 'परमप्रभु परमेश्वरले सृष्टि गर्नु भएको सबै जन्तुहरु मध्ये सर्प अत्यन्त धूर्त थियो। सर्पले उसलाई सोध्यो, \"ए नारी! के परमेश्वरले बगैंचामा कुनै पनि रुखबाट फल खानु हुँदैन भनी मनाही गर्नु भएको छ?\"', 'त्यस स्त्रीले सर्पलाई उत्तर दिईन्, \"होइन! परमेश्वरले त्यसो भन्नु भएन। हामीले बगैंचामा भएका रुखहरुको फल खान सक्छौं।\"', 'तर परमेश्वरले भन्नुभयो, \"तिमीहरुले बर्गैचाको बीचमा भएको रुखको फल खानु हुँदैन, तिमीहरुले छुनु पनि हुँदैन, नत्र तिमीहरु मर्नेछौ।\"', 'तर सर्पले स्त्रीलाई भने, \"तिमीहरु निश्चय मर्ने छैनौ।', 'परमेश्वरले पनि जान्नु हुन्छ जब तिमीहरुले त्यस रुखको फल खान्छौ तिमीहरुको ज्ञान खोलिन्छ अनि तिमीहरु कुन असल कुन खराब जान्ने ज्ञानी भई परमेश्वर जस्तै हुनेछौ।\"', 'तब तिनीहरुले केही अनौठो अनुभव गरे। तिनीहरुले देखे तिनीहरु नाङ्गै थिए। यसर्थ तिनीहरुले नेभाराको पात गाँसे अनि आफ्ना निम्ति लुगाहरु बनाए।', 'जब साँझको हावा बहिरहेको थियो परमप्रभु परमेश्वर बगैंचामा घुमिरहनु हुँदा ती पुरुष र स्त्रीले परमप्रभु परमेश्वरको आवाज चाल पाएर तिनीहरु बगैंचाको रुखहरुमाझ लुके।', 'परमप्रभु परमेश्वरले त्यस पुरुष मानिसलाई बोलाउनु भयो अनि सोध्नु भयो, \"तिमी कहाँ छौ?\"', 'तब त्यस पुरुष मानिसले उत्तर दियो, \"तपाईको आवाज मैले बगैंचा भित्र चाल पाएँ र म नाङ्गैं रहेको हुँदा डराएँ र म लुकें।\"', 'तब परमप्रभु परमेश्वरले भन्नुभयो, \"तिमी नाङ्गैं छौ भनी कसले भन्यो? के तिमीले मैले जुन रुखबाट फल नखानु भनी आज्ञा दिएको थिएँ त्यसैको फल त खाएनौ?\"')]\n",
            "[('The man said, \"The woman you put here with me gave me fruit from that tree. So I ate it.\"', 'Then the Lord God said to the woman, \"What have you done?\" She said, \"The snake tricked me, so I ate the fruit.\"', 'So the Lord God said to the snake, \"You did this very bad thing, so bad things will happen to you. It will be worse for you than for any other animal. You must crawl on your belly and eat dust all the days of your life.', 'I will make you and the woman enemies to each other. Your children and her children will be enemies. You will bite her child\\'s foot, but he will crush your head.\"', 'The ground will grow thorns and weeds for you. And you will have to eat the plants that grow wild in the fields.', 'Adam named his wife Eve. He gave her this name because Eve would be the mother of everyone who ever lived.', 'The Lord God used animal skins and made some clothes for the man and his wife. Then he put the clothes on them.', 'The Lord God said, \"Look, the man has become like us — he knows about good and evil. And now the man might take the fruit from the tree of life. If the man eats that fruit, he will live forever.\"', 'So the Lord God forced the man out of the Garden of Eden to work the ground he was made from.', 'God forced the man to leave the garden. Then he put Cherub angels and a sword of fire at the entrance to the garden to protect it. The sword flashed around and around, guarding the way to the tree of life.', 'Adam had sexual relations with his wife Eve. She became pregnant and gave birth to a son. She named him Cain. Eve said, \"With the Lord\\'s help, I have made a man!\"', \"Eve gave birth again to Cain's brother Abel. Abel became a shepherd, and Cain became a farmer.\", 'At harvest time, Cain brought a gift to the Lord. He brought some of the food that he grew from the ground, but Abel brought some animals from his flock. He chose some of his best sheep and brought the best parts from them.', 'The Lord accepted Abel and his gift.', 'But he did not accept Cain and his offering. Cain was sad because of this, and he became very angry.', 'The Lord asked Cain, \"Why are you angry? Why does your face look sad?', 'You know that if you do what is right, I will accept you. But if you don\\'t, sin is ready to attack you. That sin will want to control you, but you must control it.\"', 'Cain said to his brother Abel, \"Let\\'s go out to the field.\" So they went to the field. Then Cain attacked his brother Abel and killed him.', 'Later, the Lord said to Cain, \"Where is your brother Abel?\" Cain answered, \"I don\\'t know. Is it my job to watch over my brother?\"', 'Then the Lord said, \"What have you done? You killed your brother and the ground opened up to take his blood from your hands. Now his blood is shouting to me from the ground. So you will be cursed from this ground.', 'Now when you work the soil, the ground will not help your plants grow. You will not have a home in this land. You will wander from place to place.\"', 'Then Cain said to the Lord, \"This punishment is more than I can bear!', 'You are forcing me to leave the land, and I will not be able to be near you or have a home! Now I must wander from place to place, and anyone I meet could kill me.\"', 'Then the Lord said to Cain, \"No, if anyone kills you, I will punish that person much, much more.\" Then the Lord put a mark on Cain to show that no one should kill him.', 'Cain went away from the Lord and lived in the land of Nod.', 'Cain had sexual relations with his wife. She became pregnant and gave birth to a son named Enoch. Cain built a city and gave the city the same name as his son Enoch.', 'Enoch had a son named Irad. Irad had a son named Mehujael. Mehujael had a son named Methushael. And Methushael had a son named Lamech.', 'Lamech married two women. One wife was named Adah, and the other was named Zillah.', 'Adah gave birth to Jabal. Jabal was the father of people who live in tents and earn their living by keeping cattle.', \"Jabal was Jubal's brother. Jubal was the father of people who play the harp and flute.\", 'Zillah gave birth to Tubal-Cain. Tubal-Cain was the father of people who work with bronze and iron. The sister of Tubal-Cain was named Naamah.', 'Lamech said to his wives, \"Adah and Zillah, hear my voice! You wives of Lamech, listen to me. A man hurt me, so I killed him. I even killed a child for hitting me.', 'The punishment for killing Cain was very bad. But the punishment for killing me will be many times worse!\"', 'Adam again had sexual relations with his wife, and she gave birth to another son. She named him Seth. Eve said, \"God has given me another son. Cain killed Abel, but now I have Seth.\"', 'Seth also had a son. He named him Enosh. At that time people began to pray to the Lord.', \"This is the history of Adam's family. When God created people, he made them like himself.\", 'He created them male and female. And on the same day he made them, he blessed them and called them \"humans.\"', 'After Adam was 130 years old, he had another son. This son looked just like Adam. Adam named his son Seth.', 'After Seth was born, Adam lived 800 years and had other sons and daughters.', 'So Adam lived a total of 930 years; then he died.', 'After Seth was 105 years old, he had a son named Enosh.', 'After Enosh was born, Seth lived 807 years and had other sons and daughters.', 'So Seth lived a total of 912 years; then he died.', 'After Enosh was 90 years old, he had a son named Kenan.', 'After Kenan was born, Enosh lived 815 years and had other sons and daughters.', 'So Enosh lived a total of 905 years; then he died.', 'After Kenan was 70 years old, he had a son named Mahalalel.', 'After Mahalalel was born, Kenan lived 840 years and had other sons and daughters.', 'So Kenan lived a total of 910 years; then he died.', 'When Mahalalel was 65 years old, he had a son named Jared.', 'After Jared was born, Mahalalel lived 830 years and had other sons and daughters.', 'So Mahalalel lived a total of 895 years; then he died.', 'After Jared was 162 years old, he had a son named Enoch.', 'After Enoch was born, Jared lived 800 years and had other sons and daughters.', 'So Jared lived a total of 962 years; then he died.', 'After Enoch was 65 years old, he had a son named Methuselah.', 'After Methuselah was born, Enoch walked with God for 300 years and had other sons and daughters.', 'So Enoch lived a total of 365 years.', 'One day Enoch was walking with God, and he disappeared. God took him.', 'After Methuselah was 187 years old, he had a son named Lamech.', 'After Lamech was born, Methuselah lived 782 years and had other sons and daughters.', 'So Methuselah lived a total of 969 years; then he died.', 'When Lamech was 182 years old, he had a son.', 'Lamech named his son Noah. Lamech said, \"We work very hard as farmers because God cursed the ground. But Noah will bring us rest.\"'), ('त्यस मानिसले भने, \"स्त्री जो तपाईंले मसित बस्न दिनु भयो, उसैले मलाई रुखको फल दिईन् अनि मैले खाएँ।\"', 'तब परमप्रभु परमेश्वरले त्यस स्त्री मानिसलाई भन्नुभयो, \"तिमीले किन यस्तो काम गर्यौ?\" तब त्यस स्त्रीले भनी, \"सर्पले मलाई धोका दियो र मैले त्यो फल खाएँ।\"', 'तब परमप्रभु परमेश्वरले सर्पलाई भन्नुभयो, \"तैंले यस्तो काम गरेको हुनाले, तँलाई अन्य पशुहरु गाई-वस्तु र अरु सबै जंङ्गली पशुहरुलाईभन्दा अझै ज्यादा श्राप दिनेछु। तैंले तेरो जीवन भरी आफ्नो पेटले घस्रनु र माटो खाएर बस्नु परोस्।', 'म तँ र त्यस स्त्रीमाझ शत्रुता सृष्टि गर्नेछु। तेरो सन्तान र त्यस स्त्रीका सन्तानमाझ पनि शत्रुता सृष्टि गर्नेछु जसले गर्दा त्यसका सन्तानहरुले तेरो टाउको किच्याउने छन् अनि तेरा सन्तानहरुले पनि तिनीहरुको कुर्कुचामा डस्ने छन्।\"', 'त्यो भूमिले तिम्रो निम्ति जंङ्गली घाँस र काँढाहरु उमार्नेछ, अनि तिमीले जङ्गलमा उम्रेको सागपात खानु पर्नेछ।', 'त्यस आदमले आफ्नी पत्नीको नाउँ हव्वा राख्यो किनभने सबै मानिसहरुकी तिनी आमा हुन्।', 'परमप्रभु परमेश्वरले पशुको छालाको लुगा बनाउनु भयो र त्यो मानिस र उसकी पत्नीलाई लगाउन दिनु भयो।', 'परमप्रभु परमेश्वरले भन्नुभयो, \"हेर, त्यो मानिस हामी जस्तै भएको छ उनले राम्रो अनि नराम्रो विषयमा जान्दछ र अब जीवनको रुखबाट उनले फल खान सक्छ यदि उनले त्यो फल खायो भने, ऊ सँधैको निम्ति बाँच्नेछ।\"', 'परमप्रभु परमेश्वरले आदमलाई बलपूर्वक जमीन जोत्नु निकाल्नु भयो जहाँबाट उसलाई सिर्जना गरिएको थियो।', 'उहाँले मानिसलाई टाढो खेद्नुभयो अनि अदनको बगैंचाको पूर्वतिर प्रवेशद्वारमा उहाँले एक जना स्वर्गदूत अनि एउटा प्रज्वलित तरवार जो जीवनको रुखतिर जाने बाटोको सुरक्षा गर्दै चारैतिर घुमिरहन्थ्यो।', 'आफ्नी पत्नी हव्वासंग आदमको सहवास भयो अनि तिनी गर्भवती भएर एउटा छोरो कयिनलाई जन्माइन। तिनले भनिन, \"परमप्रभुको सहायताद्वारा मैले एउटा मानिसलाई जन्म दिएँ।\"', 'तिनले फेरि अर्को छोरो हाबिललाई जन्माइन। हाबिल भेडा गोठालो भयो अनि कयिन खेतीवाला भयो।', 'केही समय पश्चात कयिनले भूमिको उब्जनीबाट केही खाने कुरो परमप्रभु कहाँ भेटीस्वरुप चढाउन ल्यायो। हाबिलले पनि आफ्नो भेडाको बथानबाट पहिले जन्मेको भेडाको उत्तम भाग चढाउन ल्यायो।', 'अनि हाबिलले ल्याएको भेटी परमप्रभुले स्वीकार गर्नुभयो।', 'तर परमप्रभुले कयिन र उनले चढाएको भेटी स्वीकार गर्नु भएन। यसर्थ कयिन साहै रिसायो र दुःखी भयो।', 'परमप्रभुले कयिनलाई सोध्नु भयो, \"तँ किन रिसाएको छस्? तँ किन आफ्नो अनुहार अँध्यारो पार्दछस्?', 'यदि तैंले राम्रो काम गरिस् भने म तलाईं स्वीकार गर्छु अनि तैंले नराम्रो काम गरिस् भने पापले तँलाई एकदमै नियन्त्रण गर्नेछ तर तँ यसको मालिक हुनै पर्छ।\"', 'कयिनले उसको भाइलाई भने, \"हामी खेतमा जाऔं!\" अनि तिनीहरु खेतमा गएका थिए, कयिनले उसको भाइलाई आक्रमण गरी तिनलाई मार्यो।', 'तब परमप्रभुले कयिनलाई भन्नुभयो, \"तेरो भाइ हाबिल कहाँ छ?\" तब कयिनले उत्तर दियो, \"म जान्दिन, मेरो भाइको हेरचाह गर्ने काम मेरो हो र?\"', 'त्यसपछि, परमप्रभुले कयिनलाई सोध्नु भयो, \"तैंले उसलाई के गरिस्? कारण भूमिबाट उसको रगत मसंग कराउँदैछ। तैंले तेरो भाइको हत्या गरिस् र तेरो हातबाट रगत पिउनलाई भूमिले मुख बाही रहेकोछ। यसकारण अब म त्यस भूमिमा नराम्रो कुराहरु हुने बनाइदिनेछु।', 'जब तैंले त्यो भूमिमा केही रोप्छस तेरो निम्ति त्यस भूमिले केही फसल दिने छैन। पृथ्वीमा तेरो एउटा घर पनि हुने छैन, तँ एक ठाउँदेखि अर्को ठाउँ घुमिहिंडने छस्।\"', 'तब कयिनले परमप्रभुलाई भने, \"यो दण्ड चाँहि मैले सहन सक्नेभन्दा धेरै भयो।', 'हेर्नुहोस्, आज तपाईंले मलाई जमीनबाट निकालिदिनु भयो अनि म तपाईंको नजरबाट बाहिर रहनु पर्यो, यस पृथ्वीमा घरबेगरको घुमिहिंड्ने हुने भएँ र जसले पनि मलाई भेट्छ मलाई मार्नेछन्।\"', 'तब परमप्रभुले उसलाई भन्नुभयो, \"यस्तो हुन पाउने छैन! यदि कसैले तलाईं मार्छ भने त्यसलाई म कठोर दण्ड दिनेछु।\" तब परमप्रभुले कयिनमाथि यस्तो एउटा चिन्ह लगाउनु भयो जसले गर्दा त्यो देखेपछि कसैले कयिनलाई मार्ने छैन।', 'तब कयिन परमप्रभुको सामुन्नेबाट टाढा गएर अदनको पूर्वपट्टि नोद देशमा बस्न थाल्यो।', 'कयिनको उसकी पत्नीसित सहवास भयो र तिनी गर्भवती भईन र हनोक नाउँ भएको एउटा छोरा जन्माइन्। अनि कयिनले एउटा शहर बनायो र त्यो शाहरको नाउँ हनोक राख्यो।', 'हनोकको ईराद नाउँको छोरा जन्म्यो। ईरादको एउटा छोरो भयो र उसको नाउँ महूयाएल राखियो। महूयाएलको पनि मतूशाएल नाउँको छोरो भयो अनि मतूशाएलको पनि लेमेक नाउँको छोरो भयो।', 'लेमेकले दुइवटी स्त्रीहरुसित विवाह गर्यो, तिनीहरुको नाउँ आदा र सिल्ला थियो।', 'आदाले याबाल नाउँको छोरोलाई जन्म दिइन्। याबाल पालमा बस्ने र गाई-वस्तुहरु पाल्नेहरुको पुर्खा थिए।', 'याबालको भाइको नाउँ यूबाल थियो अनि तिनी नै वीणा र बाँसुरी बजाउनेहरु सबैका पुर्खा थिए।', 'सिल्लाले तूबल कयिनलाई जन्माइन् जो सबै प्रकारका पीतल र फलामको हतियारहरु बनाउँथ्यो। तूबल कयिनका बहिनीको नाउँ नामा थियो।', 'लेमेकले आफ्ना पत्नीहरुलाई भने, \"हे आदा र सिल्ला! लेमेकका पत्नीहरु हो, म के भन्छु, सुन। मलाई चोट पुर्याउने मानिसलाई मैले मारें, त्यस जवान केटोले मलाई हिर्कायो मैले उसलाई मारें।', 'यदि कयिनलाई मारेकोमा सात गुणा बढी दण्ड भयो भने, लेमेकलाई मारेकोमा सतहत्तर गुणा बढी दण्ड हुनेछ!\"', 'आदमको फेरि आफ्नी पत्नीसित सहवास भयो र तिनले फेरि एउटा छोरो जन्माइन् जसको नाउँ सेत राखियो। तिनले भनिन्, \"कयिनले हाबिललाई मारेकोले उसको सट्टामा परमेश्वरले मलाई अर्को बालक दिनु भयो।\"', 'सेतको पनि एउटा छोरो भयो जसको नाउँ एनोश थियो। यही समयदेखि मानिसहरुले परमप्रभुलाई विश्वास गर्न थाले।', 'आदमको परिवारको विषयमा लेखिएको इतिहास यही हो। परमेश्वरले मानिसको सृष्टि गर्दा आफ्नै प्रतिरुपमा मानिसजातिको सृष्टि गर्नुभयो।', 'परमेश्वरले मानिसलाई पुरूष र स्त्री दुई रुपमा सृष्टि गर्नुभयो। जब उहाँले तिनीहरुलाई सृष्टि गर्नुभयो तिनीहरुलाई आशिष दिनु भयो अनि तिनीहरुलाई \"मानिस\" भन्नुभयो।', 'जब आदम १३० वर्षको वृद्ध भएका थिए, तिनको फेरि अर्को एउटा छोरो जन्मियो र उनले छोरोको नाउँ सेत राख्यो।', 'सेतको जन्म भएपछि आदम अझ ८०० वर्ष सम्म जीवित रहे अनि उनको अरु पनि छोरा-छोरीहरु भए।', 'आदम ९३० वर्षसम्म बाँचे र मरे।', 'जब सेत १०५ वर्षको भए तब उनको एउटा छोरो जन्मियो जसको नाउँ उनले एनोश राखे।', 'एनोश जन्मेपछि सेत ८०७ वर्षसम्म जीवित रहे र यो समयमा सेतका अरु छोरा-छोरीहरु जन्मे।', 'यसर्थ सेत जम्मा ९१२ वर्षसम्म बाँचे र मरे।', 'एनोशको उमेर ९० वर्षको भएपछि उनको एउटा छोरो जन्मियो जसको नाउँ केनान राखियो।', 'केनान जन्मेपछि एनोश ८१५ वर्ष सम्म बाँचे। यो समयमा एनोशका अरु छोरा-छोरीहरु पनि जन्मे', 'यसर्थ एनोश जम्म ९०५ वर्ष बाँचे र मरे।', 'केनान ७० वर्ष पुगेपछि उसको एउटा छोरा जन्मियो, उनले छोरोको नाउँ महलेल राखे।', 'महलेलले जन्म लिएपछि केनान ८४० वर्ष उमेरसम्म बाँचे। त्यस समयमा केनानका आठ छोरा-छोरीहरुले पनि जन्म लिए', 'यसर्थ केनान ९१० वर्ष सम्म बाँचे र मरे।', 'जब महलेल ६५ वर्षको भयो उसको एउटा छोरो जन्मियो जसको नाउँ येरेद राखियो।', 'येरेद जन्मेपछि महलेल ८३० वर्ष सम्म बाँचे र त्यस अवधिमा उसका धेरै छोरा-छोरीहरु जन्मे।', 'यसर्थ महलेल जम्मा ८९५ वर्ष सम्म बाँचे र मरे।', 'जब येरेद १६२ वर्ष पुगे उनको एउटा छोरो जन्मियो जसको नाउँ हनोक राखिय।', 'हनोक जन्मिएपछि येरेद ८०० वर्ष सम्म बाँचे। यस अवधिमा येरेदका अरु छोरा-छोरीहरु भए।', 'यसर्थ येरेद जम्मा ९६२ वर्षसम्म बाँचे।', 'जब हनोक ६५ वर्ष पुगे उनको एउटा छोरो जन्मियो जसको नाउँ मतूशेलह राखियो।', 'मतूशेलह जन्मेपछि हनोक ३०० वर्ष सम्म परमेश्वरको पछि-पछि हिंडिरहे। यस अवधिमा उसको अरु छोरा-छोरीहरु जन्मे।', 'यसर्थ हनोक ३६५ वर्ष सम्म बाँचे।', 'एक दिन हनोक परमेश्वरसित हिंडिरहेको समयमा हनोक हराए। परमेश्वरले उसलाई जिउँदै स्वर्ग लानु भयो।', 'जब मतूशेलह १८६ वर्षको थिए उनको एउटा छोरो जन्मियो जसको नाउँ लेमेक राखियो।', 'लेमेक जन्मिएपछि मतूशेलह ६८२ वर्ष सम्म बाँचे। यस अवधि भित्र उनको अन्य छोरा-छोरीहरु पनि जन्मे।', 'यसर्थ मतूशेलह ९६९ वर्ष सम्म बाँचे।', 'जब लेमेक १८२ वर्षको थिए उनको एउटा छोरा जन्मियो।', 'उनले आफ्नो छोरोको नाउँ न्\\u200cह राखे। उनले भने, \"यसले हाम्रो काममा विश्राम दिओस्। परमेश्वरले भूमिलाई श्राप दिनु भएकोले हामी खेतीको लागि कठिन परिश्रम गर्छौ। तर नूहले हामीलाई विश्राम दिनु हुनेछ।\"')]\n",
            "[('After Noah was born, Lamech lived 595 years and had other sons and daughters.', 'So Lamech lived a total of 777 years; then he died.', 'After Noah was 500 years old, he had sons named Shem, Ham, and Japheth.', 'The number of people on earth continued to increase. When these people had daughters, the sons of God saw how beautiful they were. So they chose the women they wanted. They married them, and the women had their children.', 'Then the Lord said, \"People are only human. I will not let my Spirit be troubled by them forever. I will let them live only 120 years.\"', 'During this time and also later, the Nephilim people lived in the land. They have been famous as powerful soldiers since ancient times.', 'The Lord saw that the people on the earth were very evil. He saw that they thought only about evil things all the time.', 'The Lord was sorry that he had made people on the earth. It made him very sad in his heart.', 'So the Lord said, \"I will destroy all the people I created on the earth. I will destroy every person and every animal and everything that crawls on the earth. And I will destroy all the birds in the air, because I am sorry that I have made them.\"', 'But Noah pleased the Lord.', \"This is the history of Noah's family. He was a good man all his life, and he always followed God.\", 'Noah had three sons: Shem, Ham, and Japheth.', 'When God looked at the earth, he saw that people had ruined it. Violence was everywhere, and it had ruined their life on earth.', 'So God said to Noah, \"Everyone has filled the earth with anger and violence. So I will destroy all living things. I will remove them from the earth.', 'Use cypress wood and build a boat for yourself. Make rooms in the boat and cover it with tar inside and out.', '\"This is the size I want you to make the boat: 300 cubits long, 50 cubits wide, and 30 cubits high.', 'Make a window for the boat about 1 cubit below the roof. Put a door in the side of the boat. Make three floors in the boat: a top deck, a middle deck, and a lower deck.', '\"Understand what I am telling you. I will bring a great flood of water on the earth. I will destroy all living things that live under heaven. Everything on the earth will die.', 'I will make a special agreement with you. You, your wife, your sons, and their wives will all go into the boat.', 'Also, you will take two of every living thing on the earth with you into the boat. Take a male and female of every kind of animal so that they might survive with you.', 'Two of every kind of bird, animal, and creeping thing will come to you so that you might keep them alive.', 'Also bring every kind of food into the boat, for you and for the animals.\"', 'Noah did everything God commanded him.', 'Then the Lord said to Noah, \"I have seen that you are a good man, even among the evil people of this time. So gather your family, and all of you go into the boat.', 'Get seven pairs (seven males and seven females) of every kind of clean animal. And get one pair (one male and one female) of every other animal on the earth. Lead all these animals into the boat with you.', 'Get seven pairs (seven males and seven females) of all the birds. This will allow all these animals to continue living on the earth after the other animals are destroyed.', 'Seven days from now, I will send much rain on the earth. It will rain for 40 days and 40 nights, and I will wipe everything off the face of the earth. I will destroy everything I made.\"', 'Noah did everything the Lord told him to do.', 'Noah was 600 years old at the time the rains came.', 'He and his family went into the boat to be saved from the flood. His wife and his sons and their wives were on the boat with him.', 'Then animals went into the boat in groups of two, male and female, just as God commanded.', 'All the clean animals, all the other animals on the earth, the birds, and everything that crawls on the earth went into the boat with Noah.', 'Seven days later the flood started. The rain began to fall on the earth.', 'On the 7th day of the second month, when Noah was 600 years old, the springs under the earth broke through the ground, and water flowed out everywhere. The sky also opened like windows and rain poured down.', 'The rain fell on the earth for 40 days and 40 nights.', 'That same day Noah went into the boat with his wife, his sons Shem, Ham, and Japheth, and their wives.', 'They and every kind of animal on the earth were in the boat. Every kind of cattle, every kind of animal that crawls on the earth, and every kind of bird were in the boat.', 'All these animals went into the boat with Noah. They came in groups of two from every kind of animal that had the breath of life.', 'All these animals went into the boat in groups of two, just as God had commanded Noah. Then the Lord closed the door behind Noah.', 'Water flooded the earth for 40 days. The water began rising and lifted the boat off the ground.', 'The water continued to rise, and the boat floated on the water high above the earth.', 'The water rose so much that even the highest mountains were covered by the water.', 'The water continued to rise above the mountains. The water was more than 20 feet above the highest mountain.', 'Every living thing on earth died  —  every man and woman, every bird, and every kind of animal. All the many kinds of animals and all the things that crawl on the ground died. Every living, breathing thing on dry land died.', 'In this way God wiped the earth clean  —  he destroyed every living thing on the earth  —  every human, every animal, everything that crawls, and every bird. All that was left was Noah and his family and the animals that were with him in the boat.', 'The water continued to cover the earth for 150 days.', 'But God did not forget about Noah. God remembered him and all the animals that were with him in the boat. God made a wind blow over the earth, and all the water began to disappear.', 'Rain stopped falling from the sky, and water stopped flowing from under the earth.', 'The water that covered the earth began to go down. After 150 days the water was low enough that the boat touched land again.', 'The boat stopped on one of the mountains of Ararat on the 17th day of the seventh month.', 'The water continued to go down, and by the first day of the tenth month, the tops of the mountains were above the water.', 'Forty days later Noah opened the window he had made in the boat.', 'Then he sent out a raven. The raven flew from place to place until the ground was dry and the water was gone.', 'Noah also sent out a dove. He wanted it to find dry ground. He wanted to know if water still covered the earth.', 'The dove could not find a place to rest because water still covered the earth, so the dove came back to the boat. Noah reached out his hand and caught the dove and brought it back into the boat.', 'After seven days Noah again sent out the dove.', 'And that afternoon the dove came back to Noah. The dove had a fresh olive leaf in its mouth. This was a sign to show Noah that there was dry ground on the earth.', \"Seven days later Noah sent the dove out again. But this time the dove didn't come back.\", 'After that Noah opened the door of the boat. He looked and saw that the ground was dry. This was the first day of the first month of the year. He was 601 years old.', 'By the 27th day of the second month, the ground was completely dry.', 'Then God said to Noah,', '\"Leave the boat. You, your wife, your sons, and your sons\\' wives should go out now.', 'Bring every living animal out of the boat with you — all the birds, animals, and everything that crawls on the earth. These animals will make many more animals, and they will fill the earth again.\"', \"So Noah went out with his sons, his wife, and his sons' wives.\"), ('न्\\u200cह जन्मेपछि लेमेक ५९५ वर्षसम्म जीवित रहे। त्यस अवधिमा उनका अरु छोरा छोरीहरु जन्मे।', 'लेमेक जम्मा ७७७ वर्षसम्मा बाँचे।', 'नूह ५०० वर्ष पुगेपछि उनको शेम, हाम र येपेत छोराहरु जन्मे।', 'पृथ्वीमा जब मानिसहरुको संख्या बढदै गयो, तिनीहरुले कन्याहरुलाई जन्म दिए। परमेश्वरका छोराहरुले ती मानव कन्याहरुलाई मन पराए। यसकारण परमेश्वरका छोराहरुले आफूले रोजेका केही कन्याहरुलाई विवाह गरे।', 'तब परमेश्वरले भन्नुभयो, \"तिनीहरु मरणशील भएकाले मानव रुपमा लामो समयसम्म बाँच्ने छैनन्। तिनीहरुको आयु केवल १२० वर्षसम्म मात्र हुने छ।\"', 'यस पृथ्वीमा नपील मानिसहरु त्यस समय र त्यसपछि पनि थिए। परमेश्वरका छोराहरुले जब मनुष्य कन्याहरुसित शारीरिक सम्बन्ध राखे तिनीहरुले परमेश्वरका छोराहरुका नानीहरु जन्माए। तिनीहरु प्राचीन समयबाट नै प्रसिद्ध लडाकुहरु थिए।', 'परमप्रभुले देख्नु भयो पृथ्वीका मानिसहरुमा दुष्टता अत्यन्तै धेरै थियो अनि तिनीहरुले मनमा जे चिताउँद थिए सँधै विचारहरु नै दुष्टपूर्ण हुन्थ्यो।', 'अनि परमप्रभु पृथ्वीमा मनुष्य जाति सृष्टि गरेकोमा दुःखी हुनुभयो। त्यसले परमप्रभुलाई हृदयबाट नै दुःखी तुल्यायो।', 'तब परमप्रभुले भन्नुभयो, \"पुथ्वीबाट नै यी मानिसहरुलाई म ध्वंश पार्ने छु। म मानिस, घस्रने र अन्य पशुहरु अनि आकाशमा उड्ने चराहरु जे मैले सृष्टि गरें म सबैलाई ध्वंश पार्नेछु।\"', 'तर न्\\u200cहले परमप्रभुलाई खुशी तुल्याए।', 'यो नूहको पारिवारीक इतिहास हो। न्\\u200cह उसको जीनवनभरि एकजना असल व्यक्ति थिए। नूहले सँधैं परमेश्वरको अनुसरण गर्द थिए।', 'नूहका तीन छोराहरु शेम, हाम र येपेत नाउँ भएका थिए।', 'परमेश्वरको नजरमा पृथ्वी भ्रष्ट थियो। मानिसहरुले पृथ्वीमा हिंसा ब्याप्त पारेका थिए।', 'तब परमेश्वरले नूहलाई भन्नुभयो, \"मानिसहरुको हिंसाले पृथ्वी भरिएकोले यसमा भएका सबै प्राणीहरुलाई नष्ट पार्न मैले निर्णय लिएँ। यसर्थ पृथ्वीसितै तिनीहरु सबैलाई म झट्टै नष्ट पार्नेछु।', 'तैंले गोपेर काठको एउटा जहाज बनाउनु र त्यसमा कोठाहरु बनाउनु र त्यसको भित्र र बाहिर पट्टी अलकत्राले लिप्नु।', '\"त्यो जहाज ३०० हात लामो, ५० हात चौडा र ३० हात अल्गो बनाउनु र त्यसमा छाना लगाउनु।', 'जब छानाको एक हात तल झ्याल बनाउँनु। त्यस जहाजको एकापट्टी एउटा ढोका राख्नु र त्यसमा पहिले, दोस्रो र तेस्रो तला बनाउनु।', '\"मेरो भागमा म यस धर्तीका सबै प्राणीहरुको सर्वनाश पार्न खतरनाक बाढी ल्याइरहेको छु। सजीव वस्तुहरु मर्नेछन्।', 'तर म तँसँग एउटा करार गर्नेछु। जहाज भित्र पस्दा तैंले आफूसँग आफ्नो छोराहरु, पत्नी, अनि बुहारीहरु लानु।', 'अनि आफूसँग प्रत्येक जोडी जीवित प्राणी जहाज भित्र लानु, ती जीवित प्राणीहरु सबै भाले-पोथीको जोडी होस् र तिनीहरु पनि तिमीहरुसितै बाँचिरहुन्।', 'जीवन रक्षाको निम्ति प्रत्येक जातका पशु चरा र घस्रने प्राणीहरु त्यहाँ तिमीहरुसित रहनेछन्।', 'अनि तेरो भागमा सबै प्रकारको खाद्य सामग्री भोजनको लागि जम्मा गर्नु। तेरो र ती सब प्राणीहरुका निम्ति भोजन हुनेछ।\"', 'परमेश्वरको आज्ञा अनुसार नूहले सबै काम पूरा गर्यो।', 'त्यसपछि परमप्रभुले नूहलाई भन्नुभयो, \"आफ्नो पुरै परिवारसित जहाजमापस किनभने पृथ्वीमा अहिले जीवित रहेका मानिसहरुमा तँ मात्र असल मानिस छस् भनी मैले देखें।', 'सात जोडी, सातवटा भाले र सातवटा पोथी शुद्ध पशुहरु र एक जोडी एउटा भाले र एउटा पोथी अशुद्ध पशु।', 'अनि सबै जातका चराहरुबाट पनि सातवटा भाले र सातवटा पोथी लिएर जहाजभित्र पसा। यी पशु-चराहरु अरु सबै ध्वंश गरिए पछि यिनीहरुका जातिहरुलाई पृथ्वीमा बचाई राख्नु यी सब तैंले लानु पर्छ।', 'अबदेखि सातौं दिनमा म यस पृथ्वीमा चालीस दिन चालीस रात पानी पार्नेछु अनि यस पृथ्वीबाट मैले सृष्टि गरेका सबै जीवित प्राणीहरु ध्वंश पार्नेछु।\"', 'अनि परमप्रभुबाट भएको आज्ञा नूहले पूर्ण रुपले पालन गरे।', 'जब पृथ्वीमा प्रलय आयो न्\\u200cह ६०० वर्ष पुगेका थिए', 'प्रलयबाट बाँच्नको निम्ति नूह आफ्नो छोराहरु अनि पत्नी र बुहारीहरु लिएर जहाजभित्र पसे।', 'तब प्राणीहरु, नर र नारी, जोडी नूहकहाँ जहाजमा आए।', 'परमेश्वरले आज्ञा गर्नु भए अनुसार धर्तीमा सबै स्वच्छ, अस्वच्छ प्राणीहरु तथा घस्रिने प्राणीहरु आए।', 'अनि ठीक सात दिनपछि पृथ्वीमा जल-प्रलयको पानी पर्नलाग्यो।', 'नूहको जीवनको ६०० वर्षको दोस्रो महीनाको सातौं दिनमा जमीनबाट मूल फुट्\\u200cयो अनि आकाशमा ठूला-ठूला प्वालहरु बनिए।', 'अनि पृथ्वीमा मूसलधारे पानी चालीस दिन चालीस रात एकोहोरो परिरह्यो।', 'त्यही दिन नूह, उसकी पत्नी, छोराहरु शेम, हाम र येपेत अनि बुहारीहरु जहाज भित्र गए।', 'ती मानिसहरु, प्रत्येक जातका भाले पोथी गरी जोडी जोडी वन पशुहरु, घरमा पालिने पशुहरु, भूँईमा घस्रने जन्तुहरु अनि प्रत्येक जातका चराहरु जहाजमा पसे।', 'यी सबै पशु-चराहरु नूहसंगै जहाजमा पसे। सास फेर्ने सबै जीवित प्राणीहरु भाले र पोथीको जोडीको दलमा ती पशु चराहरु जहाजमा आए।', 'यी सबै पशुहरु परमेश्वरले नूहलाई दिनु भएको आज्ञा अनुसार जोडी जोडी भएर आए। त्यसपछि परमप्रभुले जहाजको ढोका बन्द गरिदिनु भयो।', 'जल प्रलय पृथ्वीमा चालीस दिन चालीस रातसम्म भयो। पानी बढेर जहाजलाई जमीनबाटमाथि उचाल्न थाल्यो।', 'पानीको स्तर माथि उठ्\\u200cयो अनि नाव पानीमा तैरिन थाल्यो।', 'पानी यति साह्रो बढयो अग्लो-अग्लो पहाडहरु पनि पानीले ढाकिए।', 'एकोहोरो पानी परिरहेकोले पृथ्वीमा यति धेरै पानी भयो अग्ला पहाडहरु पनि पानीमा बीस फिट डुबे।', 'पृथ्वीमा बस्ने सबै पुरुष र स्त्रीहरु घरेलु पशुहरु, र जंङ्गली पशुहरु, पृथ्वीमाथि उड्ने सबै प्राणीहरु अनि सबै सजीव वस्तुहरु जो सुख्खा भूमिमा थिए मरे।', 'यसर्थ पृथ्वीको सतहमा रहने मानिसहरु पशुहरु, घस्रिने जन्तुहरु अनि आकाशमा उड्ने प्राणीहरु परमेश्वरले नष्ट पार्नु भयो। यी सब प्राणीहरुलाई पृथ्वीबाट नष्ट गरियो। केवल नूह र उनीसंगै जहाजमा भएका मानिसहरु र अन्य प्राणीहरु मात्र जीवित रहे।', 'एक सय पचास दिनसम्म परेको पानी पृथ्वीमाथि बगिरह्यो।', 'नूह र उनीसित जहाजमा जो मानिस पशु र चराहरु थिए, तिनीहरुलाई परमेश्वरले सम्झनु भयो। परमेश्वरले पृथ्वीमा हावा बहाउनु भयो। र पानी बिस्तारै घट्न थाल्यो।', 'आकाशबाट पानी पर्न छोडे पछि भूमि मुनिबाट पनि पानी बग्न छोडयो।', 'त्यसपछि बिस्तारै जमिनमा पानी घट्न थाल्यो। १५० दिन पुगेपछि पानी घटेको थियो', 'अनि सातौं महीनाको सत्रौं दिन अरारात पर्वतमा जहाज अडियो।', 'यसरी पानी दशौं महीना नपुगुञ्जेलसम्म घटिरह्यो। महीनाको पहिला दिन पर्वतको चुचुराहरु देखिए।', 'त्यसपछि चालीसौं दिनको अन्तमा न्\\u200cहले जहाजको ढोका खोलेर एउटा कागलाई उडाई दिए।', 'अनि त्यो काग पृथ्वीमा पानी नसुकुञ्जेलसम्म उडेर जाँदै-फर्कंदै गरिरह्यो।', 'त्यसपछि उनले फेरि पृथ्वीको सतहमा पानी सुकीसकेको छ वा छैन जान्न जहाजबाट एउटा ढुकुर उडाइ दिए।', 'तर त्यस ढुकुरले पृथ्वीमा कतै आफ्नो पाऊ राख्ने ठाउँ पाएन। जमीनमा कतै पाऊ राख्ने ठाउँ नपाएर त्यो ढुकुर फर्केपछि नहुले हात फिंजाएर त्यसलाई समाती जहाजभित्र पसाए।', 'नूहले अझै सात दिन पर्खेर फेरि त्यस ढुकुरलाई जहाजबाट बाहिर उडाइदिए,', 'अनि त्यो ढुकुर साँझमा फेरि जहाजमा फर्किएर आयो। यस पल्ट नूहले पृथ्वीको सतहबाट पानी सुकेको चाल पाए कारण यस पल्ट त्यस ढुकुरले आफ्नो चुच्चोमा एउटा भद्राक्षको पात चेपेर ल्याएको थियो।', 'त्यसपछि नूहले फेरि सात दिनसम्म पर्खे र त्यही ढुकुरलाई जहाजबाहिर उडाइ दिए तर यस पल्ट त्यो ढुकुर फर्केर नूह भएको जहाजमा आएन।', 'नूहको उमेरको ६०१ वर्ष भएको थियो पहिलो महीनाको पहिलो दिन पृथ्वीको सतहमाथि पानी पूर्णरुपले सुक्यो। यसर्थ नूहले जहाजको ढोका खोलेर हेर्दा देख्यो पृथ्वीको सतहमा पानी सुकिसकेको थियो।', 'दोस्रो महीनाको सत्ताईसौं दिनमा पृथ्वीको सतहबाट सम्पूर्ण रूपले पानी सुकेको थियो।', 'तब परमेश्वरले नूहलाई भन्नुभयो,', '\"तँ, तेरी पत्नी, तेरा छोराहरु र बुहारीहरु लिएर जहाज बाहिर आइज।', 'जहाजमा तँसँग जे जति चराहरु, पाल्तू जनावर, वनका जनावार भूमिमा घस्रने जन्तुहरु ती सब भूमिमा ओह्राल जसले गर्दा तिनीहरुले पृथ्वीमा आफ्नो सन्तान बढाउन्, पशुहरुले तिनीहरुको संख्या पृथ्वीमा बढाउन्।\"', 'यसर्थ, नूह उनका छोराहरु, उनकी पत्नी तथा बुहारीहरु जहाजबाट बाहिर भूमिमा निस्के।')]\n",
            "[('All the animals, everything that crawls, and every bird left the boat. All the animals came out of the boat in family groups.', 'Then Noah built an altar to honor the Lord. Noah took some of all the clean birds and some of all the clean animals and burned them on the altar as a gift to God.', 'As long as the earth continues, there will always be a time for planting and a time for harvest. There will always be cold and hot, summer and winter, day and night on earth.\"', 'God blessed Noah and his sons and said to them, \"Have many children. Fill the earth with your people.', 'Every animal on earth, every bird in the air, every animal that crawls on the ground, and every fish in the sea will be afraid of you. All of them will be under your control.', 'In the past, I gave you the green plants to eat. Now every animal will also be food for you. I give you everything on earth — it is yours.', 'But I give you one command. You must not eat meat that still has its life (blood) in it.', 'Also, I will demand your blood for your lives. That is, I will demand the life of any person or animal that takes a human life.', '\"God made humans to be like himself. So whoever kills a person must be killed by another person.', '\"Have many children and fill the earth with your people.\"', 'Then God said to Noah and his sons,', '\"I now make my promise to you and to your people who will live after you.', 'I make my promise to all the birds, and to all the cattle, and to all the animals that came out of the boat with you. I make my promise to every living thing on earth.', 'This is my promise to you: All life on the earth was destroyed by the flood. But that will never happen again. A flood will never again destroy all life on the earth.\"', 'And God said, \"I will give you something to prove that I made this promise to you. It will continue forever to show that I have made an agreement with you and every living thing on earth.', 'I am putting a rainbow in the clouds as proof of the agreement between me and the earth.', 'When I bring clouds over the earth, you will see the rainbow in the clouds.', 'When I see this rainbow, I will remember the agreement between me and you and every living thing on the earth. This agreement says that a flood will never again destroy all life on the earth.', 'When I look and see the rainbow in the clouds, I will remember the agreement that continues forever. I will remember the agreement between me and every living thing on the earth.\"', 'So God said to Noah, \"This rainbow is proof of the agreement that I made with all living things on earth.\"', \"Noah's sons came out of the boat with him. Their names were Shem, Ham, and Japheth. (Ham was the father of Canaan.)\", \"These three men were Noah's sons. And all the people on earth came from these three sons.\", 'Noah became a farmer and planted a vineyard.', 'One day Noah made some wine. He got drunk, went into his tent, and took off all his clothes.', 'Ham, the father of Canaan, saw that his father was naked and told his brothers who were outside the tent.', 'Shem and Japheth took a robe, put it across their shoulders, and walked backward into the tent. Then they covered their father without looking at him.', 'Later, Noah woke up. (He was sleeping because of the wine.) When he learned what his youngest son Ham had done to him,', 'he said, \"May there be a curse on Canaan! May he be a slave to his brothers.\"', 'Noah also said, \"May the Lord, the God of Shem, be praised! May Canaan be Shem\\'s slave.', 'May God give more land to Japheth. May God live in Shem\\'s tents, and may Canaan be their slave.\"', 'After the flood Noah lived 350 years.', 'He lived a total of 950 years; then he died.', 'Chapter 10.', \"This is the history of the families of Shem, Ham, and Japheth. They are Noah's sons. These men had children after the flood.\", \"Japheth's sons were Gomer, Magog, Madai, Javan, Tubal, Meshech, and Tiras.\", \"Gomer's sons were Ashkenaz, Riphath, and Togarmah.\", \"Javan's sons were Elishah, Tarshish, Kittim, and Dodanim.\", 'All the people who lived in the area around the Mediterranean Sea came from these sons of Japheth. The people separated and went to different countries according to languages, families, and nations.', \"Ham's sons were Cush, Mizraim, Put, and Canaan.\", \"Cush's sons were Seba, Havilah, Sabtah, Raamah, and Sabteca. Raamah's sons were Sheba and Dedan.\", 'Cush also had a son named Nimrod who became a very powerful man on earth.', 'He was a great hunter before the Lord. That is why people compare other men to him and say, \"That man is like Nimrod, a great hunter before the Lord.\"', \"Nimrod's kingdom spread from Babylon to Erech, to Akkad, and then to Calneh in the land of Babylonia.\", 'Nimrod also went into Assyria. In Assyria, Nimrod built the cities of Nineveh, Rehoboth Ir, Calah, and', 'Resen. (Resen is the city between Nineveh and Calah, the big city.)', 'Mizraim was the father of the people of Lud, Anam, Lehab, Naphtuh,', 'Pathrus, Casluh, and Caphtor. (The Philistine people came from Casluh.)', \"Canaan was the father of Sidon. Sidon was Canaan's first son. Canaan was also the father of the Hittites,\", 'Jebusites, Amorites, Girgashites,', 'Hivites, Arkites, the Sinites,', 'Arvadites, Zemarites, and Hamathites. The families of Canaan spread to different parts of the world.', 'The land where the Canaanites lived went from Sidon down along the coast to Gerar and from Gaza as far east as Sodom and Gomorrah and from Admah and Zeboiim as far north as Laish.', 'All these people were descendants of Ham. They are arranged by families, languages, countries, and nations.', \"Shem was Japheth's older brother. One of Shem's descendants was Eber, the father of all the Hebrew people.\", \"Shem's sons were Elam, Asshur, Arphaxad, Lud, and Aram.\", \"Aram's sons were Uz, Hul, Gether, and Mash.\", 'Arphaxad was the father of Shelah. Shelah was the father of Eber.', 'Eber was the father of two sons. One son was named Peleg. He was given this name because the earth was divided during his life. The other son was named Joktan.', 'Joktan was the father of Almodad, Sheleph, Hazarmaveth, Jerah,', 'Hadoram, Uzal, Diklah,', 'Obal, Abimael, Sheba,', \"Ophir, Havilah, and Jobab. All these people were Joktan's sons.\", 'They lived in the area between Mesha and the hill country in the East. Mesha was toward the country of Sephar.', 'These are the people from the family of Shem. They are arranged by families, languages, countries, and nations.'), ('आफ्नो-आफ्नो परिवार, प्रत्येक जनावर, घस्रने प्राणीहरु, प्रत्येक चरा जो पनि पृथ्वीमाथि हिंड्डुल गर्छन् तथा आकाशमा उड्छन् ती सबै पृथ्वीमा ओर्लिए।', 'त्यसपछि नूहले परम्मप्रभुको निम्ति एउटा वेदी उभ्याए र उनले केही पवित्र पशुहरु र पवित्र चराहरु परमप्रभुको निम्ति वेदीमा होमबलि चढाए।', 'जहिलेसम्म पृथ्वी रहन्छ, बिउ छर्ने र फसल काट्ने समय, जाडो र गर्मी, ग्रीष्म र शिशिर, दिन अनि रातको कहिल्यै अन्त हुनेछैन।\"', 'परमेश्वरले नूह र उसका छोराहरुलाई आशीर्वाद दिनुभयो। उहाँले तिनीहरुलाई भन्नुभयो, \"तिमीहरुका सन्तानहरुको संख्या यति सम्म बढोस् धर्ती फेरि मानिसहरुले भरियोस्।', 'यस पृथ्वीको प्रत्येक पशु, आकाशको प्रत्येक चरा, प्रत्येक जन्तु जो भूइँमा घस्रन्छ र समुद्रका प्रत्येक माछा तिमीसित डराउने छन। तिनीहरु सबै तेरो नियन्त्रणमा बसुन्।', 'कुनै पनि गतिशील चीज तेरो आहारको निम्ति होस्, जस्तो मैले पहिले हरियो उद्भिदहरु खाद्यको निम्ति दिएँ अहिले तलाईं प्रत्येक चीज खानको निम्ति दिन्छु।', 'जिउँदो पशुहरुको मासुमा जतिञ्जेलसम्म रगत रहन्छ त्यो चाँहि नखानु।', 'अब उसो, यदि कुनै सजीवले एकजना मानिसलाई मार्छ भने, यसले त्यसको लागि आफ्नो जीवन दिनु पर्छ। यदि एकजना मानिसलाई अर्को मानिसले मार्छ भने म उसको जीवन लिनेछु।', '\"यदि कसैले एउटा मानिसलाई मार्छ त्यसलाई अर्को मानिसले प्राणदण्ड दिनु पर्छ, कारण परमेश्वरले मानिसलाई आफ्नै स्वरुपमा सृष्टि गर्नु भएको छ।\"', '\"अनि तिमीले धेरै सन्तानहरु पाउनेछौ जसले गर्दा तिम्रो जनसंख्या बढ्नेछ अनि धर्ती भर्नेछ।\"', 'तब परमेश्वरले नूह र उनका छोराहरुलाई भन्नुभयो,', '\"म तिमी, तिम्रा भावी सन्तान अनि तिमीसित भएको प्रत्येक सजीव वस्तुसित विशेष सम्झौता तयार गर्दै छु।', 'म मेरो करार सबै चराहरु अनि पाल्तू पशुहरु अनि पृथ्वीमा भएका सबै जनावरहरुसित जो तिमीहरुसित जहाजभित्र, पृथ्वीको सबै जीवित प्राणीहरुसित गर्नेछु।', 'तिमीहरुसित म यो करार गर्दैछु अब उसो कहिल्यै पनि जल प्रलयद्वारा प्राणीहरु नष्ट हुने छैनन् अनि अब फेरि पृथ्वीलाई नष्ट पार्न जल-प्रलय कहिल्यै हुनेछैन।\"', 'अनि परमेश्वरले भन्नुभयो, \"यो चाँहि मैले तिमीहरु र तिमीहरुसित भएका प्राणीहरुसित गरेको करारको चिन्ह हो। यो करार पृथ्वीमा तिमीहरुका सन्तान जति पनि जन्मन्छन् सबैसित सधैं रही रहनेछ।', 'तिमीहरुसित मैले स्थापित गरेको करारको चिन्ह स्वरुप बादलमा इन्द्रेणी बनिए त्यो इन्द्रेणी म र पृथ्वीको करारको प्रमाण हो।', 'जब म पृथ्वीमाथि बादल ल्याउँछु बादलमा इन्द्रेणी देखा पर्छ।', 'म मेरो करार सम्झनेछु ताकि कहिले पनि फेरि बाढीले पृथ्वीका सजीव प्राणीहरुलाई नष्ट गर्ने छैन।', 'जब म इन्द्रेणीलाई देख्छु म त्यो करार सधैं सम्झना गर्नेछु म अनि पृथ्वीमा भएको प्रत्येक जीवित प्राणीहरु बिचमा भएको करार सम्झना गर्नेछु।\"', 'अनि परमेश्वरले नूहलाई भन्नुभयो, \"यही नै म र पृथ्वीमा भएका सबै जीवित प्राणीहरुसित स्थापित गरिएको करारको चिन्ह हो।\"', 'जहाजबाट निस्केका नूहका छोराहरु शेम, हाम र येपेत थिए (हाम कनानका पिता थिए)', 'यी तिनै जना नूहका छोराहरु थिए र यी तीन जनाका सन्तानहरुले नै यो पृथ्वी भरियो।', 'नूह नै दाखको खेती गर्ने पहिलो खेतीवाला थिए।', 'नूहले दाखरस बनाएर पिए अनि माते र उनी पालभित्र सुतिरहे। नूहले कुनै लुगा लगाएका थिएनन्।', 'कनानका बाबु हामले आफ्नो बाबु न्\\u200cहलाई नाङ्गै सुतिरहेको देख्यो र त्यो बाहिर आएर आफ्नो दुवै दाज्यूहरुलाई बाबु नाङ्गै सुतिरहेको कुरो सुनायो। तब शेम र येपेतले एउटा कोट लिएर दुबैजनाको कुममा राखी पछिल्तिरवाट हिंडेर आफ्नो बाबुको नाङ्गो शरीर ढाकिदिए।', 'तिनीहरु पछिल्तिर फर्केका थिए र तिनीहरुले बाबुलाई नाङ्गो देखेनन्।', 'जब नूह मद्य निद्राबाट बिउँझिए उसको कान्छो छोरोले के गरेको थियो थाहा पाए।', 'तब नूहले भने, \"कनानलाई सराप लागोस्, ऊ आफ्ने दाज्यू-भाइहरुको कमारो हुनेछ।\"', 'तब नूहले भने, \"शेमका परमप्रभु परमेश्वर, धन्यका होऊन्। कनान उनको दास बनियोस्।', 'परमेश्वरले येपेतको विकास गराई दिऊन्, अनि येपेत शेमको पालहरुमा बसोस्, अनि कनान उसको कमारा होस्।\"', 'नूह जल प्रलयपछि ३५० वर्ष बाँचे र मरे।', 'यसर्थ नूह जम्मा ९५० वर्ष बाँचे र मरे।', 'अध्याय १०.', 'नूहका छोराहरु शेम, हाम र येपेत थिए र यिनीहरुको पारिवारिक इतिहास यही हो। नूहको छोराहरुका धेरै सन्तानहरु भए।', 'येपेतका छोराहरु थिए गोमेर, मागोग, मादे, यावान, तूबल, मेशेक र तीरास।', 'गोमेरका छोराहरु थिए अशकनज, रीपत र तोगर्मा', 'याबानका छोराहरु थिए-एलीशा, तर्शोश, कित्तीम र दोदानीम।', 'तिनीहरुबाटै समुद्रतट वासीहरु फिंजिए। तिनीहरुको देशभित्र आफ्नो भाषा र जाति अनुसार फिंजिए। यी सबै येपेतका छोराहरु थिए।', 'हामका छोराहरु थिए कूश, मिश्र, पूत र कनान।', 'कूशका छोहरु थिए-सबा, हवीला, सबता, रामा र सबतका। रामाका छोराहरु थिए-शबा र ददान।', 'निम्रोद कूशको छोरा थियो। निम्रोद ज्यादै शक्तिशाली योद्धा बनिने पहिले मानिस थिए।', 'परमप्रभुको महान योद्धा शिकारीहरु मध्ये एकजना थिए। त्यसकारण मानिसहरु निम्रोदसित तुलना गर्छन् अनि भन्दछन्, \"यो मानिस परमप्रभुको दृष्टिमा निम्रोद जस्तै राम्रो शिकारी हो।\"', 'शुरूमा तिनको राज्य शिनारको बाबेल, एरेक, अक्कद र कल्ने थियो।', 'यहाँबाट तिनी अश्शूर गए अनि नीनवे, रहोबोतीर र कालह शहरहरु बनाए।', 'कालह र नीनवे माझ तिनले शहर रेसेन बनाए। ती शहरहरु मध्ये कालह सबै भन्दा ठूलो थियो।', 'मिश्र, लूद, अनाम, लहाब, नप्तूह,', 'पत्रुस, कसलू अनि कपतोर मानिसहरुका पिता थिए। (पलिश्ती मानिसहरु कसलूका सन्तान थिए।)', 'कनान सीदोनका पिता थिए र त्यो नै कनानका जेठो छोरो थियो। कनान हेत मानिसहरूका पिता थिए।', 'कनानबाट हित्ती, यबूसी, एमोरी, गिर्गाशी,', 'हिब्बा, अर्कोत र सिनीत मानिसहरु,', 'अर्वादी, समारी र हमाती मानिसहरु उत्पन्न भए। यसरी कनानका सन्तानहरु संसारका जताततै फिंजिए।', 'कनानी मानिसहरुको भूमिको सिमाना उत्तरमा सीदोनदेखि दक्षिणमा गरारसम्म, पश्चिममा गाजादेखि सदोमसम्म र पूर्वमा गमोरा, अदाम र सबोयीमदेखि लाशासम्म थियो।', 'ती सब मानिसहरु हामका सन्तान थिए र ती सबै मानिसहरुको आफ्नो-आफ्नो भाषा र आफ्नै भूमि थियो र तिनीहरुको एउटा अलगै राज्य थियो।', 'शेम येपेतका जेठा दाज्यू थिए। शेमका सन्तानहरुमा एक जना एबेर सबै हिब्रू मानिसहरुका पिता थिए।', 'शेमका छोराहरु एलाम, अश्शूर, अर्पक्षद, लूद अराम थिए।', 'अरामका छोराहरु ऊज, हुल, गेतेर अनि मश थिए।', 'अर्पक्षद शेलहका पिता थिए, शेलह एबेरका पिता थिए थिए,', 'एबेर दुइजना छोराहरूका पिता थिए जसमा एकजनाको नाउँ पेलेग थियो। उसलाई पेलेग नाउँ राखिएको कारण उसकै जीवनकालमा पृथ्वी विभक्त भएको थियो। अर्को छोरोको नाउँ योक्तान थियो।', 'योक्तान अल्मोदाद, शेलेप, हसर्मवित र येरह,', 'हदोराम, ऊजाल, दिक्ला,', 'ओबाल, अबमाएल, शबा,', 'ओपीर, हवीला अनि योबाबको पिता थिए। यी सबै मानिसहरु योक्तानका छोराहरू थिए।', 'ती सबै मानिसहरू मेशा र पूर्वमा पहाडी भूमि इलाकामा बसो बास गर्थे। मेशा सापारा भूमितिर पर्थ्यो।', 'ती मानिसहरु शेमको परिवारका थिए। तिनीहरु आफ्नो वंश, परिवार, भाषा, भूमि र राष्टमा गठित थिए।')]\n",
            "[(\"This is the list of the families from Noah's sons. They are arranged according to their nations. From these families came all the people who spread across the earth after the flood.\", 'Chapter 11.', 'There was a time when the whole world spoke one language. Everyone used the same words.', 'Then people began to move from the East. They found a plain in the land of Babylonia and stayed there to live.', 'Then they said to each other, \"Let\\'s make some bricks of clay and bake them in the fire.\" Then they used these bricks as stones, and they used tar as mortar.', 'Then the people said, \"Let\\'s build ourselves a city and a tower that will reach to the sky. Then we will be famous. This will keep us together so that we will not be scattered all over the earth.\"', 'Then the Lord came down to see the city and the tower.', 'The Lord said, \"These people all speak the same language. And I see that they are joined together to do this work. This is only the beginning of what they can do. Soon they will be able to do anything they want.', 'Let\\'s go down and confuse their language. Then they will not understand each other.\"', 'So people stopped building the city, and the Lord scattered them all over the earth.', 'That is the place where the Lord confused the language of the whole world. That is why it is called Babel. And it was from there that the Lord caused the people to spread out to all the other places on earth.', \"This is the history of Shem's family. Two years after the flood, when Shem was 100 years old, his son Arphaxad was born.\", 'After that Shem lived 500 years. He had other sons and daughters.', 'When Arphaxad was 35 years old, his son Shelah was born.', 'After Shelah was born, Arphaxad lived 403 years. During that time he had other sons and daughters.', 'After Shelah was 30 years old, his son Eber was born.', 'After Eber was born, Shelah lived 403 years. During that time he had other sons and daughters.', 'After Eber was 34 years old, his son Peleg was born.', 'After Peleg was born, Eber lived another 430 years. During that time he had other sons and daughters.', 'After Peleg was 30 years old, his son Reu was born.', 'After Reu was born, Peleg lived another 209 years. During that time he had other sons and daughters.', 'After Reu was 32 years old, his son Serug was born.', 'After Serug was born, Reu lived another 207 years. During that time he had other sons and daughters.', 'After Serug was 30 years old, his son Nahor was born.', 'After Nahor was born, Serug lived another 200 years. During that time he had other sons and daughters.', 'After Nahor was 29 years old, his son Terah was born.', 'After Terah was born, Nahor lived another 119 years. During that time he had other sons and daughters.', 'After Terah was 70 years old, his sons Abram, Nahor, and Haran were born.', \"This is the history of Terah's family. Terah was the father of Abram, Nahor, and Haran. Haran was the father of Lot.\", 'Haran died in his hometown, Ur of Babylonia, while his father Terah was still alive.', \"Abram and Nahor both married. Abram's wife was named Sarai. Nahor's wife was named Milcah. Milcah was the daughter of Haran. Haran was the father of Milcah and Iscah.\", 'Sarai did not have any children because she was not able to have children.', \"Terah took his family and left Ur of Babylonia. They planned to travel to Canaan. Terah took his son Abram, his grandson Lot (Haran's son), and his daughter-in-law Sarai (Abram's wife). They traveled to the city of Haran and decided to stay there.\", 'Terah lived to be 205 years old. He died in Haran.', 'Chapter 12.', 'The Lord said to Abram, \"Leave your country and your people. Leave your father\\'s family and go to the country that I will show you.', 'I will build a great nation from you. I will bless you and make your name famous. People will use your name to bless other people.', 'I will bless those who bless you, and I will curse those who curse you. I will use you to bless all the people on earth.\"', 'So Abram left Haran just like the Lord said, and Lot went with him. Abram was 75 years old when he left Haran.', 'He took his wife Sarai, his nephew Lot, all the slaves, and all the other things he had gotten in Haran. Then he and his group moved to the land of Canaan.', 'Abram traveled through the land as far as the town of Shechem and then to the big tree at Moreh. The Canaanites were living in the land at that time.', 'The Lord appeared to Abram and said, \"I will give this land to your descendants.\" Abram built an altar to honor the Lord who appeared to him there.', 'Then he left that place and traveled to the mountains east of Bethel. He set up his tent there. Bethel was to the west, and Ai was to the east. Abram built another altar at that place to honor the Lord, and he worshiped the Lord there.', 'Then he moved on toward the Negev, stopping for a time at several places on the way.', 'During this time there was not enough food in the land, so Abram went down to Egypt to live.', 'Just before they arrived in Egypt, Abram told Sarai, \"Look, I know that you are a very beautiful woman.', \"When the Egyptian men see you, they will say, 'This woman is his wife.' Then they will kill me and keep you alive because they want you.\", 'So tell them that you are my sister. Then they will be good to me because of you. In this way you will save my life.\"', 'So when Abram went into Egypt, the Egyptian men saw that Sarai was a very beautiful woman.', \"Even some of Pharaoh's officials noticed her and told Pharaoh how beautiful she was. So they took her to Pharaoh's house.\", \"Pharaoh was kind to Abram because he thought Abram was Sarai's brother. He gave Abram sheep, cattle, donkeys, camels, and men and women servants.\", \"Pharaoh took Abram's wife, so the Lord caused Pharaoh and all the people in his house to have very bad diseases.\", 'Pharaoh called Abram and said to him, \"You have done a very bad thing to me! Why didn\\'t you tell me Sarai was your wife?', 'You said, \\'She is my sister.\\' Why did you say that? I took her so that she could be my wife, but now I give your wife back to you. Take her and go!\"', 'Then Pharaoh commanded his men to lead Abram out of Egypt. So Abram and his wife left that place and took everything they had with them.', 'Chapter 13.', 'So Abram left Egypt. He traveled through the Negev with his wife and everything he owned. Lot was also with them.', 'At this time Abram was very rich. He had many animals and much silver and gold.', 'Abram continued traveling around. He left the Negev and went back to Bethel. He went to the place between the city of Bethel and Ai, where he and his family had camped before.', 'This was where Abram had built an altar earlier. So he worshiped the Lord there.', 'During this time Lot was also traveling with Abram. Lot had many animals and tents.', 'Abram and Lot had so many animals that the land could not support both of them together.', '(The Canaanites and the Perizzites were also living in this land at the same time.) The shepherds of Abram and Lot began to argue.', 'So Abram said to Lot, \"There should be no arguing between you and me or between your people and my people. We are all brothers.'), ('नूहका सन्तानको वंश अनुसार तिनीहरुका जातिहरु यी नै थिए। यिनीहरु आफ्ना आफ्ना राष्ट्रमा गठित थिए अनि जल-प्रलय पछि तिनीहरूबाट नै पृथ्वीमा सबै मानिसहरु फिंजिएका थिए।', 'अध्याय ११.', 'यतिबेला समस्त पृथ्वीमा एउटै भाषा थियो अनि थोरै शब्दहरु थिए।', 'जब मानिसहरू पूर्वबाट बसाइँ सर्न थाले शिनार देशमा तिनीहरूले समतल भूमि भेटे अनि तिनीहरूले त्यहाँ बसोबास शुरू गरे।', 'तिनीहरू आपसमा कुरा गरे, \"हामीले ईंटा बनाउनु पर्छ अनि त्यसलाई कडा बनाउनको लागि आगोमा पोल्नु पर्छ।\" यसर्थ तिनीहरुको घर बनाउदा ढुङ्गाको सट्चामा ईंटालाई प्रयोग गरे अनि ईंटा जोड्न माटोको सट्टामा मसला प्रयोग गरे।', 'तिनीहरूले भने, \"आऊ, हामी आफ्नो निम्ति एउटा शहर बनाऔं अनि एउटा धरहरा बनाऔं जसको शिखर स्वर्ग पुग्छ। हामी प्रख्यात हुनु पर्छ र यसले हामीलाई संगठित राख्नेछ। नत्र हामी संसारभरि छरपष्ट हुनेछौं।\"', 'परमप्रभु मानिसहरूले बनाउदै गरेको किल्ला र शहर हेर्न तल आउनु भयो।', 'तब परमप्रभुले भन्नुभयो, \"हेर, तिनीहरू मिलेर एक भएका छन्, तिनीहरूले एउटै भाषा बोल्दैछन्। तिनीहरूले के गर्ने छन् यो एउटा शुरू मात्र हो, अब चाँडै तिनीहरूले के गर्न खोज्छन् त्यही गर्न सक्ने हुन्छन्।', 'यसर्थ हामी तिनीहरूको माझमा जाऔं र तिनीहरूको भाषामा खलबल पारिदिऔं जसले गर्दा तिनीहरू एक-अर्काले बोलेको भाषा बुझ्\\u200cन नसकून्।\"', 'यसरी परमप्रभुले तिनीहरूलाई पृथ्वीको सम्पूर्ण सतहभरि छरपष्ट पारिदिनु भयो। यसर्थ उहाँले भवन निर्माणको काम रोकिदिनु भयो।', 'त्यसकारण यो शहरको नाउँ बाबेल राखियो। यसप्रकार त्यस ठाउँबाट परमप्रभुले मानिसहरूलाई पृथ्वीको सतहभरि छरपष्ट पार्नु भएको थियो।', 'शेमको पारिवारिक इतिहास यही हो। जल प्रलय भएको दुइ वर्षपछि शेम जब एक सय वर्ष पुगेका थिए तिनी अर्पक्षदका पिता भए।', 'अर्पक्षद जन्मेपछि शेम पाँच सय वर्षसम्म बाँचे अनि तिनका अन्य छोरा-छोरीहरू पनि जन्मे।', 'जब अर्पक्षद पैतीस वर्षका भए तिनको एउटा छोरो जन्म्यो जसको नाउँ शेलह थियो।', 'शेलह पछि अर्पक्षद चार सय तीन वर्ष सम्म बाँचे अनि त्यस अवधिमा तिनका अन्य छोरा-छोरीहरू पनि भए।', 'शेलह तीस वर्ष पुगेपछि तिनको एउटा छोरो जन्मियो जसको नाउँ एबेर थियो।', 'एबेर जन्मेपछि शेलह चार सय तीन वर्षसम्म जीवित रहे। त्यस अवधिमा शेलहका अन्य छोरा-छोरीहरू जन्मे।', 'एबेर चौंतीस वर्षको भएपछि तिनको एउटा पेलेग नाउँका छोरो जन्मियो।', 'पेलेग जन्मेपछि पनि एबेर चार सय तीस वर्षसम्म बाँचे अनि त्यस अवधिमा तिनका अन्य छोरा-छोरीहरू जन्मे।', 'पेलेगको उमेर तीस वर्ष पुग्दा तिनको रऊ नाउँका छोरो जन्मियो।', 'रऊ जन्मेपछि पेलेग अर्को दुइ सय नौ वर्षसम्म बाँचे अनि यस अवधिमा तिनका अरू छोरा-छोरीहरू पनि जन्मिए।', 'रऊको उमेर बत्तीस वर्ष पुग्दा तिनको सरूग नाउँका छोरो जन्मियो।', 'सरूगको जन्म पछि रऊ अर्को दुई सय सात वर्षसम्म बाँचे अनि त्यस अवधिमा तिनका अरू छोरा-छोरीहरु पनि जन्मिए।', 'सरूगको उमेर तीस वर्ष पुग्दा तिनको नाहोर नाउँको छोरो जन्मियो।', 'नाहोर जन्मेपछि पनि सरूग दुइ सय वर्षसम्म बाँचे अनि त्यस अवधिमा तिनका अरू छोरा-छोरीहरू जन्मे।', 'नाहोरको उमेर उन्तीस वर्ष पुग्दा तिनको तेरह नाउँको छोरो जन्मियो।', 'तेरह जन्मेपछि पनि नाहोर एक सय उन्नाइस वर्षसम्म बाँचे अनि त्यस अवधिमा तिनका अरू छोरा-छोरीहरू जन्मे।', 'तेरहको उमेर सत्तरी वर्ष पुग्दा तिनका अब्राम, नाहोर र हारान नाउँका छोराहरू जन्मे।', 'तेरह परिवारको इतिहास यही हो। तेरह अब्राम, नाहोर र हारानका बुबा थिए। हारान लूतका बुबा थिए।', 'हारान बाबेलको ऊरमा मरे अनि त्यस समय तिनका बुबा तेरह जीवित नै थिए।', 'अब्राम र नाहोरले विवाह गरे, अब्रामको पत्नीको नाउँ साराई र नाहोरकी पत्नीको नाउँ मिल्का थियो। मिल्का हारानकी छोरी थिईन र हारान मिल्का र इस्काका बुबा थिए।', 'साराईबाट कुनै सन्तान भएन कारण ऊ बाँझी थिईन।', 'तेरहले आफ्नो छोरो अब्राम, उसको नाति लूत, बुहारी सराई-अब्रामकी पत्नी, लिएर कल्दीहरूको ऊर शहर छाडी कनान देशमा जान हिंडे। तर तिनीहरू हारानसम्म गई त्यही बसो-बास गर्न थाले।', 'तेरह दुइ सय पाँच वर्षसम्म बाँचेर हारानमा मरे।', 'अध्याय १२.', 'परमप्रभुले अब्रामलाई भन्नुभयो, \"तिम्रो देश र तिम्रा मानिसहरूलाई छोड, र मैले देखाएको देशमा जाऊ।', 'म तिमीलाई आशीर्वाद दिनेछु, तिमीबाट महान् राष्ट्र बनाएर प्रसिद्ध बनाउनेछु। तब मानिसहरूले अरूलाई आशीर्वाद दिदाँ तिम्रो नाउँ लिनेछन्।', 'म तिमीलाई आशीर्वाद दिने मानिसहरूलाई आशीर्वाद दिनेछु, अनि तिमीलाई सराप दिनेहरूलाई सराप दिनेछु। पृथ्वीमा सबै मानिसहरूलाई आशीर्वाद दिनका लागि म तिम्रो नाउँ प्रयोग गर्नेछु।\"', 'यसर्थ अब्रामले परमप्रभुले भन्नु भए अनुसार नै हारान छोडे अनि लूत तिनीसित गए। जब अब्रामले हारान छोडे त्यस समय तिनी पचहत्तर वर्ष पुगेका थिए।', 'अब्रामले आफ्नी पत्नी साराई, उसको भतिजो लूत, आफूसित भएका कमारा-कमारीहरू र हारानमा आफ्नो जे जति थियो लिएर कनान गए।', 'अब्राम कनान देशको शकेमसम्म गए अनि मोरेमा ठूलो रूख भएको ठाउँ सम्म पुगे। त्यस समयमा कनानी मानिसहरू त्यस ठाउँमा बस्थे।', 'त्यहाँ परमप्रभु अब्रामको अघि प्रकट हुनुभयो अनि भन्नुभयो, \"म तेरो सन्तानहरूलाई (अनि अरू कसैलाई पनि होइन) यो भूमि दिनेछु।\" अब्रामले त्यस ठाउँमा जहाँ परमप्रभु तिनी अघि प्रकट हुनु भएको थियो। पूजाको निम्ति वेदी बनाए।', 'त्यसपछि अब्रामले त्यस ठाउँ छाडी बेतेलको पूर्वको पहाडतिर यात्रा गरे अनि तिनले त्यहीं आफ्नो पाल बनाए। त्यस ठाउँबाट बेतेल पश्चिममा थियो र ऐ शहर पूर्वमा पर्थ्यो। तिनले त्यस ठाउँमा परमप्रभुको निम्ति वेदी बनाए अनि परमप्रभुको उपासना गरे।', 'तब अब्रामले यहूदाको दक्षिणी मरूभूमि इलाका नेगेबपट्टि आफ्नो यात्रा शुरू गरे।', 'त्यस समय त्यहाँ अनिकाल चलिरहेको थियो। त्यहाँ अनिकाल अत्यन्तै भएकोले तिनी केही समयको निम्ति मिश्र देशतिर लागे।', 'तिनी मिश्र देशमा पस्न मात्र लागेका थिए, तिनले आफ्नी पत्नी साराईलाई भने, \"हेर, म जान्दछु तिमी सुन्दरी नारी छ्यौ।', 'जब मिश्र देशीहरूले तिमीलाई देख्नेछन् तिनीहरूले भन्नेछन् त्यो स्त्री मानिस मेरी पत्नी हुनु पर्छ र तिनीहरूले मलाई मार्नेछन्। तर तिमीलाई जीवित राख्नेछन्।', 'यसकारण दया गरी तिनीहरूलाई भनी देऊ तिमी मेरी बहिनी हौ, यदि तिमीले यसो भन्यौ भने, त्यो मेरो निम्ति राम्रो हुन सक्छ अनि तिम्रो कारणले म बाँच्नेछु।\"', 'अब्राम मिश्र देश भित्र पसे अनि त्यहाँका मानिसहरूले साराईलाई सुन्दरी देखे।', 'केही मिश्र देशी अधिकारीहरूले राजा फिरऊनलाई साराईको सुन्दरताको विषयमा सुनाए। तिनीहरूले साराईलाई फिरऊनकहाँ लगे।', 'फिरऊनले अब्रामसित राम्रो व्यवहार गरे कारण तिनलाई फिरऊनले साराईको भाइ सम्झे अनि उनले अब्रामलाई भेडा, गाई-वस्तु, गधा तथा पुरूष अनि महिला सेवकहरू र ऊँटहरू पनि दिए।', 'फिरऊनले अब्रामकी पत्नी साराईलाई राखेकोले परमप्रभुले फिरऊन र उसको परिवारमाथि कष्टदायक रोगहरू पठाउनु भयो।', 'यसर्थ फिरऊनले अब्रामलाई बोलाएर भने, \"तिमीले मेरो निम्ति एकदमै नराम्रो काम गर्यौ तिमीले साराईलाई तिम्री पत्नी भनी बताएनौ। किन?', 'तिमीले तिम्री बहिनी भन्यौ। किन तिमीले त्यस्तो कुरा गर्यौ। यसैकारण मैले साराईलाई आफ्नी पत्नी होस् भनेर राखे। तर अब म तिम्री पत्नी तिमीलाई नै फर्काउँछु र उसलाई लिएर तिमी जाऊ।\"', 'त्यसपछि फिरऊनले आफ्ना मानिसहरूलाई अब्रामलाई मिश्रदेशबाट बाहिर पठाउने आज्ञा दिए। यसर्थ अब्राम र तिनकी पत्नी तिनीहरूसित भएका सबै मानिसहरू नयाँ अरू कुराहरू लिएर त्यहाँबाट प्रस्थान गरे।', 'अध्याय १३.', 'अब्रामले उसकी पत्नी, भतिजो लूत अनि तिनीसंग भएका अन्य सबै वस्तुहरू लिएर नेगेब हुँदै मिश्र देश छोडे।', 'यस समय अब्राम निकै धनी थिए कारण तिनीसँग घेरै गाई-वस्तु र घेरै सुन-चाँदीहरू थिए।', 'अब्रामले नेगेब पार गरे अनि बेतेल गए अनि त्यो स्थान बेतेल अनि ऐ शहरहरूको बीचमा आइपुगे।', 'त्यहाँ पाल बनाएका थिए अनि वेदी पनि बनाएका थिए। यसर्थ अब्रामले त्यहाँ परमप्रभुलाई उपासना गरे।', 'त्यस समयमा लूत पनि अब्रामसित यात्रा गरिरहेको थियो अनि तिनीसंग पनि पशुहरू र पालहरू धेरै नै थिए।', 'अब्राम र लूतसित यति धेरै पशुहरू र सरसमानहरू भएकाले जग्गाको अभावले तिनीहरूलाई एकैठाउँ संगै बस्न असम्भव भयो।', 'त्यसै समयमा त्यस भूमिमा कनानी परिज्जी मानिसहरू पनि बस्थे। अब्राम र लूतका गोठालाहरू एक-अर्कासंग झगडा गर्न थाले।', 'यसर्थ अब्रामले लूतलाई भने, \"हामीहरू सबै दाज्यू-भाइहरू हौ, यसर्थ तँ र म अथवा तेरा मानिसहरू र मेरा मानिसहरू भनेर झगडा हुनु हुँदैन।')]\n"
          ]
        }
      ],
      "source": [
        "for batch_num, batch in enumerate(iterator):\n",
        "    print(batch)\n",
        "    if batch_num > 3:\n",
        "        break"
      ]
    },
    {
      "cell_type": "code",
      "execution_count": 200,
      "metadata": {
        "id": "XnanjzqtzQi8"
      },
      "outputs": [],
      "source": [
        "from torch import nn\n",
        "\n",
        "criterian = nn.CrossEntropyLoss(ignore_index=kannada_to_index[PADDING_TOKEN],\n",
        "                                reduction='none')\n",
        "\n",
        "# When computing the loss, we are ignoring cases when the label is the padding token\n",
        "for params in transformer.parameters():\n",
        "    if params.dim() > 1:\n",
        "        nn.init.xavier_uniform_(params)\n",
        "\n",
        "optim = torch.optim.Adam(transformer.parameters(), lr=1e-4)\n",
        "device = torch.device('cuda') if torch.cuda.is_available() else torch.device('cpu')"
      ]
    },
    {
      "cell_type": "code",
      "execution_count": 201,
      "metadata": {
        "id": "_saWU5QmVem2"
      },
      "outputs": [],
      "source": [
        "NEG_INFTY = -1e9\n",
        "\n",
        "def create_masks(eng_batch, kn_batch):\n",
        "    num_sentences = len(eng_batch)\n",
        "    look_ahead_mask = torch.full([max_sequence_length, max_sequence_length] , True)\n",
        "    look_ahead_mask = torch.triu(look_ahead_mask, diagonal=1)\n",
        "    encoder_padding_mask = torch.full([num_sentences, max_sequence_length, max_sequence_length] , False)\n",
        "    decoder_padding_mask_self_attention = torch.full([num_sentences, max_sequence_length, max_sequence_length] , False)\n",
        "    decoder_padding_mask_cross_attention = torch.full([num_sentences, max_sequence_length, max_sequence_length] , False)\n",
        "\n",
        "    for idx in range(num_sentences):\n",
        "      eng_sentence_length, kn_sentence_length = len(eng_batch[idx]), len(kn_batch[idx])\n",
        "      eng_chars_to_padding_mask = np.arange(eng_sentence_length + 1, max_sequence_length)\n",
        "      kn_chars_to_padding_mask = np.arange(kn_sentence_length + 1, max_sequence_length)\n",
        "      encoder_padding_mask[idx, :, eng_chars_to_padding_mask] = True\n",
        "      encoder_padding_mask[idx, eng_chars_to_padding_mask, :] = True\n",
        "      decoder_padding_mask_self_attention[idx, :, kn_chars_to_padding_mask] = True\n",
        "      decoder_padding_mask_self_attention[idx, kn_chars_to_padding_mask, :] = True\n",
        "      decoder_padding_mask_cross_attention[idx, :, eng_chars_to_padding_mask] = True\n",
        "      decoder_padding_mask_cross_attention[idx, kn_chars_to_padding_mask, :] = True\n",
        "\n",
        "    encoder_self_attention_mask = torch.where(encoder_padding_mask, NEG_INFTY, 0)\n",
        "    decoder_self_attention_mask =  torch.where(look_ahead_mask + decoder_padding_mask_self_attention, NEG_INFTY, 0)\n",
        "    decoder_cross_attention_mask = torch.where(decoder_padding_mask_cross_attention, NEG_INFTY, 0)\n",
        "    return encoder_self_attention_mask, decoder_self_attention_mask, decoder_cross_attention_mask"
      ]
    },
    {
      "cell_type": "markdown",
      "metadata": {
        "id": "gdgtTSKvwN9_"
      },
      "source": [
        "Modify mask such that the padding tokens cannot look ahead.\n",
        "In Encoder, tokens before it should be -1e9 while tokens after it should be -inf.\n",
        " "
      ]
    },
    {
      "cell_type": "markdown",
      "metadata": {
        "id": "xLcXI4wkMLck"
      },
      "source": [
        "Note the target mask starts with 2 rows of non masked items: https://github.com/SamLynnEvans/Transformer/blob/master/Beam.py#L55\n"
      ]
    },
    {
      "cell_type": "code",
      "execution_count": 202,
      "metadata": {
        "colab": {
          "base_uri": "https://localhost:8080/"
        },
        "id": "ju59VDGLuOqf",
        "outputId": "0ad34e31-521a-4ca2-f444-26b5374946f6"
      },
      "outputs": [
        {
          "name": "stdout",
          "output_type": "stream",
          "text": [
            "Epoch 0\n"
          ]
        },
        {
          "ename": "OutOfMemoryError",
          "evalue": "CUDA out of memory. Tried to allocate 124.00 MiB. GPU 0 has a total capacity of 4.00 GiB of which 30.64 MiB is free. Of the allocated memory 2.13 GiB is allocated by PyTorch, and 433.63 MiB is reserved by PyTorch but unallocated. If reserved but unallocated memory is large try setting PYTORCH_CUDA_ALLOC_CONF=expandable_segments:True to avoid fragmentation.  See documentation for Memory Management  (https://pytorch.org/docs/stable/notes/cuda.html#environment-variables)",
          "output_type": "error",
          "traceback": [
            "\u001b[1;31m---------------------------------------------------------------------------\u001b[0m",
            "\u001b[1;31mOutOfMemoryError\u001b[0m                          Traceback (most recent call last)",
            "Cell \u001b[1;32mIn[202], line 14\u001b[0m\n\u001b[0;32m     12\u001b[0m encoder_self_attention_mask, decoder_self_attention_mask, decoder_cross_attention_mask \u001b[38;5;241m=\u001b[39m create_masks(eng_batch, kn_batch)\n\u001b[0;32m     13\u001b[0m optim\u001b[38;5;241m.\u001b[39mzero_grad()\n\u001b[1;32m---> 14\u001b[0m kn_predictions \u001b[38;5;241m=\u001b[39m \u001b[43mtransformer\u001b[49m\u001b[43m(\u001b[49m\u001b[43meng_batch\u001b[49m\u001b[43m,\u001b[49m\n\u001b[0;32m     15\u001b[0m \u001b[43m                             \u001b[49m\u001b[43mkn_batch\u001b[49m\u001b[43m,\u001b[49m\n\u001b[0;32m     16\u001b[0m \u001b[43m                             \u001b[49m\u001b[43mencoder_self_attention_mask\u001b[49m\u001b[38;5;241;43m.\u001b[39;49m\u001b[43mto\u001b[49m\u001b[43m(\u001b[49m\u001b[43mdevice\u001b[49m\u001b[43m)\u001b[49m\u001b[43m,\u001b[49m\u001b[43m \u001b[49m\n\u001b[0;32m     17\u001b[0m \u001b[43m                             \u001b[49m\u001b[43mdecoder_self_attention_mask\u001b[49m\u001b[38;5;241;43m.\u001b[39;49m\u001b[43mto\u001b[49m\u001b[43m(\u001b[49m\u001b[43mdevice\u001b[49m\u001b[43m)\u001b[49m\u001b[43m,\u001b[49m\u001b[43m \u001b[49m\n\u001b[0;32m     18\u001b[0m \u001b[43m                             \u001b[49m\u001b[43mdecoder_cross_attention_mask\u001b[49m\u001b[38;5;241;43m.\u001b[39;49m\u001b[43mto\u001b[49m\u001b[43m(\u001b[49m\u001b[43mdevice\u001b[49m\u001b[43m)\u001b[49m\u001b[43m,\u001b[49m\n\u001b[0;32m     19\u001b[0m \u001b[43m                             \u001b[49m\u001b[43menc_start_token\u001b[49m\u001b[38;5;241;43m=\u001b[39;49m\u001b[38;5;28;43;01mFalse\u001b[39;49;00m\u001b[43m,\u001b[49m\n\u001b[0;32m     20\u001b[0m \u001b[43m                             \u001b[49m\u001b[43menc_end_token\u001b[49m\u001b[38;5;241;43m=\u001b[39;49m\u001b[38;5;28;43;01mFalse\u001b[39;49;00m\u001b[43m,\u001b[49m\n\u001b[0;32m     21\u001b[0m \u001b[43m                             \u001b[49m\u001b[43mdec_start_token\u001b[49m\u001b[38;5;241;43m=\u001b[39;49m\u001b[38;5;28;43;01mTrue\u001b[39;49;00m\u001b[43m,\u001b[49m\n\u001b[0;32m     22\u001b[0m \u001b[43m                             \u001b[49m\u001b[43mdec_end_token\u001b[49m\u001b[38;5;241;43m=\u001b[39;49m\u001b[38;5;28;43;01mTrue\u001b[39;49;00m\u001b[43m)\u001b[49m\n\u001b[0;32m     23\u001b[0m labels \u001b[38;5;241m=\u001b[39m transformer\u001b[38;5;241m.\u001b[39mdecoder\u001b[38;5;241m.\u001b[39msentence_embedding\u001b[38;5;241m.\u001b[39mbatch_tokenize(kn_batch, start_token\u001b[38;5;241m=\u001b[39m\u001b[38;5;28;01mFalse\u001b[39;00m, end_token\u001b[38;5;241m=\u001b[39m\u001b[38;5;28;01mTrue\u001b[39;00m)\n\u001b[0;32m     24\u001b[0m loss \u001b[38;5;241m=\u001b[39m criterian(\n\u001b[0;32m     25\u001b[0m     kn_predictions\u001b[38;5;241m.\u001b[39mview(\u001b[38;5;241m-\u001b[39m\u001b[38;5;241m1\u001b[39m, kn_vocab_size)\u001b[38;5;241m.\u001b[39mto(device),\n\u001b[0;32m     26\u001b[0m     labels\u001b[38;5;241m.\u001b[39mview(\u001b[38;5;241m-\u001b[39m\u001b[38;5;241m1\u001b[39m)\u001b[38;5;241m.\u001b[39mto(device)\n\u001b[0;32m     27\u001b[0m )\u001b[38;5;241m.\u001b[39mto(device)\n",
            "File \u001b[1;32md:\\Transformers_From_scratch\\venv\\Lib\\site-packages\\torch\\nn\\modules\\module.py:1553\u001b[0m, in \u001b[0;36mModule._wrapped_call_impl\u001b[1;34m(self, *args, **kwargs)\u001b[0m\n\u001b[0;32m   1551\u001b[0m     \u001b[38;5;28;01mreturn\u001b[39;00m \u001b[38;5;28mself\u001b[39m\u001b[38;5;241m.\u001b[39m_compiled_call_impl(\u001b[38;5;241m*\u001b[39margs, \u001b[38;5;241m*\u001b[39m\u001b[38;5;241m*\u001b[39mkwargs)  \u001b[38;5;66;03m# type: ignore[misc]\u001b[39;00m\n\u001b[0;32m   1552\u001b[0m \u001b[38;5;28;01melse\u001b[39;00m:\n\u001b[1;32m-> 1553\u001b[0m     \u001b[38;5;28;01mreturn\u001b[39;00m \u001b[38;5;28;43mself\u001b[39;49m\u001b[38;5;241;43m.\u001b[39;49m\u001b[43m_call_impl\u001b[49m\u001b[43m(\u001b[49m\u001b[38;5;241;43m*\u001b[39;49m\u001b[43margs\u001b[49m\u001b[43m,\u001b[49m\u001b[43m \u001b[49m\u001b[38;5;241;43m*\u001b[39;49m\u001b[38;5;241;43m*\u001b[39;49m\u001b[43mkwargs\u001b[49m\u001b[43m)\u001b[49m\n",
            "File \u001b[1;32md:\\Transformers_From_scratch\\venv\\Lib\\site-packages\\torch\\nn\\modules\\module.py:1562\u001b[0m, in \u001b[0;36mModule._call_impl\u001b[1;34m(self, *args, **kwargs)\u001b[0m\n\u001b[0;32m   1557\u001b[0m \u001b[38;5;66;03m# If we don't have any hooks, we want to skip the rest of the logic in\u001b[39;00m\n\u001b[0;32m   1558\u001b[0m \u001b[38;5;66;03m# this function, and just call forward.\u001b[39;00m\n\u001b[0;32m   1559\u001b[0m \u001b[38;5;28;01mif\u001b[39;00m \u001b[38;5;129;01mnot\u001b[39;00m (\u001b[38;5;28mself\u001b[39m\u001b[38;5;241m.\u001b[39m_backward_hooks \u001b[38;5;129;01mor\u001b[39;00m \u001b[38;5;28mself\u001b[39m\u001b[38;5;241m.\u001b[39m_backward_pre_hooks \u001b[38;5;129;01mor\u001b[39;00m \u001b[38;5;28mself\u001b[39m\u001b[38;5;241m.\u001b[39m_forward_hooks \u001b[38;5;129;01mor\u001b[39;00m \u001b[38;5;28mself\u001b[39m\u001b[38;5;241m.\u001b[39m_forward_pre_hooks\n\u001b[0;32m   1560\u001b[0m         \u001b[38;5;129;01mor\u001b[39;00m _global_backward_pre_hooks \u001b[38;5;129;01mor\u001b[39;00m _global_backward_hooks\n\u001b[0;32m   1561\u001b[0m         \u001b[38;5;129;01mor\u001b[39;00m _global_forward_hooks \u001b[38;5;129;01mor\u001b[39;00m _global_forward_pre_hooks):\n\u001b[1;32m-> 1562\u001b[0m     \u001b[38;5;28;01mreturn\u001b[39;00m \u001b[43mforward_call\u001b[49m\u001b[43m(\u001b[49m\u001b[38;5;241;43m*\u001b[39;49m\u001b[43margs\u001b[49m\u001b[43m,\u001b[49m\u001b[43m \u001b[49m\u001b[38;5;241;43m*\u001b[39;49m\u001b[38;5;241;43m*\u001b[39;49m\u001b[43mkwargs\u001b[49m\u001b[43m)\u001b[49m\n\u001b[0;32m   1564\u001b[0m \u001b[38;5;28;01mtry\u001b[39;00m:\n\u001b[0;32m   1565\u001b[0m     result \u001b[38;5;241m=\u001b[39m \u001b[38;5;28;01mNone\u001b[39;00m\n",
            "File \u001b[1;32md:\\Transformers_From_scratch\\BuildingaTransformer\\transformer.py:301\u001b[0m, in \u001b[0;36mTransformer.forward\u001b[1;34m(self, x, y, encoder_self_attention_mask, decoder_self_attention_mask, decoder_cross_attention_mask, enc_start_token, enc_end_token, dec_start_token, dec_end_token)\u001b[0m\n\u001b[0;32m    291\u001b[0m \u001b[38;5;28;01mdef\u001b[39;00m \u001b[38;5;21mforward\u001b[39m(\u001b[38;5;28mself\u001b[39m, \n\u001b[0;32m    292\u001b[0m             x, \n\u001b[0;32m    293\u001b[0m             y, \n\u001b[1;32m   (...)\u001b[0m\n\u001b[0;32m    299\u001b[0m             dec_start_token\u001b[38;5;241m=\u001b[39m\u001b[38;5;28;01mFalse\u001b[39;00m, \u001b[38;5;66;03m# We should make this true\u001b[39;00m\n\u001b[0;32m    300\u001b[0m             dec_end_token\u001b[38;5;241m=\u001b[39m\u001b[38;5;28;01mFalse\u001b[39;00m): \u001b[38;5;66;03m# x, y are batch of sentences\u001b[39;00m\n\u001b[1;32m--> 301\u001b[0m     x \u001b[38;5;241m=\u001b[39m \u001b[38;5;28;43mself\u001b[39;49m\u001b[38;5;241;43m.\u001b[39;49m\u001b[43mencoder\u001b[49m\u001b[43m(\u001b[49m\u001b[43mx\u001b[49m\u001b[43m,\u001b[49m\u001b[43m \u001b[49m\u001b[43mencoder_self_attention_mask\u001b[49m\u001b[43m,\u001b[49m\u001b[43m \u001b[49m\u001b[43mstart_token\u001b[49m\u001b[38;5;241;43m=\u001b[39;49m\u001b[43menc_start_token\u001b[49m\u001b[43m,\u001b[49m\u001b[43m \u001b[49m\u001b[43mend_token\u001b[49m\u001b[38;5;241;43m=\u001b[39;49m\u001b[43menc_end_token\u001b[49m\u001b[43m)\u001b[49m\n\u001b[0;32m    302\u001b[0m     out \u001b[38;5;241m=\u001b[39m \u001b[38;5;28mself\u001b[39m\u001b[38;5;241m.\u001b[39mdecoder(x, y, decoder_self_attention_mask, decoder_cross_attention_mask, start_token\u001b[38;5;241m=\u001b[39mdec_start_token, end_token\u001b[38;5;241m=\u001b[39mdec_end_token)\n\u001b[0;32m    303\u001b[0m     out \u001b[38;5;241m=\u001b[39m \u001b[38;5;28mself\u001b[39m\u001b[38;5;241m.\u001b[39mlinear(out)\n",
            "File \u001b[1;32md:\\Transformers_From_scratch\\venv\\Lib\\site-packages\\torch\\nn\\modules\\module.py:1553\u001b[0m, in \u001b[0;36mModule._wrapped_call_impl\u001b[1;34m(self, *args, **kwargs)\u001b[0m\n\u001b[0;32m   1551\u001b[0m     \u001b[38;5;28;01mreturn\u001b[39;00m \u001b[38;5;28mself\u001b[39m\u001b[38;5;241m.\u001b[39m_compiled_call_impl(\u001b[38;5;241m*\u001b[39margs, \u001b[38;5;241m*\u001b[39m\u001b[38;5;241m*\u001b[39mkwargs)  \u001b[38;5;66;03m# type: ignore[misc]\u001b[39;00m\n\u001b[0;32m   1552\u001b[0m \u001b[38;5;28;01melse\u001b[39;00m:\n\u001b[1;32m-> 1553\u001b[0m     \u001b[38;5;28;01mreturn\u001b[39;00m \u001b[38;5;28;43mself\u001b[39;49m\u001b[38;5;241;43m.\u001b[39;49m\u001b[43m_call_impl\u001b[49m\u001b[43m(\u001b[49m\u001b[38;5;241;43m*\u001b[39;49m\u001b[43margs\u001b[49m\u001b[43m,\u001b[49m\u001b[43m \u001b[49m\u001b[38;5;241;43m*\u001b[39;49m\u001b[38;5;241;43m*\u001b[39;49m\u001b[43mkwargs\u001b[49m\u001b[43m)\u001b[49m\n",
            "File \u001b[1;32md:\\Transformers_From_scratch\\venv\\Lib\\site-packages\\torch\\nn\\modules\\module.py:1562\u001b[0m, in \u001b[0;36mModule._call_impl\u001b[1;34m(self, *args, **kwargs)\u001b[0m\n\u001b[0;32m   1557\u001b[0m \u001b[38;5;66;03m# If we don't have any hooks, we want to skip the rest of the logic in\u001b[39;00m\n\u001b[0;32m   1558\u001b[0m \u001b[38;5;66;03m# this function, and just call forward.\u001b[39;00m\n\u001b[0;32m   1559\u001b[0m \u001b[38;5;28;01mif\u001b[39;00m \u001b[38;5;129;01mnot\u001b[39;00m (\u001b[38;5;28mself\u001b[39m\u001b[38;5;241m.\u001b[39m_backward_hooks \u001b[38;5;129;01mor\u001b[39;00m \u001b[38;5;28mself\u001b[39m\u001b[38;5;241m.\u001b[39m_backward_pre_hooks \u001b[38;5;129;01mor\u001b[39;00m \u001b[38;5;28mself\u001b[39m\u001b[38;5;241m.\u001b[39m_forward_hooks \u001b[38;5;129;01mor\u001b[39;00m \u001b[38;5;28mself\u001b[39m\u001b[38;5;241m.\u001b[39m_forward_pre_hooks\n\u001b[0;32m   1560\u001b[0m         \u001b[38;5;129;01mor\u001b[39;00m _global_backward_pre_hooks \u001b[38;5;129;01mor\u001b[39;00m _global_backward_hooks\n\u001b[0;32m   1561\u001b[0m         \u001b[38;5;129;01mor\u001b[39;00m _global_forward_hooks \u001b[38;5;129;01mor\u001b[39;00m _global_forward_pre_hooks):\n\u001b[1;32m-> 1562\u001b[0m     \u001b[38;5;28;01mreturn\u001b[39;00m \u001b[43mforward_call\u001b[49m\u001b[43m(\u001b[49m\u001b[38;5;241;43m*\u001b[39;49m\u001b[43margs\u001b[49m\u001b[43m,\u001b[49m\u001b[43m \u001b[49m\u001b[38;5;241;43m*\u001b[39;49m\u001b[38;5;241;43m*\u001b[39;49m\u001b[43mkwargs\u001b[49m\u001b[43m)\u001b[49m\n\u001b[0;32m   1564\u001b[0m \u001b[38;5;28;01mtry\u001b[39;00m:\n\u001b[0;32m   1565\u001b[0m     result \u001b[38;5;241m=\u001b[39m \u001b[38;5;28;01mNone\u001b[39;00m\n",
            "File \u001b[1;32md:\\Transformers_From_scratch\\BuildingaTransformer\\transformer.py:179\u001b[0m, in \u001b[0;36mEncoder.forward\u001b[1;34m(self, x, self_attention_mask, start_token, end_token)\u001b[0m\n\u001b[0;32m    177\u001b[0m \u001b[38;5;28;01mdef\u001b[39;00m \u001b[38;5;21mforward\u001b[39m(\u001b[38;5;28mself\u001b[39m, x, self_attention_mask, start_token, end_token):\n\u001b[0;32m    178\u001b[0m     x \u001b[38;5;241m=\u001b[39m \u001b[38;5;28mself\u001b[39m\u001b[38;5;241m.\u001b[39msentence_embedding(x, start_token, end_token)\n\u001b[1;32m--> 179\u001b[0m     x \u001b[38;5;241m=\u001b[39m \u001b[38;5;28;43mself\u001b[39;49m\u001b[38;5;241;43m.\u001b[39;49m\u001b[43mlayers\u001b[49m\u001b[43m(\u001b[49m\u001b[43mx\u001b[49m\u001b[43m,\u001b[49m\u001b[43m \u001b[49m\u001b[43mself_attention_mask\u001b[49m\u001b[43m)\u001b[49m\n\u001b[0;32m    180\u001b[0m     \u001b[38;5;28;01mreturn\u001b[39;00m x\n",
            "File \u001b[1;32md:\\Transformers_From_scratch\\venv\\Lib\\site-packages\\torch\\nn\\modules\\module.py:1553\u001b[0m, in \u001b[0;36mModule._wrapped_call_impl\u001b[1;34m(self, *args, **kwargs)\u001b[0m\n\u001b[0;32m   1551\u001b[0m     \u001b[38;5;28;01mreturn\u001b[39;00m \u001b[38;5;28mself\u001b[39m\u001b[38;5;241m.\u001b[39m_compiled_call_impl(\u001b[38;5;241m*\u001b[39margs, \u001b[38;5;241m*\u001b[39m\u001b[38;5;241m*\u001b[39mkwargs)  \u001b[38;5;66;03m# type: ignore[misc]\u001b[39;00m\n\u001b[0;32m   1552\u001b[0m \u001b[38;5;28;01melse\u001b[39;00m:\n\u001b[1;32m-> 1553\u001b[0m     \u001b[38;5;28;01mreturn\u001b[39;00m \u001b[38;5;28;43mself\u001b[39;49m\u001b[38;5;241;43m.\u001b[39;49m\u001b[43m_call_impl\u001b[49m\u001b[43m(\u001b[49m\u001b[38;5;241;43m*\u001b[39;49m\u001b[43margs\u001b[49m\u001b[43m,\u001b[49m\u001b[43m \u001b[49m\u001b[38;5;241;43m*\u001b[39;49m\u001b[38;5;241;43m*\u001b[39;49m\u001b[43mkwargs\u001b[49m\u001b[43m)\u001b[49m\n",
            "File \u001b[1;32md:\\Transformers_From_scratch\\venv\\Lib\\site-packages\\torch\\nn\\modules\\module.py:1562\u001b[0m, in \u001b[0;36mModule._call_impl\u001b[1;34m(self, *args, **kwargs)\u001b[0m\n\u001b[0;32m   1557\u001b[0m \u001b[38;5;66;03m# If we don't have any hooks, we want to skip the rest of the logic in\u001b[39;00m\n\u001b[0;32m   1558\u001b[0m \u001b[38;5;66;03m# this function, and just call forward.\u001b[39;00m\n\u001b[0;32m   1559\u001b[0m \u001b[38;5;28;01mif\u001b[39;00m \u001b[38;5;129;01mnot\u001b[39;00m (\u001b[38;5;28mself\u001b[39m\u001b[38;5;241m.\u001b[39m_backward_hooks \u001b[38;5;129;01mor\u001b[39;00m \u001b[38;5;28mself\u001b[39m\u001b[38;5;241m.\u001b[39m_backward_pre_hooks \u001b[38;5;129;01mor\u001b[39;00m \u001b[38;5;28mself\u001b[39m\u001b[38;5;241m.\u001b[39m_forward_hooks \u001b[38;5;129;01mor\u001b[39;00m \u001b[38;5;28mself\u001b[39m\u001b[38;5;241m.\u001b[39m_forward_pre_hooks\n\u001b[0;32m   1560\u001b[0m         \u001b[38;5;129;01mor\u001b[39;00m _global_backward_pre_hooks \u001b[38;5;129;01mor\u001b[39;00m _global_backward_hooks\n\u001b[0;32m   1561\u001b[0m         \u001b[38;5;129;01mor\u001b[39;00m _global_forward_hooks \u001b[38;5;129;01mor\u001b[39;00m _global_forward_pre_hooks):\n\u001b[1;32m-> 1562\u001b[0m     \u001b[38;5;28;01mreturn\u001b[39;00m \u001b[43mforward_call\u001b[49m\u001b[43m(\u001b[49m\u001b[38;5;241;43m*\u001b[39;49m\u001b[43margs\u001b[49m\u001b[43m,\u001b[49m\u001b[43m \u001b[49m\u001b[38;5;241;43m*\u001b[39;49m\u001b[38;5;241;43m*\u001b[39;49m\u001b[43mkwargs\u001b[49m\u001b[43m)\u001b[49m\n\u001b[0;32m   1564\u001b[0m \u001b[38;5;28;01mtry\u001b[39;00m:\n\u001b[0;32m   1565\u001b[0m     result \u001b[38;5;241m=\u001b[39m \u001b[38;5;28;01mNone\u001b[39;00m\n",
            "File \u001b[1;32md:\\Transformers_From_scratch\\BuildingaTransformer\\transformer.py:157\u001b[0m, in \u001b[0;36mSequentialEncoder.forward\u001b[1;34m(self, *inputs)\u001b[0m\n\u001b[0;32m    155\u001b[0m x, self_attention_mask  \u001b[38;5;241m=\u001b[39m inputs\n\u001b[0;32m    156\u001b[0m \u001b[38;5;28;01mfor\u001b[39;00m module \u001b[38;5;129;01min\u001b[39;00m \u001b[38;5;28mself\u001b[39m\u001b[38;5;241m.\u001b[39m_modules\u001b[38;5;241m.\u001b[39mvalues():\n\u001b[1;32m--> 157\u001b[0m     x \u001b[38;5;241m=\u001b[39m \u001b[43mmodule\u001b[49m\u001b[43m(\u001b[49m\u001b[43mx\u001b[49m\u001b[43m,\u001b[49m\u001b[43m \u001b[49m\u001b[43mself_attention_mask\u001b[49m\u001b[43m)\u001b[49m\n\u001b[0;32m    158\u001b[0m \u001b[38;5;28;01mreturn\u001b[39;00m x\n",
            "File \u001b[1;32md:\\Transformers_From_scratch\\venv\\Lib\\site-packages\\torch\\nn\\modules\\module.py:1553\u001b[0m, in \u001b[0;36mModule._wrapped_call_impl\u001b[1;34m(self, *args, **kwargs)\u001b[0m\n\u001b[0;32m   1551\u001b[0m     \u001b[38;5;28;01mreturn\u001b[39;00m \u001b[38;5;28mself\u001b[39m\u001b[38;5;241m.\u001b[39m_compiled_call_impl(\u001b[38;5;241m*\u001b[39margs, \u001b[38;5;241m*\u001b[39m\u001b[38;5;241m*\u001b[39mkwargs)  \u001b[38;5;66;03m# type: ignore[misc]\u001b[39;00m\n\u001b[0;32m   1552\u001b[0m \u001b[38;5;28;01melse\u001b[39;00m:\n\u001b[1;32m-> 1553\u001b[0m     \u001b[38;5;28;01mreturn\u001b[39;00m \u001b[38;5;28;43mself\u001b[39;49m\u001b[38;5;241;43m.\u001b[39;49m\u001b[43m_call_impl\u001b[49m\u001b[43m(\u001b[49m\u001b[38;5;241;43m*\u001b[39;49m\u001b[43margs\u001b[49m\u001b[43m,\u001b[49m\u001b[43m \u001b[49m\u001b[38;5;241;43m*\u001b[39;49m\u001b[38;5;241;43m*\u001b[39;49m\u001b[43mkwargs\u001b[49m\u001b[43m)\u001b[49m\n",
            "File \u001b[1;32md:\\Transformers_From_scratch\\venv\\Lib\\site-packages\\torch\\nn\\modules\\module.py:1562\u001b[0m, in \u001b[0;36mModule._call_impl\u001b[1;34m(self, *args, **kwargs)\u001b[0m\n\u001b[0;32m   1557\u001b[0m \u001b[38;5;66;03m# If we don't have any hooks, we want to skip the rest of the logic in\u001b[39;00m\n\u001b[0;32m   1558\u001b[0m \u001b[38;5;66;03m# this function, and just call forward.\u001b[39;00m\n\u001b[0;32m   1559\u001b[0m \u001b[38;5;28;01mif\u001b[39;00m \u001b[38;5;129;01mnot\u001b[39;00m (\u001b[38;5;28mself\u001b[39m\u001b[38;5;241m.\u001b[39m_backward_hooks \u001b[38;5;129;01mor\u001b[39;00m \u001b[38;5;28mself\u001b[39m\u001b[38;5;241m.\u001b[39m_backward_pre_hooks \u001b[38;5;129;01mor\u001b[39;00m \u001b[38;5;28mself\u001b[39m\u001b[38;5;241m.\u001b[39m_forward_hooks \u001b[38;5;129;01mor\u001b[39;00m \u001b[38;5;28mself\u001b[39m\u001b[38;5;241m.\u001b[39m_forward_pre_hooks\n\u001b[0;32m   1560\u001b[0m         \u001b[38;5;129;01mor\u001b[39;00m _global_backward_pre_hooks \u001b[38;5;129;01mor\u001b[39;00m _global_backward_hooks\n\u001b[0;32m   1561\u001b[0m         \u001b[38;5;129;01mor\u001b[39;00m _global_forward_hooks \u001b[38;5;129;01mor\u001b[39;00m _global_forward_pre_hooks):\n\u001b[1;32m-> 1562\u001b[0m     \u001b[38;5;28;01mreturn\u001b[39;00m \u001b[43mforward_call\u001b[49m\u001b[43m(\u001b[49m\u001b[38;5;241;43m*\u001b[39;49m\u001b[43margs\u001b[49m\u001b[43m,\u001b[49m\u001b[43m \u001b[49m\u001b[38;5;241;43m*\u001b[39;49m\u001b[38;5;241;43m*\u001b[39;49m\u001b[43mkwargs\u001b[49m\u001b[43m)\u001b[49m\n\u001b[0;32m   1564\u001b[0m \u001b[38;5;28;01mtry\u001b[39;00m:\n\u001b[0;32m   1565\u001b[0m     result \u001b[38;5;241m=\u001b[39m \u001b[38;5;28;01mNone\u001b[39;00m\n",
            "File \u001b[1;32md:\\Transformers_From_scratch\\BuildingaTransformer\\transformer.py:144\u001b[0m, in \u001b[0;36mEncoderLayer.forward\u001b[1;34m(self, x, self_attention_mask)\u001b[0m\n\u001b[0;32m    142\u001b[0m \u001b[38;5;28;01mdef\u001b[39;00m \u001b[38;5;21mforward\u001b[39m(\u001b[38;5;28mself\u001b[39m, x, self_attention_mask):\n\u001b[0;32m    143\u001b[0m     residual_x \u001b[38;5;241m=\u001b[39m x\u001b[38;5;241m.\u001b[39mclone()\n\u001b[1;32m--> 144\u001b[0m     x \u001b[38;5;241m=\u001b[39m \u001b[38;5;28;43mself\u001b[39;49m\u001b[38;5;241;43m.\u001b[39;49m\u001b[43mattention\u001b[49m\u001b[43m(\u001b[49m\u001b[43mx\u001b[49m\u001b[43m,\u001b[49m\u001b[43m \u001b[49m\u001b[43mmask\u001b[49m\u001b[38;5;241;43m=\u001b[39;49m\u001b[43mself_attention_mask\u001b[49m\u001b[43m)\u001b[49m\n\u001b[0;32m    145\u001b[0m     x \u001b[38;5;241m=\u001b[39m \u001b[38;5;28mself\u001b[39m\u001b[38;5;241m.\u001b[39mdropout1(x)\n\u001b[0;32m    146\u001b[0m     x \u001b[38;5;241m=\u001b[39m \u001b[38;5;28mself\u001b[39m\u001b[38;5;241m.\u001b[39mnorm1(x \u001b[38;5;241m+\u001b[39m residual_x)\n",
            "File \u001b[1;32md:\\Transformers_From_scratch\\venv\\Lib\\site-packages\\torch\\nn\\modules\\module.py:1553\u001b[0m, in \u001b[0;36mModule._wrapped_call_impl\u001b[1;34m(self, *args, **kwargs)\u001b[0m\n\u001b[0;32m   1551\u001b[0m     \u001b[38;5;28;01mreturn\u001b[39;00m \u001b[38;5;28mself\u001b[39m\u001b[38;5;241m.\u001b[39m_compiled_call_impl(\u001b[38;5;241m*\u001b[39margs, \u001b[38;5;241m*\u001b[39m\u001b[38;5;241m*\u001b[39mkwargs)  \u001b[38;5;66;03m# type: ignore[misc]\u001b[39;00m\n\u001b[0;32m   1552\u001b[0m \u001b[38;5;28;01melse\u001b[39;00m:\n\u001b[1;32m-> 1553\u001b[0m     \u001b[38;5;28;01mreturn\u001b[39;00m \u001b[38;5;28;43mself\u001b[39;49m\u001b[38;5;241;43m.\u001b[39;49m\u001b[43m_call_impl\u001b[49m\u001b[43m(\u001b[49m\u001b[38;5;241;43m*\u001b[39;49m\u001b[43margs\u001b[49m\u001b[43m,\u001b[49m\u001b[43m \u001b[49m\u001b[38;5;241;43m*\u001b[39;49m\u001b[38;5;241;43m*\u001b[39;49m\u001b[43mkwargs\u001b[49m\u001b[43m)\u001b[49m\n",
            "File \u001b[1;32md:\\Transformers_From_scratch\\venv\\Lib\\site-packages\\torch\\nn\\modules\\module.py:1562\u001b[0m, in \u001b[0;36mModule._call_impl\u001b[1;34m(self, *args, **kwargs)\u001b[0m\n\u001b[0;32m   1557\u001b[0m \u001b[38;5;66;03m# If we don't have any hooks, we want to skip the rest of the logic in\u001b[39;00m\n\u001b[0;32m   1558\u001b[0m \u001b[38;5;66;03m# this function, and just call forward.\u001b[39;00m\n\u001b[0;32m   1559\u001b[0m \u001b[38;5;28;01mif\u001b[39;00m \u001b[38;5;129;01mnot\u001b[39;00m (\u001b[38;5;28mself\u001b[39m\u001b[38;5;241m.\u001b[39m_backward_hooks \u001b[38;5;129;01mor\u001b[39;00m \u001b[38;5;28mself\u001b[39m\u001b[38;5;241m.\u001b[39m_backward_pre_hooks \u001b[38;5;129;01mor\u001b[39;00m \u001b[38;5;28mself\u001b[39m\u001b[38;5;241m.\u001b[39m_forward_hooks \u001b[38;5;129;01mor\u001b[39;00m \u001b[38;5;28mself\u001b[39m\u001b[38;5;241m.\u001b[39m_forward_pre_hooks\n\u001b[0;32m   1560\u001b[0m         \u001b[38;5;129;01mor\u001b[39;00m _global_backward_pre_hooks \u001b[38;5;129;01mor\u001b[39;00m _global_backward_hooks\n\u001b[0;32m   1561\u001b[0m         \u001b[38;5;129;01mor\u001b[39;00m _global_forward_hooks \u001b[38;5;129;01mor\u001b[39;00m _global_forward_pre_hooks):\n\u001b[1;32m-> 1562\u001b[0m     \u001b[38;5;28;01mreturn\u001b[39;00m \u001b[43mforward_call\u001b[49m\u001b[43m(\u001b[49m\u001b[38;5;241;43m*\u001b[39;49m\u001b[43margs\u001b[49m\u001b[43m,\u001b[49m\u001b[43m \u001b[49m\u001b[38;5;241;43m*\u001b[39;49m\u001b[38;5;241;43m*\u001b[39;49m\u001b[43mkwargs\u001b[49m\u001b[43m)\u001b[49m\n\u001b[0;32m   1564\u001b[0m \u001b[38;5;28;01mtry\u001b[39;00m:\n\u001b[0;32m   1565\u001b[0m     result \u001b[38;5;241m=\u001b[39m \u001b[38;5;28;01mNone\u001b[39;00m\n",
            "File \u001b[1;32md:\\Transformers_From_scratch\\BuildingaTransformer\\transformer.py:92\u001b[0m, in \u001b[0;36mMultiHeadAttention.forward\u001b[1;34m(self, x, mask)\u001b[0m\n\u001b[0;32m     90\u001b[0m qkv \u001b[38;5;241m=\u001b[39m qkv\u001b[38;5;241m.\u001b[39mpermute(\u001b[38;5;241m0\u001b[39m, \u001b[38;5;241m2\u001b[39m, \u001b[38;5;241m1\u001b[39m, \u001b[38;5;241m3\u001b[39m)\n\u001b[0;32m     91\u001b[0m q, k, v \u001b[38;5;241m=\u001b[39m qkv\u001b[38;5;241m.\u001b[39mchunk(\u001b[38;5;241m3\u001b[39m, dim\u001b[38;5;241m=\u001b[39m\u001b[38;5;241m-\u001b[39m\u001b[38;5;241m1\u001b[39m)\n\u001b[1;32m---> 92\u001b[0m values, attention \u001b[38;5;241m=\u001b[39m \u001b[43mscaled_dot_product\u001b[49m\u001b[43m(\u001b[49m\u001b[43mq\u001b[49m\u001b[43m,\u001b[49m\u001b[43m \u001b[49m\u001b[43mk\u001b[49m\u001b[43m,\u001b[49m\u001b[43m \u001b[49m\u001b[43mv\u001b[49m\u001b[43m,\u001b[49m\u001b[43m \u001b[49m\u001b[43mmask\u001b[49m\u001b[43m)\u001b[49m\n\u001b[0;32m     93\u001b[0m values \u001b[38;5;241m=\u001b[39m values\u001b[38;5;241m.\u001b[39mpermute(\u001b[38;5;241m0\u001b[39m, \u001b[38;5;241m2\u001b[39m, \u001b[38;5;241m1\u001b[39m, \u001b[38;5;241m3\u001b[39m)\u001b[38;5;241m.\u001b[39mreshape(batch_size, sequence_length, \u001b[38;5;28mself\u001b[39m\u001b[38;5;241m.\u001b[39mnum_heads \u001b[38;5;241m*\u001b[39m \u001b[38;5;28mself\u001b[39m\u001b[38;5;241m.\u001b[39mhead_dim)\n\u001b[0;32m     94\u001b[0m out \u001b[38;5;241m=\u001b[39m \u001b[38;5;28mself\u001b[39m\u001b[38;5;241m.\u001b[39mlinear_layer(values)\n",
            "File \u001b[1;32md:\\Transformers_From_scratch\\BuildingaTransformer\\transformer.py:12\u001b[0m, in \u001b[0;36mscaled_dot_product\u001b[1;34m(q, k, v, mask)\u001b[0m\n\u001b[0;32m     10\u001b[0m \u001b[38;5;28;01mdef\u001b[39;00m \u001b[38;5;21mscaled_dot_product\u001b[39m(q, k, v, mask\u001b[38;5;241m=\u001b[39m\u001b[38;5;28;01mNone\u001b[39;00m):\n\u001b[0;32m     11\u001b[0m     d_k \u001b[38;5;241m=\u001b[39m q\u001b[38;5;241m.\u001b[39msize()[\u001b[38;5;241m-\u001b[39m\u001b[38;5;241m1\u001b[39m]\n\u001b[1;32m---> 12\u001b[0m     scaled \u001b[38;5;241m=\u001b[39m \u001b[43mtorch\u001b[49m\u001b[38;5;241;43m.\u001b[39;49m\u001b[43mmatmul\u001b[49m\u001b[43m(\u001b[49m\u001b[43mq\u001b[49m\u001b[43m,\u001b[49m\u001b[43m \u001b[49m\u001b[43mk\u001b[49m\u001b[38;5;241;43m.\u001b[39;49m\u001b[43mtranspose\u001b[49m\u001b[43m(\u001b[49m\u001b[38;5;241;43m-\u001b[39;49m\u001b[38;5;241;43m1\u001b[39;49m\u001b[43m,\u001b[49m\u001b[43m \u001b[49m\u001b[38;5;241;43m-\u001b[39;49m\u001b[38;5;241;43m2\u001b[39;49m\u001b[43m)\u001b[49m\u001b[43m)\u001b[49m \u001b[38;5;241m/\u001b[39m math\u001b[38;5;241m.\u001b[39msqrt(d_k)\n\u001b[0;32m     13\u001b[0m     \u001b[38;5;28;01mif\u001b[39;00m mask \u001b[38;5;129;01mis\u001b[39;00m \u001b[38;5;129;01mnot\u001b[39;00m \u001b[38;5;28;01mNone\u001b[39;00m:\n\u001b[0;32m     14\u001b[0m         scaled \u001b[38;5;241m=\u001b[39m scaled\u001b[38;5;241m.\u001b[39mpermute(\u001b[38;5;241m1\u001b[39m, \u001b[38;5;241m0\u001b[39m, \u001b[38;5;241m2\u001b[39m, \u001b[38;5;241m3\u001b[39m) \u001b[38;5;241m+\u001b[39m mask\n",
            "\u001b[1;31mOutOfMemoryError\u001b[0m: CUDA out of memory. Tried to allocate 124.00 MiB. GPU 0 has a total capacity of 4.00 GiB of which 30.64 MiB is free. Of the allocated memory 2.13 GiB is allocated by PyTorch, and 433.63 MiB is reserved by PyTorch but unallocated. If reserved but unallocated memory is large try setting PYTORCH_CUDA_ALLOC_CONF=expandable_segments:True to avoid fragmentation.  See documentation for Memory Management  (https://pytorch.org/docs/stable/notes/cuda.html#environment-variables)"
          ]
        }
      ],
      "source": [
        "transformer.train()\n",
        "transformer.to(device)\n",
        "total_loss = 0\n",
        "num_epochs = 10\n",
        "\n",
        "for epoch in range(num_epochs):\n",
        "    print(f\"Epoch {epoch}\")\n",
        "    iterator = iter(train_loader)\n",
        "    for batch_num, batch in enumerate(iterator):\n",
        "        transformer.train()\n",
        "        eng_batch, kn_batch = batch\n",
        "        encoder_self_attention_mask, decoder_self_attention_mask, decoder_cross_attention_mask = create_masks(eng_batch, kn_batch)\n",
        "        optim.zero_grad()\n",
        "        kn_predictions = transformer(eng_batch,\n",
        "                                     kn_batch,\n",
        "                                     encoder_self_attention_mask.to(device), \n",
        "                                     decoder_self_attention_mask.to(device), \n",
        "                                     decoder_cross_attention_mask.to(device),\n",
        "                                     enc_start_token=False,\n",
        "                                     enc_end_token=False,\n",
        "                                     dec_start_token=True,\n",
        "                                     dec_end_token=True)\n",
        "        labels = transformer.decoder.sentence_embedding.batch_tokenize(kn_batch, start_token=False, end_token=True)\n",
        "        loss = criterian(\n",
        "            kn_predictions.view(-1, kn_vocab_size).to(device),\n",
        "            labels.view(-1).to(device)\n",
        "        ).to(device)\n",
        "        valid_indicies = torch.where(labels.view(-1) == kannada_to_index[PADDING_TOKEN], False, True)\n",
        "        loss = loss.sum() / valid_indicies.sum()\n",
        "        loss.backward()\n",
        "        optim.step()\n",
        "        #train_losses.append(loss.item())\n",
        "        if batch_num % 100 == 0:\n",
        "            print(f\"Iteration {batch_num} : {loss.item()}\")\n",
        "            print(f\"English: {eng_batch[0]}\")\n",
        "            print(f\"Kannada Translation: {kn_batch[0]}\")\n",
        "            kn_sentence_predicted = torch.argmax(kn_predictions[0], axis=1)\n",
        "            predicted_sentence = \"\"\n",
        "            for idx in kn_sentence_predicted:\n",
        "              if idx == kannada_to_index[END_TOKEN]:\n",
        "                break\n",
        "              predicted_sentence += index_to_kannada[idx.item()]\n",
        "            print(f\"Kannada Prediction: {predicted_sentence}\")\n",
        "\n",
        "\n",
        "            transformer.eval()\n",
        "            kn_sentence = (\"\",)\n",
        "            eng_sentence = (\"should we go to the mall?\",)\n",
        "            for word_counter in range(max_sequence_length):\n",
        "                encoder_self_attention_mask, decoder_self_attention_mask, decoder_cross_attention_mask= create_masks(eng_sentence, kn_sentence)\n",
        "                predictions = transformer(eng_sentence,\n",
        "                                          kn_sentence,\n",
        "                                          encoder_self_attention_mask.to(device), \n",
        "                                          decoder_self_attention_mask.to(device), \n",
        "                                          decoder_cross_attention_mask.to(device),\n",
        "                                          enc_start_token=False,\n",
        "                                          enc_end_token=False,\n",
        "                                          dec_start_token=True,\n",
        "                                          dec_end_token=False)\n",
        "                next_token_prob_distribution = predictions[0][word_counter] # not actual probs\n",
        "                next_token_index = torch.argmax(next_token_prob_distribution).item()\n",
        "                next_token = index_to_kannada[next_token_index]\n",
        "                kn_sentence = (kn_sentence[0] + next_token, )\n",
        "                if next_token == END_TOKEN:\n",
        "                  break\n",
        "            \n",
        "            print(f\"Evaluation translation (Where is the apple tree?) : {kn_sentence}\")\n",
        "            print(\"-------------------------------------------\")"
      ]
    },
    {
      "cell_type": "markdown",
      "metadata": {
        "id": "1nosVPGVijId"
      },
      "source": [
        "## Inference"
      ]
    },
    {
      "cell_type": "code",
      "execution_count": null,
      "metadata": {
        "id": "ZOQe-juylBiJ"
      },
      "outputs": [],
      "source": [
        "transformer.eval()\n",
        "def translate(eng_sentence):\n",
        "  eng_sentence = (eng_sentence,)\n",
        "  kn_sentence = (\"\",)\n",
        "  for word_counter in range(max_sequence_length):\n",
        "    encoder_self_attention_mask, decoder_self_attention_mask, decoder_cross_attention_mask= create_masks(eng_sentence, kn_sentence)\n",
        "    predictions = transformer(eng_sentence,\n",
        "                              kn_sentence,\n",
        "                              encoder_self_attention_mask.to(device), \n",
        "                              decoder_self_attention_mask.to(device), \n",
        "                              decoder_cross_attention_mask.to(device),\n",
        "                              enc_start_token=False,\n",
        "                              enc_end_token=False,\n",
        "                              dec_start_token=True,\n",
        "                              dec_end_token=False)\n",
        "    next_token_prob_distribution = predictions[0][word_counter]\n",
        "    next_token_index = torch.argmax(next_token_prob_distribution).item()\n",
        "    next_token = index_to_kannada[next_token_index]\n",
        "    kn_sentence = (kn_sentence[0] + next_token, )\n",
        "    if next_token == END_TOKEN:\n",
        "      break\n",
        "  return kn_sentence[0]"
      ]
    },
    {
      "cell_type": "code",
      "execution_count": null,
      "metadata": {
        "colab": {
          "base_uri": "https://localhost:8080/"
        },
        "id": "BDVH_YsxlK6q",
        "outputId": "83c47f99-53c0-4c2d-c26a-aaa426f50563"
      },
      "outputs": [
        {
          "name": "stdout",
          "output_type": "stream",
          "text": [
            "ಇದು ಸಂದು ಸಂದು ಸಂದು ಹೇಳಿಸಿದ್ದೇನ್ನು ಹೇಳಿಸಿದ್ದಾರೆ.<END>\n"
          ]
        }
      ],
      "source": [
        "translation = translate(\"what should we do when the day starts?\")\n",
        "print(translation)\n",
        "#ದಿನ ಪ್ರಾರಂಭವಾದಾಗ ನಾವು ಏನು ಮಾಡಬೇಕು?"
      ]
    },
    {
      "cell_type": "code",
      "execution_count": null,
      "metadata": {
        "colab": {
          "base_uri": "https://localhost:8080/"
        },
        "id": "l9yfawBnul0W",
        "outputId": "d9e6e6b7-683b-45f9-f013-c53c31038306"
      },
      "outputs": [
        {
          "name": "stdout",
          "output_type": "stream",
          "text": [
            "ಅದು ಸಂದು ಸಂದು ಹೇಳಿಸಿದು?<END>\n"
          ]
        }
      ],
      "source": [
        "translation = translate(\"how is this the truth?\")\n",
        "print(translation)\n",
        "#ಇದು ಹೇಗೆ ಸತ್ಯ"
      ]
    },
    {
      "cell_type": "code",
      "execution_count": null,
      "metadata": {
        "colab": {
          "base_uri": "https://localhost:8080/"
        },
        "id": "jpdYBk5-urcQ",
        "outputId": "ca7249c5-efda-4f41-f052-ecef9691be82"
      },
      "outputs": [
        {
          "name": "stdout",
          "output_type": "stream",
          "text": [
            "ಈ ಸಂದರು ಸಂದು ಸಂದಿ ಸಂದಿ ಸಂದಿ ಸಂದು ಸಂದಿದ್ದಾರೆ.<END>\n"
          ]
        }
      ],
      "source": [
        "translation = translate(\"the world is a large place with different people\")\n",
        "print(translation)\n",
        "#ಪ್ರಪಂಚವು ವಿಭಿನ್ನ ಜನರೊಂದಿಗೆ ದೊಡ್ಡ ಸ್ಥಳವಾಗಿದೆ"
      ]
    },
    {
      "cell_type": "code",
      "execution_count": null,
      "metadata": {
        "colab": {
          "base_uri": "https://localhost:8080/"
        },
        "id": "Ni9e2UYUuxi3",
        "outputId": "b93968e6-3f12-4794-b277-3a3821af221e"
      },
      "outputs": [
        {
          "name": "stdout",
          "output_type": "stream",
          "text": [
            "ಕ್ರಾನ್ನು ಸಂದಿ<END>\n"
          ]
        }
      ],
      "source": [
        "translation = translate(\"my name is ajay\")\n",
        "print(translation)\n",
        "#ನನ್ನ ಹೆಸರು ಅಜಯ್"
      ]
    },
    {
      "cell_type": "code",
      "execution_count": null,
      "metadata": {
        "colab": {
          "base_uri": "https://localhost:8080/"
        },
        "id": "sJuJKHqFldW3",
        "outputId": "71aa2c6c-ec77-4b02-d39b-bd724012fb53"
      },
      "outputs": [
        {
          "name": "stdout",
          "output_type": "stream",
          "text": [
            "ಅವರು ಸಂದು ಸಂದು ಸಂದಿ ಮಾಡಿದ್ದಾರೆ<END>\n"
          ]
        }
      ],
      "source": [
        "translation = translate(\"i cannot stand this smell\")\n",
        "print(translation)\n",
        "#ನಾನು ಈ ವಾಸನೆಯನ್ನು ಸಹಿಸುವುದಿಲ್ಲ"
      ]
    },
    {
      "cell_type": "code",
      "execution_count": null,
      "metadata": {
        "colab": {
          "base_uri": "https://localhost:8080/"
        },
        "id": "SxHC4Lirlfu8",
        "outputId": "5a3ca401-abac-41af-d9db-99fb7a57fe00"
      },
      "outputs": [
        {
          "name": "stdout",
          "output_type": "stream",
          "text": [
            "ಅವರು ಸ್ಥಿಕ್ಕೆ ಸಂದಿಸಿದ್ದಾರೆ<END>\n"
          ]
        }
      ],
      "source": [
        "translation = translate(\"noodles are the best\")\n",
        "print(translation)"
      ]
    },
    {
      "cell_type": "code",
      "execution_count": null,
      "metadata": {
        "colab": {
          "base_uri": "https://localhost:8080/"
        },
        "id": "mLVOSI0Oli16",
        "outputId": "9f9445a1-2802-4688-900c-d7ecf2bd5c35"
      },
      "outputs": [
        {
          "name": "stdout",
          "output_type": "stream",
          "text": [
            "ಅದು ಸಂದು ಸಂದು ಸಂದು?<END>\n"
          ]
        }
      ],
      "source": [
        "translation = translate(\"why care about this?\")\n",
        "print(translation)"
      ]
    },
    {
      "cell_type": "markdown",
      "metadata": {
        "id": "MStWCoAt0Ixp"
      },
      "source": [
        "This translated pretty well : \"What is the reason. Why\" without punctuation."
      ]
    },
    {
      "cell_type": "code",
      "execution_count": null,
      "metadata": {
        "colab": {
          "base_uri": "https://localhost:8080/"
        },
        "id": "AB6TEJfGlkRT",
        "outputId": "adb465d5-b0ed-4be4-9251-62c079f49491"
      },
      "outputs": [
        {
          "name": "stdout",
          "output_type": "stream",
          "text": [
            "ಅದರ ಸಂದು ಸಂದು ಸಂದು ಸಂದು ಮಾಡಿದ್ದಾರೆ.<END>\n"
          ]
        }
      ],
      "source": [
        "translation = translate(\"this is the best thing ever\")\n",
        "print(translation)\n",
        "# ಇದು ಎಂದೆಂದಿಗೂ ಉತ್ತಮವಾಗಿದೆ"
      ]
    },
    {
      "cell_type": "markdown",
      "metadata": {
        "id": "zxsUjSybxYkh"
      },
      "source": [
        "The translation : \"This is very unusual\""
      ]
    },
    {
      "cell_type": "code",
      "execution_count": null,
      "metadata": {
        "colab": {
          "base_uri": "https://localhost:8080/"
        },
        "id": "BQwDbuWBlmmA",
        "outputId": "7ae0e2c0-02c0-4c74-bc47-26b67da55a06"
      },
      "outputs": [
        {
          "name": "stdout",
          "output_type": "stream",
          "text": [
            "ಕೆಲ್ಲಿ ಕಾರಿ ಕ್ಷಿ<END>\n"
          ]
        }
      ],
      "source": [
        "translation = translate(\"i am here\")\n",
        "print(translation)\n",
        "# ನಾನು ಇಲ್ಲಿದ್ದೇನೆ"
      ]
    },
    {
      "cell_type": "markdown",
      "metadata": {
        "id": "fmyZ2-I6x0Yf"
      },
      "source": [
        "Translation: \"I have heard\". \n",
        "This is why word based translator may perform better than character translator. This is actually very good at optimizing the objective of the current transformer even though the translation is off."
      ]
    },
    {
      "cell_type": "code",
      "execution_count": null,
      "metadata": {
        "colab": {
          "base_uri": "https://localhost:8080/"
        },
        "id": "7ifeV4bGluIj",
        "outputId": "6bce922d-d0db-432c-e6c6-97d482f1dea6"
      },
      "outputs": [
        {
          "name": "stdout",
          "output_type": "stream",
          "text": [
            "ಕ್ಷ್ಟಿ ಕಾರ್ಯಾರಿ ಕಾಡಿ<END>\n"
          ]
        }
      ],
      "source": [
        "translation = translate(\"click this\")\n",
        "print(translation)\n",
        "# ಇದನ್ನು ಕ್ಲಿಕ್ ಮಾಡಿ"
      ]
    },
    {
      "cell_type": "code",
      "execution_count": null,
      "metadata": {
        "colab": {
          "base_uri": "https://localhost:8080/"
        },
        "id": "8RB5DUBEl1kD",
        "outputId": "9109e504-8b9e-45dc-e13c-e878b3741e4e"
      },
      "outputs": [
        {
          "name": "stdout",
          "output_type": "stream",
          "text": [
            "ಅದು ಸ್ರಿಕ್ಕೆ ಸ್ರಮಾಗಿದೆ?<END>\n"
          ]
        }
      ],
      "source": [
        "translation = translate(\"where is the mall?\")\n",
        "print(translation)"
      ]
    },
    {
      "cell_type": "code",
      "execution_count": null,
      "metadata": {
        "colab": {
          "base_uri": "https://localhost:8080/"
        },
        "id": "TdeJ9CvMn5LM",
        "outputId": "044b5dac-29a9-4b60-e66a-4e10739a9756"
      },
      "outputs": [
        {
          "name": "stdout",
          "output_type": "stream",
          "text": [
            "ಅದು ಸ್ರಿಕ್ಕೆ ಹೇಳಿಸಿದು?<END>\n"
          ]
        }
      ],
      "source": [
        "translation = translate(\"what should we do?\")\n",
        "print(translation)"
      ]
    },
    {
      "cell_type": "markdown",
      "metadata": {
        "id": "LoikFnov1rj-"
      },
      "source": [
        "This is correct; but it absolutely fumbles on the next one"
      ]
    },
    {
      "cell_type": "code",
      "execution_count": null,
      "metadata": {
        "colab": {
          "base_uri": "https://localhost:8080/"
        },
        "id": "7GFeyzrg1fIZ",
        "outputId": "2b4dfb04-def2-4725-9e76-5476bf85e2ef"
      },
      "outputs": [
        {
          "name": "stdout",
          "output_type": "stream",
          "text": [
            "ಅದರ ಸ್ಥಿಕ್ಕೆ ಸಂದು ಮಾಡಿದ್ದಾರೆ<END>\n"
          ]
        }
      ],
      "source": [
        "translation = translate(\"today, what should we do\")\n",
        "print(translation)"
      ]
    },
    {
      "cell_type": "code",
      "execution_count": null,
      "metadata": {
        "colab": {
          "base_uri": "https://localhost:8080/"
        },
        "id": "0upygLS-sXcO",
        "outputId": "53a62435-ab16-4d4c-8a9f-0bf07af2a501"
      },
      "outputs": [
        {
          "name": "stdout",
          "output_type": "stream",
          "text": [
            "ಅದು ಸಂದು ಸಂದು ಹೇಳಿಸಿದು?<END>\n"
          ]
        }
      ],
      "source": [
        "translation = translate(\"why did they activate?\")\n",
        "print(translation)\n",
        "# ಅವರು ಏಕೆ ಸಕ್ರಿಯಗೊಳಿಸಿದರು?"
      ]
    },
    {
      "cell_type": "code",
      "execution_count": null,
      "metadata": {
        "colab": {
          "base_uri": "https://localhost:8080/"
        },
        "id": "FSrsqEGmtcl2",
        "outputId": "1b8b8faa-5370-426a-f2f2-fe852696bf7a"
      },
      "outputs": [
        {
          "name": "stdout",
          "output_type": "stream",
          "text": [
            "ಅದು ಸಂದು ಸಂದು ಹೇಳಿಸಿದು?<END>\n"
          ]
        }
      ],
      "source": [
        "translation = translate(\"why did they do this?\")\n",
        "print(translation)\n",
        "# ಅವರು ಇದನ್ನು ಏಕೆ ಮಾಡಿದರು?"
      ]
    },
    {
      "cell_type": "markdown",
      "metadata": {
        "id": "f7ISM5rd3BLJ"
      },
      "source": [
        "That turned out well!"
      ]
    },
    {
      "cell_type": "code",
      "execution_count": null,
      "metadata": {
        "colab": {
          "base_uri": "https://localhost:8080/"
        },
        "id": "zjTcH2HFtyld",
        "outputId": "9dea5498-f139-4cbd-ee8c-6108e1b92fc4"
      },
      "outputs": [
        {
          "name": "stdout",
          "output_type": "stream",
          "text": [
            "ಅದರಿಂದ ಕಾಡಿದ್ದಾರೆ.<END>\n"
          ]
        }
      ],
      "source": [
        "translation = translate(\"i am well.\")\n",
        "print(translation)\n",
        "# ನಾನು ಆರಾಮವಾಗಿದ್ದೇನೆ"
      ]
    },
    {
      "cell_type": "markdown",
      "metadata": {
        "id": "cP0YX2g74eP7"
      },
      "source": [
        "Translation: \"I will give you something\""
      ]
    },
    {
      "cell_type": "code",
      "execution_count": null,
      "metadata": {
        "colab": {
          "base_uri": "https://localhost:8080/"
        },
        "id": "8pGdN13kt5Br",
        "outputId": "240256c5-f594-41b0-8218-2c70a22a156f"
      },
      "outputs": [
        {
          "name": "stdout",
          "output_type": "stream",
          "text": [
            "ಅದು ಸಂದು ಸಂದು ಸಂದು ಹೇಳಿಸಿದ್ದಾರೆ.<END>\n"
          ]
        }
      ],
      "source": [
        "translation = translate(\"whats the word on the street?\")\n",
        "print(translation)"
      ]
    },
    {
      "cell_type": "markdown",
      "metadata": {
        "id": "kFYZ6pOe4o-X"
      },
      "source": [
        "Kind of close semantically. Translation is something like: \"What is this about\""
      ]
    },
    {
      "cell_type": "markdown",
      "metadata": {
        "id": "BzrOcNUk1-e5"
      },
      "source": [
        "## Insights\n",
        "\n",
        "- When training, we can treat every alphabet as a single unit instead of splitting it into it's corresponding parts to preserve meaning. For example, ಮಾ should be 1 unit when comuting a loss. It should not be decomposed into ಮ + ఆ\n",
        "- Using word-based or BPE based tokenizations may help mitigate (1). Also, we will get valid word (or BPE) units if we do so. \n",
        "- Make sure the training set has a large variety of sentences that are not just about one topic like \"work\" and \"government\"\n",
        "- Increase the number of encoder / decoder units for better translations. It was set to the minimum of 1 of each unit here.\n",
        "- Create a translator with a language you understand ideally."
      ]
    },
    {
      "cell_type": "markdown",
      "metadata": {
        "id": "cd6_k0Uu5V7f"
      },
      "source": [
        "Overall, this model definately learned something. And you can use other languages instead of this kannada language and might see better luck"
      ]
    }
  ],
  "metadata": {
    "accelerator": "GPU",
    "colab": {
      "provenance": []
    },
    "gpuClass": "standard",
    "kernelspec": {
      "display_name": "Python 3",
      "name": "python3"
    },
    "language_info": {
      "codemirror_mode": {
        "name": "ipython",
        "version": 3
      },
      "file_extension": ".py",
      "mimetype": "text/x-python",
      "name": "python",
      "nbconvert_exporter": "python",
      "pygments_lexer": "ipython3",
      "version": "3.12.4"
    }
  },
  "nbformat": 4,
  "nbformat_minor": 0
}
