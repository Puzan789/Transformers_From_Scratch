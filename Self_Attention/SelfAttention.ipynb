{
 "cells": [
  {
   "cell_type": "code",
   "execution_count": 2,
   "metadata": {},
   "outputs": [],
   "source": [
    "import torch\n",
    "import numpy as np \n",
    "import math"
   ]
  },
  {
   "cell_type": "code",
   "execution_count": 47,
   "metadata": {},
   "outputs": [
    {
     "name": "stdout",
     "output_type": "stream",
     "text": [
      "Q \n",
      ":  [[-0.55395511  0.82502008  0.79312666  0.93502355  0.94040651  1.32711469\n",
      "   2.99105756  1.61259289]\n",
      " [ 1.18183394 -0.27102588  0.21885728  1.23194984  0.83240225 -1.58498227\n",
      "  -1.38170203 -0.79794461]\n",
      " [-0.97311106 -0.74447387 -1.5227077   1.04842902  0.96474213  1.48580703\n",
      "   0.35060976  0.3257337 ]\n",
      " [-0.40992938  0.15064996 -0.60365594  0.46851353  0.27601868 -0.0374708\n",
      "  -1.17497652 -1.82330622]]\n",
      "K \n",
      ":  [[-0.58539302 -0.35366709 -0.73088193 -2.02295724 -0.73671076 -0.2880188\n",
      "  -1.28145175  0.5196067 ]\n",
      " [-0.74790302 -1.74758247 -0.324164   -0.11396649  1.35995991 -0.25056458\n",
      "  -1.69990416 -0.18125099]\n",
      " [ 1.43321202  0.05270126 -0.6274147  -0.31572724  0.11764587 -0.1385194\n",
      "   0.34710975  1.06377522]\n",
      " [-0.51098319  0.36544485  1.85067388 -0.61070365 -0.64492664  1.59521044\n",
      "   0.96687671  0.40912034]]\n",
      "V \n",
      ":  [[ 0.43198323  0.3442155  -0.82618618 -0.05974258  0.62220363 -0.04605186\n",
      "  -0.51370884 -0.37818605]\n",
      " [ 0.98240257  0.72290569  1.00714515 -0.69670926  0.49843284 -0.82482702\n",
      "   0.19799292  1.40350247]\n",
      " [ 0.84468145  0.38533264  1.19028769  2.27584879  0.81044961  1.31839823\n",
      "  -0.05099404 -1.40881923]\n",
      " [ 0.67710633 -0.58769858 -1.50157493 -1.15556578 -1.85342158 -0.27530953\n",
      "  -0.90524367  1.12264815]]\n"
     ]
    }
   ],
   "source": [
    "L,d_k,d_v=4,8,8# L is length of sequence like (My name is Pujan)\n",
    "# d_k  is the size of the vector\n",
    "q=np.random.randn(L,d_k)# \n",
    "k=np.random.randn(L,d_k)\n",
    "v=np.random.randn(L,d_v)\n",
    "\n",
    "print(\"Q \\n: \",q)\n",
    "print(\"K \\n: \",k)\n",
    "print(\"V \\n: \",v)\n"
   ]
  },
  {
   "attachments": {
    "image.png": {
     "image/png": "[encoded data removed]"
    }
   },
   "cell_type": "markdown",
   "metadata": {},
   "source": [
    "### Self Attention\n",
    "![image.png](attachment:image.png)"
   ]
  },
  {
   "cell_type": "code",
   "execution_count": 5,
   "metadata": {},
   "outputs": [
    {
     "data": {
      "text/plain": [
       "array([[-1.87520245, -2.5586184 , -1.7401657 ,  0.65632392],\n",
       "       [ 1.98905919,  3.78393547,  1.10568201,  1.42581612],\n",
       "       [ 1.08018171, -1.40057782,  1.52037001, -1.55822046],\n",
       "       [-0.99578464, -1.29833552, -2.44531303,  0.03895151]])"
      ]
     },
     "execution_count": 5,
     "metadata": {},
     "output_type": "execute_result"
    }
   ],
   "source": [
    "np.matmul(q,k.T) # Transpose of K matrix\n"
   ]
  },
  {
   "cell_type": "code",
   "execution_count": 7,
   "metadata": {},
   "outputs": [
    {
     "data": {
      "text/plain": [
       "(0.6105695492685475, 0.9937172509709391, 3.2034740880197803)"
      ]
     },
     "execution_count": 7,
     "metadata": {},
     "output_type": "execute_result"
    }
   ],
   "source": [
    "# why we use  root dK  \n",
    "# we want to minimize the variance and stabilize the value of Q.kT \n",
    "q.var(),k.var(), np.matmul(q,k.T).var()"
   ]
  },
  {
   "cell_type": "code",
   "execution_count": 12,
   "metadata": {},
   "outputs": [
    {
     "name": "stdout",
     "output_type": "stream",
     "text": [
      "0.4004342610024725\n"
     ]
    }
   ],
   "source": [
    "# we want to minimize the variance and stabilize the value of Q.kT \n",
    "scaled=np.matmul(q,k.T)/math.sqrt(d_k)\n",
    "print(scaled.var())"
   ]
  },
  {
   "cell_type": "code",
   "execution_count": 31,
   "metadata": {},
   "outputs": [
    {
     "name": "stdout",
     "output_type": "stream",
     "text": [
      "[[-0.66298419 -0.90460821 -0.61524148  0.23204555]\n",
      " [ 0.70323862  1.33782321  0.39091762  0.50410212]\n",
      " [ 0.38190191 -0.49517904  0.53753197 -0.55091413]\n",
      " [-0.35206303 -0.45903093 -0.86454871  0.01377144]]\n"
     ]
    }
   ],
   "source": [
    "print(scaled)"
   ]
  },
  {
   "cell_type": "markdown",
   "metadata": {},
   "source": [
    "### Masking\n",
    "1. This is to ensure words dont get context of word generated in future words. \n",
    "2. Not required in the encoders , but required in the decoders"
   ]
  },
  {
   "cell_type": "code",
   "execution_count": null,
   "metadata": {},
   "outputs": [],
   "source": [
    "# Masking that is M in our formula\n",
    "# It is use in decoder part of the Transformer neural network\n",
    "# we dont look at a future word when trying to generate the current context of the current word \n"
   ]
  },
  {
   "cell_type": "code",
   "execution_count": 25,
   "metadata": {},
   "outputs": [
    {
     "data": {
      "text/plain": [
       "array([[1., 0., 0., 0.],\n",
       "       [1., 1., 0., 0.],\n",
       "       [1., 1., 1., 0.],\n",
       "       [1., 1., 1., 1.]])"
      ]
     },
     "execution_count": 25,
     "metadata": {},
     "output_type": "execute_result"
    }
   ],
   "source": [
    "mask=np.tril(np.ones((L,L))) # tril means triangular\n",
    "mask"
   ]
  },
  {
   "cell_type": "code",
   "execution_count": 28,
   "metadata": {},
   "outputs": [],
   "source": [
    "mask[mask==0]=-np.infty\n",
    "mask[mask==1]=0"
   ]
  },
  {
   "cell_type": "code",
   "execution_count": 30,
   "metadata": {},
   "outputs": [
    {
     "data": {
      "text/plain": [
       "array([[-0.66298419,        -inf,        -inf,        -inf],\n",
       "       [ 0.70323862,  1.33782321,        -inf,        -inf],\n",
       "       [ 0.38190191, -0.49517904,  0.53753197,        -inf],\n",
       "       [-0.35206303, -0.45903093, -0.86454871,  0.01377144]])"
      ]
     },
     "execution_count": 30,
     "metadata": {},
     "output_type": "execute_result"
    }
   ],
   "source": [
    "scaled+mask"
   ]
  },
  {
   "attachments": {
    "image.png": {
     "image/png": "[encoded data removed]"
    }
   },
   "cell_type": "markdown",
   "metadata": {},
   "source": [
    "#### Softmax\n",
    "![image.png](attachment:image.png)"
   ]
  },
  {
   "cell_type": "code",
   "execution_count": 32,
   "metadata": {},
   "outputs": [],
   "source": [
    "def softmax(x):\n",
    "    return(np.exp(x).T/np.sum(np.exp(x),axis=1)).T"
   ]
  },
  {
   "cell_type": "code",
   "execution_count": 35,
   "metadata": {},
   "outputs": [
    {
     "name": "stdout",
     "output_type": "stream",
     "text": [
      "[[1.         0.         0.         0.        ]\n",
      " [0.34647172 0.65352828 0.         0.        ]\n",
      " [0.3869386  0.1609647  0.4520967  0.        ]\n",
      " [0.25385376 0.22810144 0.15205962 0.36598518]]\n"
     ]
    }
   ],
   "source": [
    "attention=softmax(scaled+mask)\n",
    "print(attention)"
   ]
  },
  {
   "cell_type": "code",
   "execution_count": 37,
   "metadata": {},
   "outputs": [
    {
     "name": "stdout",
     "output_type": "stream",
     "text": [
      "[[0.18933439 0.14869403 0.19859298 0.4633786 ]\n",
      " [0.22535602 0.42507518 0.1649035  0.18466529]\n",
      " [0.33581461 0.13969735 0.39236374 0.13212431]\n",
      " [0.25385376 0.22810144 0.15205962 0.36598518]]\n"
     ]
    }
   ],
   "source": [
    "attention=softmax(scaled)\n",
    "print(attention)"
   ]
  },
  {
   "cell_type": "code",
   "execution_count": 51,
   "metadata": {},
   "outputs": [],
   "source": [
    "def softmax(x):\n",
    "    return(np.exp(x).T/np.sum(np.exp(x),axis=1)).T\n",
    "\n",
    "def scaled_dot_product_attention(q,k,v,mask=None):\n",
    "    d_k=q.shape[1]\n",
    "    scaled=np.matmul(q,k.T)/math.sqrt(d_k)\n",
    "    if mask is not None:\n",
    "        scaled=scaled+mask\n",
    "    attention=softmax(scaled)\n",
    "    out=np.matmul(attention,v)\n",
    "    return out ,attention\n"
   ]
  },
  {
   "cell_type": "code",
   "execution_count": 52,
   "metadata": {},
   "outputs": [],
   "source": [
    "L,d_k,d_v=4,8,8# L is length of sequence like (My name is Pujan)\n",
    "# d_k  is the size of the vector\n",
    "q=np.random.randn(L,d_k)# \n",
    "k=np.random.randn(L,d_k)\n",
    "v=np.random.randn(L,d_v)\n",
    "\n",
    "\n"
   ]
  },
  {
   "cell_type": "code",
   "execution_count": 54,
   "metadata": {},
   "outputs": [
    {
     "name": "stdout",
     "output_type": "stream",
     "text": [
      "Query: \n",
      " [[-0.50890205  2.26741462  1.58994094  0.53458132  0.99221333 -0.10893194\n",
      "  -0.25411243 -1.17493248]\n",
      " [-0.8288471   2.54448931 -1.103419   -0.33080962 -0.15897952  1.02691212\n",
      "  -0.85827741  0.63328057]\n",
      " [-1.32195809 -0.35308089  0.08815491  0.69059499 -0.05446759  0.51204664\n",
      "   0.54435708 -0.39291435]\n",
      " [-0.1536574  -0.56612232 -0.65992221  0.22013308 -0.85161224 -0.34953218\n",
      "  -2.32769497  0.61729503]]\n",
      "Key: \n",
      " [[-0.76107126  0.18424575  0.53538907  0.15506934  0.01362358 -0.70194706\n",
      "   0.72274107 -1.30569083]\n",
      " [-0.78406515 -0.6987215  -0.79943814  0.05955738 -0.66773494  0.2738859\n",
      "   0.48122215  0.10324447]\n",
      " [ 0.2548041   1.81484447 -1.20836493 -0.05173677  0.4700264  -0.80239036\n",
      "  -2.17670434 -0.50274301]\n",
      " [ 0.20448678  1.3812817   1.33878153  1.3790472   0.66753886  0.87517689\n",
      "  -0.0028487  -1.16912394]]\n",
      "value: \n",
      " [[-0.62173256  0.68366995 -0.74618884  1.9757276   0.18945134 -1.5557919\n",
      "   0.71762118  0.73724043]\n",
      " [ 0.2751813   0.5244728  -1.00052459  0.84342846  0.88710457 -1.05699934\n",
      "  -0.91968981 -0.07616873]\n",
      " [ 0.29946283 -1.87187147 -1.94252107 -0.41025868 -1.07341561  0.08630236\n",
      "   0.04986026  0.43779173]\n",
      " [ 0.64606835  0.14420167 -0.76687167  0.28324159 -1.85835504  0.2584034\n",
      "  -0.42333017  0.04691686]]\n",
      "New values \n",
      " [[-0.62173256  0.68366995 -0.74618884  1.9757276   0.18945134 -1.5557919\n",
      "   0.71762118  0.73724043]\n",
      " [-0.0580492   0.58361934 -0.9060312   1.26411168  0.62790539 -1.24231579\n",
      "  -0.31137949  0.22603726]\n",
      " [-0.1243054   0.35128254 -0.98266717  1.22295079  0.37437878 -1.16387117\n",
      "  -0.08696748  0.34081947]\n",
      " [ 0.25696954 -1.1796694  -1.63844775 -0.00291924 -0.6863145  -0.21000234\n",
      "  -0.10786551  0.34344872]]\n",
      "Attention \n",
      " [[1.         0.         0.         0.        ]\n",
      " [0.37153011 0.62846989 0.         0.        ]\n",
      " [0.44816403 0.44979024 0.10204573 0.        ]\n",
      " [0.06126639 0.17911562 0.70683688 0.05278111]]\n"
     ]
    }
   ],
   "source": [
    "values,attention=scaled_dot_product_attention(q,k,v,mask=mask)\n",
    "print(\"Query: \\n\",q)\n",
    "print(\"Key: \\n\",k)\n",
    "print(\"value: \\n\",v)\n",
    "print(\"New values \\n\",values)\n",
    "print(\"Attention \\n\",attention)\n"
   ]
  },
  {
   "cell_type": "code",
   "execution_count": null,
   "metadata": {},
   "outputs": [],
   "source": []
  }
 ],
 "metadata": {
  "kernelspec": {
   "display_name": "venv",
   "language": "python",
   "name": "python3"
  },
  "language_info": {
   "codemirror_mode": {
    "name": "ipython",
    "version": 3
   },
   "file_extension": ".py",
   "mimetype": "text/x-python",
   "name": "python",
   "nbconvert_exporter": "python",
   "pygments_lexer": "ipython3",
   "version": "3.12.4"
  }
 },
 "nbformat": 4,
 "nbformat_minor": 2
}
