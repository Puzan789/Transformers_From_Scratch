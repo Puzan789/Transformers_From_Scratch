{
 "cells": [
  {
   "cell_type": "code",
   "execution_count": 31,
   "metadata": {},
   "outputs": [],
   "source": [
    "import torch \n",
    "import torch.nn as nn\n",
    "import torch.nn.functional as F\n",
    "import math"
   ]
  },
  {
   "cell_type": "code",
   "execution_count": 32,
   "metadata": {},
   "outputs": [],
   "source": [
    "def scaled_dot_product(q,k,v,mask=None):\n",
    "    # q,k,v = 30  x 8 x 200 x64\n",
    "    d_k=q.size()[-1] # 64\n",
    "    scaled=torch.matmul(q,k.transpose(-1,-2))/math.sqrt(d_k) # 30 x 8 x 200 x 200\n",
    "    if mask is not None:\n",
    "        scaled+=mask\n",
    "    attention=F.softmax(scaled,dim=-1)# 30 x 8 x 200 x 200\n",
    "    values=torch.matmul(attention,v) # 30 x 8 x 200 x 64\n",
    "    return values,attention\n",
    "\n",
    "class MultiHeadAttention(nn.Module):\n",
    "    def __init__(self, d_model, num_heads):\n",
    "        super().__init__()\n",
    "        self.d_model=d_model#512\n",
    "        self.num_heads=num_heads#8\n",
    "        self.head_dim=d_model//num_heads#64\n",
    "        self.qkv_layer=nn.Linear(d_model,3*d_model)#512 x 1536\n",
    "        self.linear_layer=nn.Linear(d_model,d_model)#512 x 512\n",
    "    def forward(self,x,mask=None):\n",
    "        batch_size,sequence_length ,id_model=x.size() # 30 x 200 x 512\n",
    "        qkv=self.qkv_layer(x)# 30 x 200 x 1536\n",
    "        qkv=qkv.reshape(batch_size,sequence_length,self.num_heads,3*self.head_dim)# 30 X 200 x 8 x 192\n",
    "        qkv=qkv.permute(0,2,1,3)# 30 x 8 x 200 x 192\n",
    "        q,k,v=qkv.chunk(3,dim=-1)# into 3 parts break according to last dimension each are 30 x 8 x 200 x 64\n",
    "        values,attention=scaled_dot_product(q,k,v,mask)# 30 x 8 x200 x 200 and values  30 x 8 x 200 x64\n",
    "        values=values.reshape(batch_size,sequence_length,self.num_heads*self.head_dim) # 30 x 200 x 512\n",
    "        out=self.linear_layer(values)\n",
    "        return out\n",
    "\n",
    "class LayerNormalization(nn.Module):\n",
    "    def __init__(self,parameters_shape,eps=1e-5):\n",
    "        super().__init__()\n",
    "        self.parameters_shape = parameters_shape# it will be embedding dimension i.e 512\n",
    "        self.eps = eps # very small epsilon  we use this to avoid division by zero error\n",
    "        self.gamma = nn.Parameter(torch.ones(parameters_shape)) # they are learnable parameters which gonnabe update these are 512 dimension #represent std dimension\n",
    "        self.beta = nn.Parameter(torch.zeros(parameters_shape))# same as above# represent mean of values they are learn continously\n",
    "\n",
    "    def forward(self, inputs):# input = 30 x 200 x 512\n",
    "        dims=[-(i+1) for i in range(len(self.parameters_shape))] # last dimension to perform layer normalization it will calculate\n",
    "        mean=inputs.mean(dim=dims,keepdim=True)# instead of getting 30 x 200 we use keep_dim which will give 30 x 200 x 1\n",
    "        variances=((inputs-mean)**2).mean(dim=dims,keepdim=True)# calculate variance # 30 x 200 x 1\n",
    "        std=(variances+self.eps).sqrt() # 30 x 200 x 1\n",
    "        y=(inputs-mean)/std # 30 x 200 x 512 \n",
    "        out=self.gamma * y + self.beta#30 x 200 x 512 # we have 512 learnable parameters ingamma and 512 learnable parameters in beta\n",
    "        return out\n",
    "\n",
    "class PositionWiseFeedForward(nn.Module):\n",
    "    def __init__(self, d_model,hidden,drop_prob=0.1):\n",
    "        super(PositionWiseFeedForward, self).__init__()     \n",
    "        self.linear1 = nn.Linear(d_model, hidden)# 512 x 2048\n",
    "        self.linear2 = nn.Linear(hidden, d_model)# 2048 x 512\n",
    "        self.relu=nn.ReLU() # negative =0 postive x\n",
    "        self.dropout=nn.Dropout(p=drop_prob) # dropout randomly   \n",
    "    \n",
    "    def forward(self, x):# 30  x 200 x 512\n",
    "        x=self.linear1(x)# 30 x 200 x 2048\n",
    "        x=self.relu(x)# 30 x 200 x 2048\n",
    "        x=self.dropout(x)# 30 x 200 x 2048\n",
    "        x=self.linear2(x)# 30 x 200 x 512\n",
    "        return x\n",
    "        \n",
    "             "
   ]
  },
  {
   "cell_type": "code",
   "execution_count": 33,
   "metadata": {},
   "outputs": [],
   "source": [
    "class EncoderLayer(nn.Module):\n",
    "    def __init__(self, d_model, ffn_hidden, num_heads, drop_prob):\n",
    "        super(EncoderLayer,self).__init__()\n",
    "        self.attention=MultiHeadAttention(d_model=d_model,num_heads=num_heads)\n",
    "        self.norm1=LayerNormalization(parameters_shape=[d_model])\n",
    "        self.dropout1=nn.Dropout(p=drop_prob)\n",
    "        self.ffn=PositionWiseFeedForward(d_model=d_model,hidden=ffn_hidden,drop_prob=drop_prob)\n",
    "        self.norm2=LayerNormalization(parameters_shape=[d_model])\n",
    "        self.dropout2=nn.Dropout(p=drop_prob)\n",
    "\n",
    "    def forward(self,x):\n",
    "        residual_x=x #30 x 200 x 512\n",
    "        x=self.attention(x,mask=None)# 30 x 200 x 512\n",
    "        x=self.dropout1(x)# 30 x 200 x 512\n",
    "        x=self.norm1(x+residual_x)\n",
    "        residual_x=x\n",
    "        x=self.ffn(x)\n",
    "        x=self.dropout2(x)\n",
    "        x=self.norm2(x+residual_x)\n",
    "        return x\n",
    "\n"
   ]
  },
  {
   "cell_type": "code",
   "execution_count": 34,
   "metadata": {},
   "outputs": [],
   "source": [
    "class Encoder(nn.Module):\n",
    "    def __init__(self, d_model,ffn_hidden,num_heads,drop_prob,num_layers):\n",
    "        super().__init__()\n",
    "        self.layers=nn.Sequential(*[EncoderLayer(d_model,ffn_hidden,num_heads,drop_prob) for _ in range(num_layers)])\n",
    "\n",
    "    def forward(self, x):\n",
    "        x=self.layers(x)\n",
    "        return x\n",
    "                                  \n",
    "\n",
    "        "
   ]
  },
  {
   "cell_type": "markdown",
   "metadata": {},
   "source": [
    "The *layers_list syntax unpacks the list into individual EncoderLayer instances. This is equivalent to passing each layer as a separate argument to the nn.Sequential constructor. In other words, if layers_list is [layer1, layer2, layer3], then nn.Sequential(*layers_list) is equivalent to nn.Sequential(layer1, layer2, layer3)"
   ]
  },
  {
   "cell_type": "code",
   "execution_count": 35,
   "metadata": {},
   "outputs": [],
   "source": [
    "d_model = 512\n",
    "num_heads = 8\n",
    "drop_prob = 0.1\n",
    "batch_size = 30\n",
    "max_sequence_length = 200\n",
    "ffn_hidden = 2048\n",
    "num_layers = 5\n",
    "\n",
    "encoder = Encoder(d_model, ffn_hidden, num_heads, drop_prob, num_layers)\n"
   ]
  },
  {
   "cell_type": "code",
   "execution_count": 36,
   "metadata": {},
   "outputs": [],
   "source": [
    "x=torch.randn((batch_size,max_sequence_length,d_model))\n",
    "out=encoder(x)"
   ]
  },
  {
   "cell_type": "code",
   "execution_count": 38,
   "metadata": {},
   "outputs": [
    {
     "data": {
      "text/plain": [
       "torch.Size([30, 200, 512])"
      ]
     },
     "execution_count": 38,
     "metadata": {},
     "output_type": "execute_result"
    }
   ],
   "source": [
    "out.size()"
   ]
  },
  {
   "cell_type": "code",
   "execution_count": null,
   "metadata": {},
   "outputs": [],
   "source": []
  }
 ],
 "metadata": {
  "kernelspec": {
   "display_name": "venv",
   "language": "python",
   "name": "python3"
  },
  "language_info": {
   "codemirror_mode": {
    "name": "ipython",
    "version": 3
   },
   "file_extension": ".py",
   "mimetype": "text/x-python",
   "name": "python",
   "nbconvert_exporter": "python",
   "pygments_lexer": "ipython3",
   "version": "3.12.4"
  }
 },
 "nbformat": 4,
 "nbformat_minor": 2
}
