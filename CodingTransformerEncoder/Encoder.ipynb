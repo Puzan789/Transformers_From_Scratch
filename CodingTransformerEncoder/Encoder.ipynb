{
 "cells": [
  {
   "cell_type": "code",
   "execution_count": 3,
   "metadata": {},
   "outputs": [],
   "source": [
    "import torch \n",
    "import torch.nn as nn\n",
    "import torch.functional as F\n",
    "import math"
   ]
  },
  {
   "cell_type": "code",
   "execution_count": 5,
   "metadata": {},
   "outputs": [],
   "source": [
    "def scaled_dot_product(q,k,v,mask=None):\n",
    "    d_k=q.size()[-1]\n",
    "    scaled=torch.matmul(q,k.transpose(-1,-2))/math.sqrt(d_k)\n",
    "    if mask is not None:\n",
    "        scaled+=mask\n",
    "    attention=F.softmax(scaled,dim=-1)\n",
    "    values=torch.matmul(attention,v)\n",
    "    return values,attention\n",
    "\n",
    "class MultiHeadAttention(nn.Module):\n",
    "    def __init__(self, d_model, num_heads):\n",
    "        super().__init__()\n",
    "        self.d_model=d_model\n",
    "        self.num_heads=num_heads\n",
    "        self.head_dim=d_model//num_heads\n",
    "        self.qkv_layer=nn.Linear(d_model,3*d_model)\n",
    "        self.linear_layer=nn.Linear(d_model,d_model)\n",
    "    def forward(self,x,mask=None):\n",
    "        batch_size,sequence_length ,id_model=x.size()\n",
    "        qkv=self.qkv_layer(x)\n",
    "        qkv=qkv.reshape(batch_size,sequence_length,self.num_heads,3*self.head_dim)\n",
    "        qkv=qkv.permute(0,2,1,3)\n",
    "        q,k,v=qkv.chunk(2,dim=-1)\n",
    "        values,attention=scaled_dot_product(q,k,v,mask)\n",
    "        values=values.reshape(batch_size,sequence_length,self.num_heads*self.head_dim)\n",
    "        out=self.linear_layer(values)\n",
    "\n",
    "\n",
    "\n",
    "\n",
    "       "
   ]
  },
  {
   "cell_type": "code",
   "execution_count": 2,
   "metadata": {},
   "outputs": [],
   "source": [
    "class EncoderLayer(nn.Module):\n",
    "    def __init__(self, d_model, ffn_hidden, num_heads, drop_prob):\n",
    "        super(EncoderLayer).__init__()\n",
    "        self.attention=MultiHeadAttention(d_model=d_model,num_heads=num_heads)\n",
    "        self.norm1=LayerNormalization(parameters_shape[d_model])\n",
    "        self.dropout1=nn.Dropout(p=drop_prob)\n",
    "        self.ffn=PositionWiseFeedForward(parameters_shape[d_model])\n",
    "        self.norm2=LayerNormalization(parameters_shape[d_model])\n",
    "        self.dropout2=nn.Dropout(p=drop_prob)\n",
    "\n",
    "    def forward(self,x):\n",
    "        residual_x=x\n",
    "        x=self.attention(x,mask=none)\n",
    "        x=self.dropout1(x)\n",
    "        x=self.norm1(x+residual_x)\n",
    "        residual_x=x\n",
    "        x=self.ffn(x)\n",
    "        x=self.dropout2(x)\n",
    "        x=self.norm2(x+residual_x)\n",
    "        return x\n",
    "\n",
    "                                         \n",
    "        \n",
    "        "
   ]
  },
  {
   "cell_type": "code",
   "execution_count": null,
   "metadata": {},
   "outputs": [],
   "source": [
    "class Encoder(nn.Module):\n",
    "    def __init__(self, d_model,ffn_hidden,num_heads,drop_prob,num_layers):\n",
    "        super().__init__()\n",
    "        self.layers=nn.Sequential(*[EncoderLayer(d_model,ffn_hidden,num_heads,drop_prob) for _ in range(num_layers)])\n",
    "\n",
    "    def forward(self, x):\n",
    "        x=self.layers(x)\n",
    "        return x\n",
    "                                  \n",
    "\n",
    "        "
   ]
  },
  {
   "cell_type": "markdown",
   "metadata": {},
   "source": [
    "The *layers_list syntax unpacks the list into individual EncoderLayer instances. This is equivalent to passing each layer as a separate argument to the nn.Sequential constructor. In other words, if layers_list is [layer1, layer2, layer3], then nn.Sequential(*layers_list) is equivalent to nn.Sequential(layer1, layer2, layer3)"
   ]
  },
  {
   "cell_type": "code",
   "execution_count": null,
   "metadata": {},
   "outputs": [],
   "source": []
  }
 ],
 "metadata": {
  "kernelspec": {
   "display_name": "venv",
   "language": "python",
   "name": "python3"
  },
  "language_info": {
   "codemirror_mode": {
    "name": "ipython",
    "version": 3
   },
   "file_extension": ".py",
   "mimetype": "text/x-python",
   "name": "python",
   "nbconvert_exporter": "python",
   "pygments_lexer": "ipython3",
   "version": "3.12.4"
  }
 },
 "nbformat": 4,
 "nbformat_minor": 2
}
